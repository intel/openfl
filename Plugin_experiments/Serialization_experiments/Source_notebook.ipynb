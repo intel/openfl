{
 "cells": [
  {
   "cell_type": "code",
   "execution_count": 1,
   "id": "suburban-director",
   "metadata": {},
   "outputs": [],
   "source": [
    "%load_ext autoreload\n",
    "%autoreload 2"
   ]
  },
  {
   "cell_type": "code",
   "execution_count": 2,
   "id": "prime-parliament",
   "metadata": {
    "scrolled": true
   },
   "outputs": [
    {
     "name": "stdout",
     "output_type": "stream",
     "text": [
      "/home/davidyuk/.virtualenvs/dill_source/bin/python\r\n"
     ]
    }
   ],
   "source": [
    "base_dir = set(dir())\n",
    "\n",
    "!which python"
   ]
  },
  {
   "cell_type": "code",
   "execution_count": 3,
   "id": "contemporary-bride",
   "metadata": {},
   "outputs": [],
   "source": [
    "import dill"
   ]
  },
  {
   "cell_type": "markdown",
   "id": "cleared-affiliate",
   "metadata": {},
   "source": [
    "# Pytorch Model"
   ]
  },
  {
   "cell_type": "code",
   "execution_count": 4,
   "id": "north-acoustic",
   "metadata": {},
   "outputs": [
    {
     "data": {
      "text/plain": [
       "'1.8.1+cu102'"
      ]
     },
     "execution_count": 4,
     "metadata": {},
     "output_type": "execute_result"
    }
   ],
   "source": [
    "import torch\n",
    "torch.__version__"
   ]
  },
  {
   "cell_type": "code",
   "execution_count": 5,
   "id": "overhead-republican",
   "metadata": {},
   "outputs": [],
   "source": [
    "model = torch.nn.Conv2d(3,100,3)\n",
    "with open('model.pkl', 'wb') as f:\n",
    "    dill.dump(model, f, )"
   ]
  },
  {
   "cell_type": "markdown",
   "id": "metropolitan-biodiversity",
   "metadata": {},
   "source": [
    "# Local functions"
   ]
  },
  {
   "cell_type": "code",
   "execution_count": 5,
   "id": "floppy-numbers",
   "metadata": {},
   "outputs": [],
   "source": [
    "from local_module import func_from_module\n",
    "\n",
    "def session_func():\n",
    "    print('I will cause problems')\n",
    "    \n",
    "def func_to_serialize():\n",
    "    print('Starting to execute serialized func')\n",
    "    func_from_module()\n",
    "    \n",
    "    \n",
    "# with open('func.pkl', 'wb') as f:\n",
    "#     dill.dump(func_to_serialize, f)"
   ]
  },
  {
   "cell_type": "code",
   "execution_count": 6,
   "id": "blank-coordinate",
   "metadata": {},
   "outputs": [],
   "source": [
    "dill.dump_session('./session')"
   ]
  },
  {
   "cell_type": "code",
   "execution_count": null,
   "id": "difficult-hungary",
   "metadata": {},
   "outputs": [],
   "source": []
  }
 ],
 "metadata": {
  "kernelspec": {
   "display_name": "Python 3",
   "language": "python",
   "name": "python3"
  },
  "language_info": {
   "codemirror_mode": {
    "name": "ipython",
    "version": 3
   },
   "file_extension": ".py",
   "mimetype": "text/x-python",
   "name": "python",
   "nbconvert_exporter": "python",
   "pygments_lexer": "ipython3",
   "version": "3.8.5"
  }
 },
 "nbformat": 4,
 "nbformat_minor": 5
}
