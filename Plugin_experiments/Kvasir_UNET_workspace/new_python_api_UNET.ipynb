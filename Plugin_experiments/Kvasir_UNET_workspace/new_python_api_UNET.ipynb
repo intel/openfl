{
 "cells": [
  {
   "cell_type": "markdown",
   "id": "liquid-jacket",
   "metadata": {},
   "source": [
    "# Federated PyTorch UNET Tutorial\n",
    "## Using low-level Python API"
   ]
  },
  {
   "cell_type": "code",
   "execution_count": 1,
   "id": "continuing-seminar",
   "metadata": {},
   "outputs": [],
   "source": [
    "%load_ext autoreload\n",
    "%autoreload 2"
   ]
  },
  {
   "cell_type": "code",
   "execution_count": 2,
   "id": "alike-sharing",
   "metadata": {
    "scrolled": true
   },
   "outputs": [
    {
     "name": "stdout",
     "output_type": "stream",
     "text": [
      "Requirement already satisfied: torch in /home/davidyuk/.virtualenvs/openfl/lib/python3.8/site-packages (1.7.1)\r\n",
      "Requirement already satisfied: numpy in /home/davidyuk/.virtualenvs/openfl/lib/python3.8/site-packages (from torch) (1.20.1)\r\n",
      "Requirement already satisfied: typing-extensions in /home/davidyuk/.virtualenvs/openfl/lib/python3.8/site-packages (from torch) (3.7.4.3)\r\n"
     ]
    }
   ],
   "source": [
    "# Install dependencies if not already installed\n",
    "!pip install torch"
   ]
  },
  {
   "cell_type": "markdown",
   "id": "caring-distinction",
   "metadata": {},
   "source": [
    "### Describe the model and optimizer"
   ]
  },
  {
   "cell_type": "code",
   "execution_count": 9,
   "id": "visible-victor",
   "metadata": {},
   "outputs": [],
   "source": [
    "import torch.nn as nn\n",
    "import torch.optim as optim\n",
    "from layers import down, up, double_conv, soft_dice_coef, soft_dice_loss"
   ]
  },
  {
   "cell_type": "code",
   "execution_count": 10,
   "id": "foreign-gospel",
   "metadata": {},
   "outputs": [],
   "source": [
    "class UNet(nn.Module):\n",
    "    def __init__(self, n_channels=3, n_classes=1):\n",
    "        super().__init__()\n",
    "        self.inc = double_conv(n_channels, 64)\n",
    "        self.down1 = down(64, 128)\n",
    "        self.down2 = down(128, 256)\n",
    "        self.down3 = down(256, 512)\n",
    "        self.down4 = down(512, 1024)\n",
    "        self.up1 = up(1024, 512)\n",
    "        self.up2 = up(512, 256)\n",
    "        self.up3 = up(256, 128)\n",
    "        self.up4 = up(128, 64)\n",
    "        self.outc = nn.Conv2d(64, n_classes, 1)\n",
    "\n",
    "    def forward(self, x):\n",
    "        x1 = self.inc(x)\n",
    "        x2 = self.down1(x1)\n",
    "        x3 = self.down2(x2)\n",
    "        x4 = self.down3(x3)\n",
    "        x5 = self.down4(x4)\n",
    "        x = self.up1(x5, x4)\n",
    "        x = self.up2(x, x3)\n",
    "        x = self.up3(x, x2)\n",
    "        x = self.up4(x, x1)\n",
    "        x = self.outc(x)\n",
    "        x = torch.sigmoid(x)\n",
    "        return x\n",
    "    \n",
    "model_unet = UNet()"
   ]
  },
  {
   "cell_type": "code",
   "execution_count": 13,
   "id": "greater-activation",
   "metadata": {},
   "outputs": [],
   "source": [
    "optimizer_adam = optim.Adam(model_unet.parameters(), lr=1e-3)"
   ]
  },
  {
   "cell_type": "markdown",
   "id": "insured-metallic",
   "metadata": {},
   "source": [
    "### Prepare data"
   ]
  },
  {
   "cell_type": "markdown",
   "id": "essential-remainder",
   "metadata": {},
   "source": [
    "We ask user to keep all the test data in `data/` folder under the workspace as it will not be sent to collaborators"
   ]
  },
  {
   "cell_type": "code",
   "execution_count": 40,
   "id": "blind-circuit",
   "metadata": {},
   "outputs": [],
   "source": [
    "import os\n",
    "from hashlib import sha384\n",
    "from torch.utils.data import Dataset, DataLoader\n",
    "from torchvision import transforms as tsf\n",
    "from skimage import io"
   ]
  },
  {
   "cell_type": "code",
   "execution_count": 41,
   "id": "recorded-input",
   "metadata": {
    "scrolled": true
   },
   "outputs": [
    {
     "name": "stdout",
     "output_type": "stream",
     "text": [
      "File ‘./data/kvasir.zip’ already there; not retrieving.\n",
      "Archive:  ./data/kvasir.zip\n"
     ]
    }
   ],
   "source": [
    "os.makedirs('data', exist_ok=True)\n",
    "!wget -nc 'https://datasets.simula.no/hyper-kvasir/hyper-kvasir-segmented-images.zip' -O ./data/kvasir.zip\n",
    "ZIP_SHA384 = 'e30d18a772c6520476e55b610a4db457237f151e'\\\n",
    "    '19182849d54b49ae24699881c1e18e0961f77642be900450ef8b22e7'\n",
    "assert sha384(open('./data/kvasir.zip', 'rb').read(\n",
    "    os.path.getsize('./data/kvasir.zip'))).hexdigest() == ZIP_SHA384\n",
    "!unzip -n ./data/kvasir.zip -d ./data"
   ]
  },
  {
   "cell_type": "code",
   "execution_count": 56,
   "id": "prepared-israel",
   "metadata": {},
   "outputs": [],
   "source": [
    "DATA_PATH = './data/segmented-images/'\n",
    "\n",
    "def read_data(image_path, mask_path):\n",
    "    \"\"\"\n",
    "    Read image and mask from disk.\n",
    "    \"\"\"\n",
    "    img = io.imread(image_path)\n",
    "    assert(img.shape[2] == 3)\n",
    "    mask = io.imread(mask_path)\n",
    "    return (img, mask[:, :, 0].astype(np.uint8))\n",
    "\n",
    "\n",
    "class KvasirDataset(Dataset):\n",
    "    \"\"\"\n",
    "    Kvasir dataset contains 1000 images for all collaborators.\n",
    "    Args:\n",
    "        data_path: path to dataset on disk\n",
    "        collaborator_count: total number of collaborators\n",
    "        collaborator_num: number of current collaborator\n",
    "        is_validation: validation option\n",
    "    \"\"\"\n",
    "\n",
    "#     def __init__(self, data_path, collaborator_count, collaborator_num, is_validation):\n",
    "    def __init__(self, images_path = './data/segmented-images/images/', \\\n",
    "                        masks_path = './data/segmented-images/masks/'):\n",
    "\n",
    "        self.images_path = images_path\n",
    "        self.masks_path = masks_path\n",
    "        self.images_names = [img_name for img_name in sorted(listdir(\n",
    "            self.images_path)) if len(img_name) > 3 and img_name[-3:] == 'jpg']\n",
    "\n",
    "        assert(len(self.images_names) > 8)\n",
    "        \n",
    "        # Prepare transforms\n",
    "        self.img_trans = tsf.Compose([\n",
    "            tsf.ToPILImage(),\n",
    "            tsf.Resize((332, 332)),\n",
    "            tsf.ToTensor(),\n",
    "            tsf.Normalize(mean=[0.5, 0.5, 0.5], std=[0.5, 0.5, 0.5])])\n",
    "        self.mask_trans = tsf.Compose([\n",
    "            tsf.ToPILImage(),\n",
    "            tsf.Resize((332, 332), interpolation=PIL.Image.NEAREST),\n",
    "            tsf.ToTensor()])\n",
    "        \n",
    "\n",
    "    def __getitem__(self, index):\n",
    "        name = self.images_names[index]\n",
    "        img, mask = read_data(self.images_path + name, self.masks_path + name)\n",
    "        img = self.img_trans(img).numpy()\n",
    "        mask = self.mask_trans(mask).numpy()\n",
    "        return img, mask\n",
    "\n",
    "    def __len__(self):\n",
    "        return len(self.images_names)"
   ]
  },
  {
   "cell_type": "markdown",
   "id": "portuguese-groove",
   "metadata": {},
   "source": [
    "### Define Federated Learning tasks"
   ]
  },
  {
   "cell_type": "code",
   "execution_count": 47,
   "id": "enclosed-abuse",
   "metadata": {},
   "outputs": [],
   "source": [
    "def function_defined_in_notebook():\n",
    "    print('I will cause problems')\n",
    "\n",
    "    \n",
    "    \n",
    "def train(unet_model, train_loader, optimizer, device, loss_fn=soft_dice_loss):\n",
    "    \n",
    "    function_defined_in_notebook()\n",
    "    \n",
    "    unet_model.train()\n",
    "    unet_model.to(device)\n",
    "\n",
    "    losses = []\n",
    "\n",
    "    for data, target in train_loader:\n",
    "        data, target = pt.tensor(data).to(device), pt.tensor(\n",
    "            target).to(device, dtype=pt.float32)\n",
    "        optimizer.zero_grad()\n",
    "        output = unet_model(data)\n",
    "        loss = loss_fn(output=output, target=target)\n",
    "        loss.backward()\n",
    "        optimizer.step()\n",
    "        losses.append(loss.detach().cpu().numpy())\n",
    "        \n",
    "    return {'train_loss': np.mean(losses),}\n",
    "\n",
    "\n",
    "def validate(unet_model, val_loader, device):\n",
    "    unet_model.eval()\n",
    "    unet_model.to(device)\n",
    "\n",
    "    val_score = 0\n",
    "    total_samples = 0\n",
    "\n",
    "    with torch.no_grad():\n",
    "        for data, target in val_loader:\n",
    "            samples = target.shape[0]\n",
    "            total_samples += samples\n",
    "            data, target = torch.tensor(data).to(device), \\\n",
    "                torch.tensor(target).to(device, dtype=torch.int64)\n",
    "            output = unet_model(data)\n",
    "            val = soft_dice_coef(output, target)\n",
    "            val_score += val.sum().cpu().numpy()\n",
    "            \n",
    "    return {'dice_coef': val_score / total_samples,}"
   ]
  },
  {
   "cell_type": "code",
   "execution_count": null,
   "id": "secure-protest",
   "metadata": {},
   "outputs": [],
   "source": []
  },
  {
   "cell_type": "markdown",
   "id": "obvious-tyler",
   "metadata": {},
   "source": [
    "## Describing FL experiment"
   ]
  },
  {
   "cell_type": "code",
   "execution_count": 57,
   "id": "rubber-address",
   "metadata": {},
   "outputs": [
    {
     "name": "stderr",
     "output_type": "stream",
     "text": [
      "/home/davidyuk/.virtualenvs/openfl/lib/python3.8/site-packages/torch/cuda/__init__.py:52: UserWarning: CUDA initialization: Found no NVIDIA driver on your system. Please check that you have an NVIDIA GPU and installed a driver from http://www.nvidia.com/Download/index.aspx (Triggered internally at  /pytorch/c10/cuda/CUDAFunctions.cpp:100.)\n",
      "  return torch._C._cuda_getDeviceCount() > 0\n"
     ]
    }
   ],
   "source": [
    "from openfl.interface.python_api.experiment import TaskInterface, DataInterface, ModelInterface, FLExperiment"
   ]
  },
  {
   "cell_type": "markdown",
   "id": "caroline-passion",
   "metadata": {},
   "source": [
    "### Register model"
   ]
  },
  {
   "cell_type": "code",
   "execution_count": 60,
   "id": "handled-teens",
   "metadata": {},
   "outputs": [],
   "source": [
    "framework_adapter = 'openfl.plugins.frameworks_adapters.pytorch_adapter.FrameworkAdapterPlugin'\n",
    "MI = ModelInterface(model=model_unet, optimizer=optimizer_adam, framework_plugin=framework_adapter)"
   ]
  },
  {
   "cell_type": "markdown",
   "id": "sustainable-public",
   "metadata": {},
   "source": [
    "### Register dataset"
   ]
  },
  {
   "cell_type": "code",
   "execution_count": null,
   "id": "pressing-poster",
   "metadata": {},
   "outputs": [],
   "source": [
    "k = KvasirDataset\n",
    "\n",
    "class Federated_dataset(DataInterface):\n",
    "    def __init__(self, k):\n",
    "        pass\n",
    "    \n",
    "    def init_kvasir(self):\n",
    "        super().__init__()\n",
    "        \n",
    "        pass"
   ]
  },
  {
   "cell_type": "code",
   "execution_count": 11,
   "id": "anticipated-coverage",
   "metadata": {},
   "outputs": [
    {
     "name": "stdout",
     "output_type": "stream",
     "text": [
      "third\n"
     ]
    }
   ],
   "source": [
    "class first:\n",
    "    def __init__(self):\n",
    "        print('first')\n",
    "        \n",
    "class second:\n",
    "    def __init__(self):\n",
    "        print('second')\n",
    "        \n",
    "        \n",
    "class third(first, second):\n",
    "    def __init__(self):\n",
    "        print('third')\n",
    "        \n",
    "    def init(self):\n",
    "        super().__init__()\n",
    "        \n",
    "        \n",
    "thrd = third()"
   ]
  },
  {
   "cell_type": "code",
   "execution_count": 12,
   "id": "verbal-newton",
   "metadata": {},
   "outputs": [
    {
     "name": "stdout",
     "output_type": "stream",
     "text": [
      "first\n"
     ]
    }
   ],
   "source": [
    "thrd.init()"
   ]
  },
  {
   "cell_type": "code",
   "execution_count": null,
   "id": "concerned-grove",
   "metadata": {},
   "outputs": [],
   "source": []
  }
 ],
 "metadata": {
  "kernelspec": {
   "display_name": "Python 3",
   "language": "python",
   "name": "python3"
  },
  "language_info": {
   "codemirror_mode": {
    "name": "ipython",
    "version": 3
   },
   "file_extension": ".py",
   "mimetype": "text/x-python",
   "name": "python",
   "nbconvert_exporter": "python",
   "pygments_lexer": "ipython3",
   "version": "3.8.5"
  }
 },
 "nbformat": 4,
 "nbformat_minor": 5
}
