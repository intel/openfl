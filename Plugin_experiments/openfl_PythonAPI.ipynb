{
 "cells": [
  {
   "cell_type": "code",
   "execution_count": 2,
   "id": "consistent-pickup",
   "metadata": {},
   "outputs": [],
   "source": [
    "# %load_ext autoreload\n",
    "# %autoreload 2"
   ]
  },
  {
   "cell_type": "markdown",
   "id": "secondary-albany",
   "metadata": {},
   "source": [
    "# Tasks registering"
   ]
  },
  {
   "cell_type": "code",
   "execution_count": 3,
   "id": "excessive-oliver",
   "metadata": {},
   "outputs": [],
   "source": [
    "@TI.add_kwargs(**{'bs': 32})\n",
    "@TI.register_fl_task(model='a', data_loader='b', device=None, optimizer=None)\n",
    "def fl_task(a, b=1, **kwargs):\n",
    "    print(\"I am in the body of the task\")\n",
    "    print(a, b, '\\n')"
   ]
  },
  {
   "cell_type": "code",
   "execution_count": 4,
   "id": "collaborative-nursing",
   "metadata": {},
   "outputs": [
    {
     "data": {
      "text/plain": [
       "{'fl_task': <function openfl.interface.python_api.experiment.TaskInterface.register_fl_task.<locals>.decorator_with_args.<locals>.wrapper_decorator(**task_keywords)>}"
      ]
     },
     "execution_count": 4,
     "metadata": {},
     "output_type": "execute_result"
    }
   ],
   "source": [
    "TI.task_registry"
   ]
  },
  {
   "cell_type": "code",
   "execution_count": 5,
   "id": "excess-hybrid",
   "metadata": {},
   "outputs": [
    {
     "data": {
      "text/plain": [
       "{'fl_task': {'model': 'a',\n",
       "  'data_loader': 'b',\n",
       "  'device': None,\n",
       "  'optimizer': None}}"
      ]
     },
     "execution_count": 5,
     "metadata": {},
     "output_type": "execute_result"
    }
   ],
   "source": [
    "TI.task_contract"
   ]
  },
  {
   "cell_type": "code",
   "execution_count": 6,
   "id": "surrounded-spain",
   "metadata": {},
   "outputs": [
    {
     "data": {
      "text/plain": [
       "defaultdict(dict, {'fl_task': {'bs': 32}})"
      ]
     },
     "execution_count": 6,
     "metadata": {},
     "output_type": "execute_result"
    }
   ],
   "source": [
    "TI.task_settings"
   ]
  },
  {
   "cell_type": "code",
   "execution_count": null,
   "id": "automated-kitchen",
   "metadata": {},
   "outputs": [],
   "source": []
  },
  {
   "cell_type": "markdown",
   "id": "built-russia",
   "metadata": {},
   "source": [
    "# Importing sessions"
   ]
  },
  {
   "cell_type": "code",
   "execution_count": 19,
   "id": "favorite-bookmark",
   "metadata": {},
   "outputs": [],
   "source": [
    "# dir()"
   ]
  },
  {
   "cell_type": "code",
   "execution_count": 18,
   "id": "current-project",
   "metadata": {},
   "outputs": [],
   "source": [
    "import dill\n",
    "import sys"
   ]
  },
  {
   "cell_type": "code",
   "execution_count": 2,
   "id": "thirty-fossil",
   "metadata": {
    "scrolled": false
   },
   "outputs": [],
   "source": [
    "sys.path.insert(0, './Kvasir_UNET_workspace/')\n",
    "# dill.load_session('./Kvasir_UNET_workspace/kvasir_session')"
   ]
  },
  {
   "cell_type": "markdown",
   "id": "weekly-accreditation",
   "metadata": {},
   "source": [
    "## Import Interface objects"
   ]
  },
  {
   "cell_type": "code",
   "execution_count": 16,
   "id": "palestinian-michigan",
   "metadata": {},
   "outputs": [
    {
     "data": {
      "text/plain": [
       "tensor([ 2.5016, -2.7028, -1.5531, -1.1858, -3.3686], grad_fn=<AddBackward0>)"
      ]
     },
     "execution_count": 16,
     "metadata": {},
     "output_type": "execute_result"
    }
   ],
   "source": [
    "import numpy as np\n",
    "TI.task_registry['test_task'](np_array=np.arange(10))"
   ]
  },
  {
   "cell_type": "code",
   "execution_count": 11,
   "id": "billion-oxford",
   "metadata": {},
   "outputs": [
    {
     "data": {
      "text/plain": [
       "tensor([[[[0.4349, 0.5119, 0.5558,  ..., 0.4346, 0.4373, 0.5033],\n",
       "          [0.5192, 0.4408, 0.3518,  ..., 0.5782, 0.4258, 0.4165],\n",
       "          [0.5452, 0.5024, 0.5299,  ..., 0.4470, 0.4950, 0.4423],\n",
       "          ...,\n",
       "          [0.5653, 0.4639, 0.5049,  ..., 0.5477, 0.3774, 0.4458],\n",
       "          [0.4992, 0.5300, 0.4576,  ..., 0.5732, 0.4905, 0.5270],\n",
       "          [0.5308, 0.3587, 0.5980,  ..., 0.5927, 0.5575, 0.4409]]]],\n",
       "       grad_fn=<SigmoidBackward>)"
      ]
     },
     "execution_count": 11,
     "metadata": {},
     "output_type": "execute_result"
    }
   ],
   "source": [
    "import torch\n",
    "a = torch.rand(1,3,128,128)\n",
    "model_unet.forward(a)"
   ]
  },
  {
   "cell_type": "code",
   "execution_count": 37,
   "id": "first-price",
   "metadata": {},
   "outputs": [
    {
     "name": "stdout",
     "output_type": "stream",
     "text": [
      "[Errno 2] No such file or directory: 'Kvasir_UNET_workspace/'\n",
      "/home/davidyuk/openfl/Plugin_experiments/Kvasir_UNET_workspace\n"
     ]
    }
   ],
   "source": [
    "with open('./dataloader.pkl', 'rb') as f:\n",
    "    fed_dataset = dill.load(f)\n",
    "    \n",
    "%cd Kvasir_UNET_workspace/\n",
    "fed_dataset._delayed_init()\n",
    "\n",
    "\n",
    "loader = fed_dataset.get_train_loader()\n",
    "# \n",
    "\n",
    "# %cd .."
   ]
  },
  {
   "cell_type": "code",
   "execution_count": 38,
   "id": "historical-occasions",
   "metadata": {},
   "outputs": [],
   "source": [
    "i_l = iter(loader)"
   ]
  },
  {
   "cell_type": "code",
   "execution_count": 40,
   "id": "crucial-blade",
   "metadata": {
    "scrolled": false
   },
   "outputs": [
    {
     "name": "stdout",
     "output_type": "stream",
     "text": [
      "[Errno 2] No such file or directory: 'Kvasir_UNET_workspace/'\n",
      "/home/davidyuk/openfl/Plugin_experiments/Kvasir_UNET_workspace\n"
     ]
    },
    {
     "data": {
      "text/plain": [
       "torch.Size([8, 3, 332, 332])"
      ]
     },
     "execution_count": 40,
     "metadata": {},
     "output_type": "execute_result"
    }
   ],
   "source": [
    "%cd Kvasir_UNET_workspace/\n",
    "imgs, targets = next(i_l)\n",
    "# %cd ..\n",
    "imgs.shape"
   ]
  },
  {
   "cell_type": "code",
   "execution_count": 29,
   "id": "brutal-folder",
   "metadata": {},
   "outputs": [
    {
     "data": {
      "text/plain": [
       "'/home/davidyuk/openfl/Plugin_experiments/Kvasir_UNET_workspace'"
      ]
     },
     "execution_count": 29,
     "metadata": {},
     "output_type": "execute_result"
    }
   ],
   "source": [
    "pwd"
   ]
  },
  {
   "cell_type": "markdown",
   "id": "needed-difference",
   "metadata": {},
   "source": [
    "# Importing task registry"
   ]
  },
  {
   "cell_type": "code",
   "execution_count": 13,
   "id": "finnish-raleigh",
   "metadata": {},
   "outputs": [],
   "source": [
    "with open('./Kvasir_UNET_workspace/tasks.pkl', 'rb') as f:\n",
    "    TI = dill.load(f)"
   ]
  },
  {
   "cell_type": "code",
   "execution_count": 15,
   "id": "incorporated-folder",
   "metadata": {},
   "outputs": [
    {
     "data": {
      "text/plain": [
       "tensor([ 0.6164, -2.1762,  5.4337,  3.4153, -3.9056], grad_fn=<AddBackward0>)"
      ]
     },
     "execution_count": 15,
     "metadata": {},
     "output_type": "execute_result"
    }
   ],
   "source": [
    "# import torch\n",
    "# import torch.nn as nn\n",
    "result = TI.task_registry['test_task'](np_array = list(range(10)))\n",
    "result"
   ]
  },
  {
   "cell_type": "markdown",
   "id": "smoking-freeze",
   "metadata": {},
   "source": [
    "# Importing pytorch model"
   ]
  },
  {
   "cell_type": "code",
   "execution_count": 11,
   "id": "spanish-tourist",
   "metadata": {},
   "outputs": [],
   "source": [
    "# with open('./Kvasir_UNET_workspace/model_cls.pkl', 'rb') as f:\n",
    "#     cls_model = dill.load(f)\n",
    "\n",
    "with open('./Kvasir_UNET_workspace/model.pkl', 'rb') as f:\n",
    "    model_interface = dill.load(f)"
   ]
  },
  {
   "cell_type": "code",
   "execution_count": 12,
   "id": "printable-pakistan",
   "metadata": {},
   "outputs": [
    {
     "data": {
      "text/plain": [
       "tensor([[[[0.5444, 0.4673, 0.4432,  ..., 0.4121, 0.5059, 0.5755],\n",
       "          [0.5219, 0.6127, 0.4329,  ..., 0.5197, 0.5235, 0.6089],\n",
       "          [0.5560, 0.4827, 0.5650,  ..., 0.4314, 0.4856, 0.5722],\n",
       "          ...,\n",
       "          [0.5542, 0.5896, 0.4729,  ..., 0.5826, 0.5991, 0.6171],\n",
       "          [0.6715, 0.4237, 0.6175,  ..., 0.5654, 0.5176, 0.6134],\n",
       "          [0.5557, 0.4961, 0.5315,  ..., 0.4987, 0.6574, 0.4839]]]],\n",
       "       grad_fn=<SigmoidBackward>)"
      ]
     },
     "execution_count": 12,
     "metadata": {},
     "output_type": "execute_result"
    }
   ],
   "source": [
    "import torch\n",
    "a = torch.rand(1,3,128,128)\n",
    "model_interface.model.forward(a)"
   ]
  },
  {
   "cell_type": "code",
   "execution_count": 10,
   "id": "caroline-vitamin",
   "metadata": {},
   "outputs": [
    {
     "data": {
      "text/plain": [
       "model.UNet"
      ]
     },
     "execution_count": 10,
     "metadata": {},
     "output_type": "execute_result"
    }
   ],
   "source": [
    "model_interface.model"
   ]
  },
  {
   "cell_type": "code",
   "execution_count": 1,
   "id": "colonial-beatles",
   "metadata": {},
   "outputs": [
    {
     "name": "stderr",
     "output_type": "stream",
     "text": [
      "/home/davidyuk/.virtualenvs/openfl/lib/python3.8/site-packages/torch/cuda/__init__.py:52: UserWarning: CUDA initialization: Found no NVIDIA driver on your system. Please check that you have an NVIDIA GPU and installed a driver from http://www.nvidia.com/Download/index.aspx (Triggered internally at  /pytorch/c10/cuda/CUDAFunctions.cpp:100.)\n",
      "  return torch._C._cuda_getDeviceCount() > 0\n"
     ]
    }
   ],
   "source": [
    "from openfl.federated import Plan"
   ]
  },
  {
   "cell_type": "code",
   "execution_count": 12,
   "id": "final-workstation",
   "metadata": {
    "scrolled": false
   },
   "outputs": [
    {
     "data": {
      "text/plain": [
       "{'aggregator': {'defaults': 'plan/defaults/tasks_torch.yaml',\n",
       "  'template': 'code.fed_unet_runner.PyTorchFederatedUnet',\n",
       "  'settings': {'init_state_path': 'save/torch_unet_kvasir_init.pbuf',\n",
       "   'last_state_path': 'save/torch_unet_kvasir_last.pbuf',\n",
       "   'best_state_path': 'save/torch_unet_kvasir_best.pbuf',\n",
       "   'rounds_to_train': 40,\n",
       "   'delta_updates': False,\n",
       "   'opt_treatment': 'RESET',\n",
       "   'batch_size': 4,\n",
       "   'percent_train': 0.8,\n",
       "   'collaborator_count': 2,\n",
       "   'data_group_name': 'kvasir',\n",
       "   'epochs_per_round': 1.0,\n",
       "   'polling_interval': 4,\n",
       "   'n_channels': 3,\n",
       "   'n_classes': 1},\n",
       "  'aggregated_model_validation': {'function': 'validate',\n",
       "   'kwargs': {'apply': 'global', 'metrics': ['dice_coef']}},\n",
       "  'locally_tuned_model_validation': {'function': 'validate',\n",
       "   'kwargs': {'apply': 'local', 'metrics': ['dice_coef']}},\n",
       "  'train': {'function': 'train',\n",
       "   'kwargs': {'batch_size': 32,\n",
       "    'epochs': 1,\n",
       "    'metrics': ['loss'],\n",
       "    'num_batches': 1}}},\n",
       " 'collaborator': {'defaults': 'plan/defaults/tasks_torch.yaml',\n",
       "  'template': 'code.fed_unet_runner.PyTorchFederatedUnet',\n",
       "  'settings': {'init_state_path': 'save/torch_unet_kvasir_init.pbuf',\n",
       "   'last_state_path': 'save/torch_unet_kvasir_last.pbuf',\n",
       "   'best_state_path': 'save/torch_unet_kvasir_best.pbuf',\n",
       "   'rounds_to_train': 40,\n",
       "   'delta_updates': False,\n",
       "   'opt_treatment': 'RESET',\n",
       "   'batch_size': 4,\n",
       "   'percent_train': 0.8,\n",
       "   'collaborator_count': 2,\n",
       "   'data_group_name': 'kvasir',\n",
       "   'epochs_per_round': 1.0,\n",
       "   'polling_interval': 4,\n",
       "   'n_channels': 3,\n",
       "   'n_classes': 1},\n",
       "  'aggregated_model_validation': {'function': 'validate',\n",
       "   'kwargs': {'apply': 'global', 'metrics': ['dice_coef']}},\n",
       "  'locally_tuned_model_validation': {'function': 'validate',\n",
       "   'kwargs': {'apply': 'local', 'metrics': ['dice_coef']}},\n",
       "  'train': {'function': 'train',\n",
       "   'kwargs': {'batch_size': 32,\n",
       "    'epochs': 1,\n",
       "    'metrics': ['loss'],\n",
       "    'num_batches': 1}}},\n",
       " 'data_loader': {'defaults': 'plan/defaults/tasks_torch.yaml',\n",
       "  'template': 'code.fed_unet_runner.PyTorchFederatedUnet',\n",
       "  'settings': {'init_state_path': 'save/torch_unet_kvasir_init.pbuf',\n",
       "   'last_state_path': 'save/torch_unet_kvasir_last.pbuf',\n",
       "   'best_state_path': 'save/torch_unet_kvasir_best.pbuf',\n",
       "   'rounds_to_train': 40,\n",
       "   'delta_updates': False,\n",
       "   'opt_treatment': 'RESET',\n",
       "   'batch_size': 4,\n",
       "   'percent_train': 0.8,\n",
       "   'collaborator_count': 2,\n",
       "   'data_group_name': 'kvasir',\n",
       "   'epochs_per_round': 1.0,\n",
       "   'polling_interval': 4,\n",
       "   'n_channels': 3,\n",
       "   'n_classes': 1},\n",
       "  'aggregated_model_validation': {'function': 'validate',\n",
       "   'kwargs': {'apply': 'global', 'metrics': ['dice_coef']}},\n",
       "  'locally_tuned_model_validation': {'function': 'validate',\n",
       "   'kwargs': {'apply': 'local', 'metrics': ['dice_coef']}},\n",
       "  'train': {'function': 'train',\n",
       "   'kwargs': {'batch_size': 32,\n",
       "    'epochs': 1,\n",
       "    'metrics': ['loss'],\n",
       "    'num_batches': 1}}},\n",
       " 'task_runner': {'defaults': 'plan/defaults/tasks_torch.yaml',\n",
       "  'template': 'code.fed_unet_runner.PyTorchFederatedUnet',\n",
       "  'settings': {'init_state_path': 'save/torch_unet_kvasir_init.pbuf',\n",
       "   'last_state_path': 'save/torch_unet_kvasir_last.pbuf',\n",
       "   'best_state_path': 'save/torch_unet_kvasir_best.pbuf',\n",
       "   'rounds_to_train': 40,\n",
       "   'delta_updates': False,\n",
       "   'opt_treatment': 'RESET',\n",
       "   'batch_size': 4,\n",
       "   'percent_train': 0.8,\n",
       "   'collaborator_count': 2,\n",
       "   'data_group_name': 'kvasir',\n",
       "   'epochs_per_round': 1.0,\n",
       "   'polling_interval': 4,\n",
       "   'n_channels': 3,\n",
       "   'n_classes': 1},\n",
       "  'aggregated_model_validation': {'function': 'validate',\n",
       "   'kwargs': {'apply': 'global', 'metrics': ['dice_coef']}},\n",
       "  'locally_tuned_model_validation': {'function': 'validate',\n",
       "   'kwargs': {'apply': 'local', 'metrics': ['dice_coef']}},\n",
       "  'train': {'function': 'train',\n",
       "   'kwargs': {'batch_size': 32,\n",
       "    'epochs': 1,\n",
       "    'metrics': ['loss'],\n",
       "    'num_batches': 1}}},\n",
       " 'network': {'defaults': 'plan/defaults/tasks_torch.yaml',\n",
       "  'template': 'code.fed_unet_runner.PyTorchFederatedUnet',\n",
       "  'settings': {'init_state_path': 'save/torch_unet_kvasir_init.pbuf',\n",
       "   'last_state_path': 'save/torch_unet_kvasir_last.pbuf',\n",
       "   'best_state_path': 'save/torch_unet_kvasir_best.pbuf',\n",
       "   'rounds_to_train': 40,\n",
       "   'delta_updates': False,\n",
       "   'opt_treatment': 'RESET',\n",
       "   'batch_size': 4,\n",
       "   'percent_train': 0.8,\n",
       "   'collaborator_count': 2,\n",
       "   'data_group_name': 'kvasir',\n",
       "   'epochs_per_round': 1.0,\n",
       "   'polling_interval': 4,\n",
       "   'n_channels': 3,\n",
       "   'n_classes': 1},\n",
       "  'aggregated_model_validation': {'function': 'validate',\n",
       "   'kwargs': {'apply': 'global', 'metrics': ['dice_coef']}},\n",
       "  'locally_tuned_model_validation': {'function': 'validate',\n",
       "   'kwargs': {'apply': 'local', 'metrics': ['dice_coef']}},\n",
       "  'train': {'function': 'train',\n",
       "   'kwargs': {'batch_size': 32,\n",
       "    'epochs': 1,\n",
       "    'metrics': ['loss'],\n",
       "    'num_batches': 1}}},\n",
       " 'assigner': {'defaults': 'plan/defaults/tasks_torch.yaml',\n",
       "  'template': 'code.fed_unet_runner.PyTorchFederatedUnet',\n",
       "  'settings': {'init_state_path': 'save/torch_unet_kvasir_init.pbuf',\n",
       "   'last_state_path': 'save/torch_unet_kvasir_last.pbuf',\n",
       "   'best_state_path': 'save/torch_unet_kvasir_best.pbuf',\n",
       "   'rounds_to_train': 40,\n",
       "   'delta_updates': False,\n",
       "   'opt_treatment': 'RESET',\n",
       "   'batch_size': 4,\n",
       "   'percent_train': 0.8,\n",
       "   'collaborator_count': 2,\n",
       "   'data_group_name': 'kvasir',\n",
       "   'epochs_per_round': 1.0,\n",
       "   'polling_interval': 4,\n",
       "   'n_channels': 3,\n",
       "   'n_classes': 1},\n",
       "  'aggregated_model_validation': {'function': 'validate',\n",
       "   'kwargs': {'apply': 'global', 'metrics': ['dice_coef']}},\n",
       "  'locally_tuned_model_validation': {'function': 'validate',\n",
       "   'kwargs': {'apply': 'local', 'metrics': ['dice_coef']}},\n",
       "  'train': {'function': 'train',\n",
       "   'kwargs': {'batch_size': 32,\n",
       "    'epochs': 1,\n",
       "    'metrics': ['loss'],\n",
       "    'num_batches': 1}}},\n",
       " 'tasks': {'defaults': 'plan/defaults/tasks_torch.yaml',\n",
       "  'template': 'code.fed_unet_runner.PyTorchFederatedUnet',\n",
       "  'settings': {'init_state_path': 'save/torch_unet_kvasir_init.pbuf',\n",
       "   'last_state_path': 'save/torch_unet_kvasir_last.pbuf',\n",
       "   'best_state_path': 'save/torch_unet_kvasir_best.pbuf',\n",
       "   'rounds_to_train': 40,\n",
       "   'delta_updates': False,\n",
       "   'opt_treatment': 'RESET',\n",
       "   'batch_size': 4,\n",
       "   'percent_train': 0.8,\n",
       "   'collaborator_count': 2,\n",
       "   'data_group_name': 'kvasir',\n",
       "   'epochs_per_round': 1.0,\n",
       "   'polling_interval': 4,\n",
       "   'n_channels': 3,\n",
       "   'n_classes': 1},\n",
       "  'aggregated_model_validation': {'function': 'validate',\n",
       "   'kwargs': {'apply': 'global', 'metrics': ['dice_coef']}},\n",
       "  'locally_tuned_model_validation': {'function': 'validate',\n",
       "   'kwargs': {'apply': 'local', 'metrics': ['dice_coef']}},\n",
       "  'train': {'function': 'train',\n",
       "   'kwargs': {'batch_size': 32,\n",
       "    'epochs': 1,\n",
       "    'metrics': ['loss'],\n",
       "    'num_batches': 1}}}}"
      ]
     },
     "execution_count": 12,
     "metadata": {},
     "output_type": "execute_result"
    }
   ],
   "source": [
    "from pathlib import Path\n",
    "plan = Plan.Parse(Path('../openfl-workspace/torch_unet_kvasir/plan/plan.yaml'), resolve=False)\n",
    "plan.config\n",
    "# plan.Load(Path('../../openfl-workspace/torch_cnn_mnist/plan/plan.yaml'))"
   ]
  },
  {
   "cell_type": "code",
   "execution_count": 10,
   "id": "multiple-classics",
   "metadata": {},
   "outputs": [
    {
     "data": {
      "text/plain": [
       "'save/tf_cnn_histology_init.pbuf'"
      ]
     },
     "execution_count": 10,
     "metadata": {},
     "output_type": "execute_result"
    }
   ],
   "source": [
    "plan.config['aggregator']['settings']['init_state_path']"
   ]
  },
  {
   "cell_type": "code",
   "execution_count": 8,
   "id": "colored-process",
   "metadata": {},
   "outputs": [],
   "source": [
    "from importlib.resources import Path, path"
   ]
  },
  {
   "cell_type": "code",
   "execution_count": 5,
   "id": "reliable-format",
   "metadata": {},
   "outputs": [
    {
     "data": {
      "text/plain": [
       "{'aggregator': {'defaults': 'plan/defaults/aggregator.yaml',\n",
       "  'template': 'openfl.component.Aggregator',\n",
       "  'settings': {'init_state_path': 'save/init.pbuf',\n",
       "   'best_state_path': 'save/best.pbuf',\n",
       "   'last_state_path': 'save/last.pbuf',\n",
       "   'rounds_to_train': 10}},\n",
       " 'collaborator': {'defaults': 'plan/defaults/collaborator.yaml',\n",
       "  'template': 'openfl.component.Collaborator',\n",
       "  'settings': {'delta_updates': False, 'opt_treatment': 'RESET'}},\n",
       " 'data_loader': {'defaults': 'plan/defaults/data_loader.yaml'},\n",
       " 'task_runner': {'defaults': 'plan/defaults/task_runner.yaml'},\n",
       " 'network': {'defaults': 'plan/defaults/network.yaml'},\n",
       " 'assigner': {'defaults': 'plan/defaults/assigner.yaml'},\n",
       " 'tasks': {'defaults': 'plan/defaults/tasks_fast_estimator.yaml'}}"
      ]
     },
     "execution_count": 5,
     "metadata": {},
     "output_type": "execute_result"
    }
   ],
   "source": [
    "# with open_text('openfl.interface', 'plan.yaml') as f:\n",
    "safe_load(read_text('openfl.interface.interactive_api', 'plan.yaml'))"
   ]
  },
  {
   "cell_type": "code",
   "execution_count": 3,
   "id": "spanish-portland",
   "metadata": {},
   "outputs": [],
   "source": [
    "from yaml import safe_load"
   ]
  },
  {
   "cell_type": "code",
   "execution_count": 10,
   "id": "unique-steel",
   "metadata": {},
   "outputs": [
    {
     "name": "stdout",
     "output_type": "stream",
     "text": [
      "/home/davidyuk/openfl/openfl/interface/interactive_api/plan.yaml\n"
     ]
    }
   ],
   "source": [
    "with path('openfl.interface.interactive_api', 'plan.yaml') as p:\n",
    "    print(p)"
   ]
  },
  {
   "cell_type": "code",
   "execution_count": 15,
   "id": "modified-harris",
   "metadata": {
    "scrolled": false
   },
   "outputs": [
    {
     "data": {
      "text/plain": [
       "{'aggregator': {'defaults': 'plan/defaults/tasks_fast_estimator.yaml',\n",
       "  'template': 'openfl.component.Collaborator',\n",
       "  'settings': {'init_state_path': 'save/init.pbuf',\n",
       "   'best_state_path': 'save/best.pbuf',\n",
       "   'last_state_path': 'save/last.pbuf',\n",
       "   'rounds_to_train': 10,\n",
       "   'delta_updates': False,\n",
       "   'opt_treatment': 'RESET'}},\n",
       " 'collaborator': {'defaults': 'plan/defaults/tasks_fast_estimator.yaml',\n",
       "  'template': 'openfl.component.Collaborator',\n",
       "  'settings': {'init_state_path': 'save/init.pbuf',\n",
       "   'best_state_path': 'save/best.pbuf',\n",
       "   'last_state_path': 'save/last.pbuf',\n",
       "   'rounds_to_train': 10,\n",
       "   'delta_updates': False,\n",
       "   'opt_treatment': 'RESET'}},\n",
       " 'data_loader': {'defaults': 'plan/defaults/tasks_fast_estimator.yaml',\n",
       "  'template': 'openfl.component.Collaborator',\n",
       "  'settings': {'init_state_path': 'save/init.pbuf',\n",
       "   'best_state_path': 'save/best.pbuf',\n",
       "   'last_state_path': 'save/last.pbuf',\n",
       "   'rounds_to_train': 10,\n",
       "   'delta_updates': False,\n",
       "   'opt_treatment': 'RESET'}},\n",
       " 'task_runner': {'defaults': 'plan/defaults/tasks_fast_estimator.yaml',\n",
       "  'template': 'openfl.component.Collaborator',\n",
       "  'settings': {'init_state_path': 'save/init.pbuf',\n",
       "   'best_state_path': 'save/best.pbuf',\n",
       "   'last_state_path': 'save/last.pbuf',\n",
       "   'rounds_to_train': 10,\n",
       "   'delta_updates': False,\n",
       "   'opt_treatment': 'RESET'}},\n",
       " 'network': {'defaults': 'plan/defaults/tasks_fast_estimator.yaml',\n",
       "  'template': 'openfl.component.Collaborator',\n",
       "  'settings': {'init_state_path': 'save/init.pbuf',\n",
       "   'best_state_path': 'save/best.pbuf',\n",
       "   'last_state_path': 'save/last.pbuf',\n",
       "   'rounds_to_train': 10,\n",
       "   'delta_updates': False,\n",
       "   'opt_treatment': 'RESET'}},\n",
       " 'assigner': {'defaults': 'plan/defaults/tasks_fast_estimator.yaml',\n",
       "  'template': 'openfl.component.Collaborator',\n",
       "  'settings': {'init_state_path': 'save/init.pbuf',\n",
       "   'best_state_path': 'save/best.pbuf',\n",
       "   'last_state_path': 'save/last.pbuf',\n",
       "   'rounds_to_train': 10,\n",
       "   'delta_updates': False,\n",
       "   'opt_treatment': 'RESET'}},\n",
       " 'tasks': {'defaults': 'plan/defaults/tasks_fast_estimator.yaml',\n",
       "  'template': 'openfl.component.Collaborator',\n",
       "  'settings': {'init_state_path': 'save/init.pbuf',\n",
       "   'best_state_path': 'save/best.pbuf',\n",
       "   'last_state_path': 'save/last.pbuf',\n",
       "   'rounds_to_train': 10,\n",
       "   'delta_updates': False,\n",
       "   'opt_treatment': 'RESET'}}}"
      ]
     },
     "execution_count": 15,
     "metadata": {},
     "output_type": "execute_result"
    }
   ],
   "source": [
    "from importlib import resources\n",
    "from openfl.federated import Plan\n",
    "with resources.path('openfl.interface.interactive_api', 'plan.yaml') as plan_path:\n",
    "    plan = Plan.Parse(Path(plan_path), resolve=False)\n",
    "plan.config"
   ]
  },
  {
   "cell_type": "code",
   "execution_count": null,
   "id": "tough-worse",
   "metadata": {},
   "outputs": [],
   "source": []
  }
 ],
 "metadata": {
  "kernelspec": {
   "display_name": "Python 3",
   "language": "python",
   "name": "python3"
  },
  "language_info": {
   "codemirror_mode": {
    "name": "ipython",
    "version": 3
   },
   "file_extension": ".py",
   "mimetype": "text/x-python",
   "name": "python",
   "nbconvert_exporter": "python",
   "pygments_lexer": "ipython3",
   "version": "3.8.5"
  }
 },
 "nbformat": 4,
 "nbformat_minor": 5
}
