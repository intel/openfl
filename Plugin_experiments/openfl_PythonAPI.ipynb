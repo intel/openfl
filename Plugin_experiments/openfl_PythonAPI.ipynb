{
 "cells": [
  {
   "cell_type": "code",
   "execution_count": 1,
   "id": "patient-classic",
   "metadata": {},
   "outputs": [],
   "source": [
    "%load_ext autoreload\n",
    "%autoreload 2"
   ]
  },
  {
   "cell_type": "code",
   "execution_count": 7,
   "id": "endangered-passage",
   "metadata": {},
   "outputs": [],
   "source": [
    "from openfl.interface.python_api.experiment import TaskInterface\n",
    "TI = TaskInterface()"
   ]
  },
  {
   "cell_type": "code",
   "execution_count": 3,
   "id": "tropical-cache",
   "metadata": {},
   "outputs": [],
   "source": [
    "@TI.add_kwargs(**{'bs': 32})\n",
    "@TI.register_fl_task(model='a', data_loader='b', device=None, optimizer=None)\n",
    "def fl_task(a, b=1, **kwargs):\n",
    "    print(\"I am in the body of the task\")\n",
    "    print(a, b, '\\n')"
   ]
  },
  {
   "cell_type": "code",
   "execution_count": null,
   "id": "casual-portuguese",
   "metadata": {},
   "outputs": [],
   "source": []
  },
  {
   "cell_type": "code",
   "execution_count": 4,
   "id": "local-allowance",
   "metadata": {},
   "outputs": [
    {
     "data": {
      "text/plain": [
       "{'fl_task': <function openfl.interface.python_api.experiment.TaskInterface.register_fl_task.<locals>.decorator_with_args.<locals>.wrapper_decorator(**task_keywords)>}"
      ]
     },
     "execution_count": 4,
     "metadata": {},
     "output_type": "execute_result"
    }
   ],
   "source": [
    "TI.task_registry"
   ]
  },
  {
   "cell_type": "code",
   "execution_count": 5,
   "id": "entire-communist",
   "metadata": {},
   "outputs": [
    {
     "data": {
      "text/plain": [
       "{'fl_task': {'model': 'a',\n",
       "  'data_loader': 'b',\n",
       "  'device': None,\n",
       "  'optimizer': None}}"
      ]
     },
     "execution_count": 5,
     "metadata": {},
     "output_type": "execute_result"
    }
   ],
   "source": [
    "TI.task_contract"
   ]
  },
  {
   "cell_type": "code",
   "execution_count": 6,
   "id": "unexpected-vegetable",
   "metadata": {},
   "outputs": [
    {
     "data": {
      "text/plain": [
       "{'fl_task': {'bs': 32}}"
      ]
     },
     "execution_count": 6,
     "metadata": {},
     "output_type": "execute_result"
    }
   ],
   "source": [
    "TI.task_settings"
   ]
  },
  {
   "cell_type": "code",
   "execution_count": null,
   "id": "inside-clock",
   "metadata": {},
   "outputs": [],
   "source": []
  }
 ],
 "metadata": {
  "kernelspec": {
   "display_name": "Python 3",
   "language": "python",
   "name": "python3"
  },
  "language_info": {
   "codemirror_mode": {
    "name": "ipython",
    "version": 3
   },
   "file_extension": ".py",
   "mimetype": "text/x-python",
   "name": "python",
   "nbconvert_exporter": "python",
   "pygments_lexer": "ipython3",
   "version": "3.8.5"
  }
 },
 "nbformat": 4,
 "nbformat_minor": 5
}
