{
 "cells": [
  {
   "cell_type": "code",
   "execution_count": 1,
   "id": "consistent-pickup",
   "metadata": {},
   "outputs": [],
   "source": [
    "%load_ext autoreload\n",
    "%autoreload 2"
   ]
  },
  {
   "cell_type": "code",
   "execution_count": 9,
   "id": "registered-premium",
   "metadata": {},
   "outputs": [],
   "source": [
    "from openfl.interface.python_api.experiment import TaskInterface, DataInterface, ModelInterface, FLExperiment\n",
    "TI = TaskInterface()"
   ]
  },
  {
   "cell_type": "markdown",
   "id": "secondary-albany",
   "metadata": {},
   "source": [
    "# Tasks registering"
   ]
  },
  {
   "cell_type": "code",
   "execution_count": 3,
   "id": "excessive-oliver",
   "metadata": {},
   "outputs": [],
   "source": [
    "@TI.add_kwargs(**{'bs': 32})\n",
    "@TI.register_fl_task(model='a', data_loader='b', device=None, optimizer=None)\n",
    "def fl_task(a, b=1, **kwargs):\n",
    "    print(\"I am in the body of the task\")\n",
    "    print(a, b, '\\n')"
   ]
  },
  {
   "cell_type": "code",
   "execution_count": 4,
   "id": "collaborative-nursing",
   "metadata": {},
   "outputs": [
    {
     "data": {
      "text/plain": [
       "{'fl_task': <function openfl.interface.python_api.experiment.TaskInterface.register_fl_task.<locals>.decorator_with_args.<locals>.wrapper_decorator(**task_keywords)>}"
      ]
     },
     "execution_count": 4,
     "metadata": {},
     "output_type": "execute_result"
    }
   ],
   "source": [
    "TI.task_registry"
   ]
  },
  {
   "cell_type": "code",
   "execution_count": 5,
   "id": "excess-hybrid",
   "metadata": {},
   "outputs": [
    {
     "data": {
      "text/plain": [
       "{'fl_task': {'model': 'a',\n",
       "  'data_loader': 'b',\n",
       "  'device': None,\n",
       "  'optimizer': None}}"
      ]
     },
     "execution_count": 5,
     "metadata": {},
     "output_type": "execute_result"
    }
   ],
   "source": [
    "TI.task_contract"
   ]
  },
  {
   "cell_type": "code",
   "execution_count": 6,
   "id": "surrounded-spain",
   "metadata": {},
   "outputs": [
    {
     "data": {
      "text/plain": [
       "{'fl_task': {'bs': 32}}"
      ]
     },
     "execution_count": 6,
     "metadata": {},
     "output_type": "execute_result"
    }
   ],
   "source": [
    "TI.task_settings"
   ]
  },
  {
   "cell_type": "markdown",
   "id": "hawaiian-atlas",
   "metadata": {},
   "source": [
    "# Model registering"
   ]
  },
  {
   "cell_type": "code",
   "execution_count": null,
   "id": "classical-commission",
   "metadata": {},
   "outputs": [],
   "source": [
    "from unittest.mock import MagicMock\n",
    "\n"
   ]
  },
  {
   "cell_type": "code",
   "execution_count": 14,
   "id": "neutral-listening",
   "metadata": {},
   "outputs": [],
   "source": []
  },
  {
   "cell_type": "markdown",
   "id": "corresponding-configuration",
   "metadata": {},
   "source": [
    "# DataLoader registering"
   ]
  },
  {
   "cell_type": "code",
   "execution_count": 15,
   "id": "worst-conversion",
   "metadata": {},
   "outputs": [],
   "source": [
    "class UserDataLoader(DataInterface):\n",
    "    def __init__(self, data_path):\n",
    "        super().__init__(data_path)\n",
    "        \n",
    "    def get_train_loader(self, bs):\n",
    "        \"\"\"\n",
    "        Output of this method will be provided to tasks with optimizer in contract\n",
    "        \"\"\"\n",
    "        return None\n",
    "\n",
    "    def get_valid_loader(self, bs):\n",
    "        \"\"\"\n",
    "        Output of this method will be provided to tasks without optimizer in contract\n",
    "        \"\"\"\n",
    "        return None\n",
    "\n",
    "    def get_train_data_size(self):\n",
    "        \"\"\"\n",
    "        Information for aggregation\n",
    "        \"\"\"\n",
    "        return 0\n",
    "\n",
    "    def get_valid_data_size(self):\n",
    "        \"\"\"\n",
    "        Information for aggregation\n",
    "        \"\"\"\n",
    "        return 0"
   ]
  },
  {
   "cell_type": "code",
   "execution_count": null,
   "id": "numerical-thing",
   "metadata": {},
   "outputs": [],
   "source": []
  },
  {
   "cell_type": "code",
   "execution_count": null,
   "id": "committed-heating",
   "metadata": {},
   "outputs": [],
   "source": []
  },
  {
   "cell_type": "markdown",
   "id": "built-russia",
   "metadata": {},
   "source": [
    "# Running experiment"
   ]
  },
  {
   "cell_type": "code",
   "execution_count": null,
   "id": "current-project",
   "metadata": {},
   "outputs": [],
   "source": []
  }
 ],
 "metadata": {
  "kernelspec": {
   "display_name": "Python 3",
   "language": "python",
   "name": "python3"
  },
  "language_info": {
   "codemirror_mode": {
    "name": "ipython",
    "version": 3
   },
   "file_extension": ".py",
   "mimetype": "text/x-python",
   "name": "python",
   "nbconvert_exporter": "python",
   "pygments_lexer": "ipython3",
   "version": "3.8.5"
  }
 },
 "nbformat": 4,
 "nbformat_minor": 5
}
