{
 "cells": [
  {
   "cell_type": "markdown",
   "metadata": {},
   "source": [
    "# Federated PyTorch MNIST Tutorial"
   ]
  },
  {
   "cell_type": "code",
   "execution_count": 1,
   "metadata": {},
   "outputs": [
    {
     "name": "stdout",
     "output_type": "stream",
     "text": [
      "Processing /home/itrushkin/repos/openfl-fork\n",
      "Requirement already satisfied: torch in /home/itrushkin/.virtualenvs/openfl_research/lib/python3.8/site-packages (1.8.1)\n",
      "Requirement already satisfied: torchvision in /home/itrushkin/.virtualenvs/openfl_research/lib/python3.8/site-packages (0.9.1)\n",
      "Requirement already satisfied: Click>=7.0 in /home/itrushkin/.virtualenvs/openfl_research/lib/python3.8/site-packages (from openfl==1.0.1) (7.1.2)\n",
      "Requirement already satisfied: PyYAML>=5.4.1 in /home/itrushkin/.virtualenvs/openfl_research/lib/python3.8/site-packages (from openfl==1.0.1) (5.4.1)\n",
      "Requirement already satisfied: numpy in /home/itrushkin/.virtualenvs/openfl_research/lib/python3.8/site-packages (from openfl==1.0.1) (1.18.5)\n",
      "Requirement already satisfied: pandas in /home/itrushkin/.virtualenvs/openfl_research/lib/python3.8/site-packages (from openfl==1.0.1) (1.2.3)\n",
      "Requirement already satisfied: protobuf in /home/itrushkin/.virtualenvs/openfl_research/lib/python3.8/site-packages (from openfl==1.0.1) (3.15.6)\n",
      "Requirement already satisfied: grpcio==1.30.0 in /home/itrushkin/.virtualenvs/openfl_research/lib/python3.8/site-packages (from openfl==1.0.1) (1.30.0)\n",
      "Requirement already satisfied: grpcio-tools==1.30.0 in /home/itrushkin/.virtualenvs/openfl_research/lib/python3.8/site-packages (from openfl==1.0.1) (1.30.0)\n",
      "Requirement already satisfied: rich==9.1.0 in /home/itrushkin/.virtualenvs/openfl_research/lib/python3.8/site-packages (from openfl==1.0.1) (9.1.0)\n",
      "Requirement already satisfied: tqdm in /home/itrushkin/.virtualenvs/openfl_research/lib/python3.8/site-packages (from openfl==1.0.1) (4.59.0)\n",
      "Requirement already satisfied: scikit-learn in /home/itrushkin/.virtualenvs/openfl_research/lib/python3.8/site-packages (from openfl==1.0.1) (0.24.1)\n",
      "Requirement already satisfied: docker in /home/itrushkin/.virtualenvs/openfl_research/lib/python3.8/site-packages (from openfl==1.0.1) (4.4.4)\n",
      "Requirement already satisfied: jupyter in /home/itrushkin/.virtualenvs/openfl_research/lib/python3.8/site-packages (from openfl==1.0.1) (1.0.0)\n",
      "Requirement already satisfied: ipykernel in /home/itrushkin/.virtualenvs/openfl_research/lib/python3.8/site-packages (from openfl==1.0.1) (5.5.0)\n",
      "Requirement already satisfied: flatten_json in /home/itrushkin/.virtualenvs/openfl_research/lib/python3.8/site-packages (from openfl==1.0.1) (0.1.13)\n",
      "Requirement already satisfied: cryptography>=3.4.6 in /home/itrushkin/.virtualenvs/openfl_research/lib/python3.8/site-packages (from openfl==1.0.1) (3.4.6)\n",
      "Requirement already satisfied: six>=1.5.2 in /home/itrushkin/.virtualenvs/openfl_research/lib/python3.8/site-packages (from grpcio==1.30.0->openfl==1.0.1) (1.15.0)\n",
      "Requirement already satisfied: colorama<0.5.0,>=0.4.0 in /home/itrushkin/.virtualenvs/openfl_research/lib/python3.8/site-packages (from rich==9.1.0->openfl==1.0.1) (0.4.4)\n",
      "Requirement already satisfied: pygments<3.0.0,>=2.6.0 in /home/itrushkin/.virtualenvs/openfl_research/lib/python3.8/site-packages (from rich==9.1.0->openfl==1.0.1) (2.8.1)\n",
      "Requirement already satisfied: commonmark<0.10.0,>=0.9.0 in /home/itrushkin/.virtualenvs/openfl_research/lib/python3.8/site-packages (from rich==9.1.0->openfl==1.0.1) (0.9.1)\n",
      "Requirement already satisfied: typing-extensions<4.0.0,>=3.7.4 in /home/itrushkin/.virtualenvs/openfl_research/lib/python3.8/site-packages (from rich==9.1.0->openfl==1.0.1) (3.7.4.3)\n",
      "Requirement already satisfied: cffi>=1.12 in /home/itrushkin/.virtualenvs/openfl_research/lib/python3.8/site-packages (from cryptography>=3.4.6->openfl==1.0.1) (1.14.5)\n",
      "Requirement already satisfied: pycparser in /home/itrushkin/.virtualenvs/openfl_research/lib/python3.8/site-packages (from cffi>=1.12->cryptography>=3.4.6->openfl==1.0.1) (2.20)\n",
      "Requirement already satisfied: pillow>=4.1.1 in /home/itrushkin/.virtualenvs/openfl_research/lib/python3.8/site-packages (from torchvision) (8.1.2)\n",
      "Requirement already satisfied: websocket-client>=0.32.0 in /home/itrushkin/.virtualenvs/openfl_research/lib/python3.8/site-packages (from docker->openfl==1.0.1) (0.58.0)\n",
      "Requirement already satisfied: requests!=2.18.0,>=2.14.2 in /home/itrushkin/.virtualenvs/openfl_research/lib/python3.8/site-packages (from docker->openfl==1.0.1) (2.25.1)\n",
      "Requirement already satisfied: chardet<5,>=3.0.2 in /home/itrushkin/.virtualenvs/openfl_research/lib/python3.8/site-packages (from requests!=2.18.0,>=2.14.2->docker->openfl==1.0.1) (4.0.0)\n",
      "Requirement already satisfied: certifi>=2017.4.17 in /home/itrushkin/.virtualenvs/openfl_research/lib/python3.8/site-packages (from requests!=2.18.0,>=2.14.2->docker->openfl==1.0.1) (2020.12.5)\n",
      "Requirement already satisfied: urllib3<1.27,>=1.21.1 in /home/itrushkin/.virtualenvs/openfl_research/lib/python3.8/site-packages (from requests!=2.18.0,>=2.14.2->docker->openfl==1.0.1) (1.26.4)\n",
      "Requirement already satisfied: idna<3,>=2.5 in /home/itrushkin/.virtualenvs/openfl_research/lib/python3.8/site-packages (from requests!=2.18.0,>=2.14.2->docker->openfl==1.0.1) (2.10)\n",
      "Requirement already satisfied: tornado>=4.2 in /home/itrushkin/.virtualenvs/openfl_research/lib/python3.8/site-packages (from ipykernel->openfl==1.0.1) (6.1)\n",
      "Requirement already satisfied: traitlets>=4.1.0 in /home/itrushkin/.virtualenvs/openfl_research/lib/python3.8/site-packages (from ipykernel->openfl==1.0.1) (5.0.5)\n",
      "Requirement already satisfied: jupyter-client in /home/itrushkin/.virtualenvs/openfl_research/lib/python3.8/site-packages (from ipykernel->openfl==1.0.1) (6.1.12)\n",
      "Requirement already satisfied: ipython>=5.0.0 in /home/itrushkin/.virtualenvs/openfl_research/lib/python3.8/site-packages (from ipykernel->openfl==1.0.1) (7.21.0)\n",
      "Requirement already satisfied: decorator in /home/itrushkin/.virtualenvs/openfl_research/lib/python3.8/site-packages (from ipython>=5.0.0->ipykernel->openfl==1.0.1) (4.4.2)\n",
      "Requirement already satisfied: backcall in /home/itrushkin/.virtualenvs/openfl_research/lib/python3.8/site-packages (from ipython>=5.0.0->ipykernel->openfl==1.0.1) (0.2.0)\n",
      "Requirement already satisfied: pexpect>4.3 in /home/itrushkin/.virtualenvs/openfl_research/lib/python3.8/site-packages (from ipython>=5.0.0->ipykernel->openfl==1.0.1) (4.8.0)\n",
      "Requirement already satisfied: jedi>=0.16 in /home/itrushkin/.virtualenvs/openfl_research/lib/python3.8/site-packages (from ipython>=5.0.0->ipykernel->openfl==1.0.1) (0.18.0)\n",
      "Requirement already satisfied: prompt-toolkit!=3.0.0,!=3.0.1,<3.1.0,>=2.0.0 in /home/itrushkin/.virtualenvs/openfl_research/lib/python3.8/site-packages (from ipython>=5.0.0->ipykernel->openfl==1.0.1) (3.0.18)\n",
      "Requirement already satisfied: pickleshare in /home/itrushkin/.virtualenvs/openfl_research/lib/python3.8/site-packages (from ipython>=5.0.0->ipykernel->openfl==1.0.1) (0.7.5)\n",
      "Requirement already satisfied: setuptools>=18.5 in /home/itrushkin/.virtualenvs/openfl_research/lib/python3.8/site-packages (from ipython>=5.0.0->ipykernel->openfl==1.0.1) (54.1.2)\n",
      "Requirement already satisfied: parso<0.9.0,>=0.8.0 in /home/itrushkin/.virtualenvs/openfl_research/lib/python3.8/site-packages (from jedi>=0.16->ipython>=5.0.0->ipykernel->openfl==1.0.1) (0.8.1)\n",
      "Requirement already satisfied: ptyprocess>=0.5 in /home/itrushkin/.virtualenvs/openfl_research/lib/python3.8/site-packages (from pexpect>4.3->ipython>=5.0.0->ipykernel->openfl==1.0.1) (0.7.0)\n",
      "Requirement already satisfied: wcwidth in /home/itrushkin/.virtualenvs/openfl_research/lib/python3.8/site-packages (from prompt-toolkit!=3.0.0,!=3.0.1,<3.1.0,>=2.0.0->ipython>=5.0.0->ipykernel->openfl==1.0.1) (0.2.5)\n",
      "Requirement already satisfied: ipython-genutils in /home/itrushkin/.virtualenvs/openfl_research/lib/python3.8/site-packages (from traitlets>=4.1.0->ipykernel->openfl==1.0.1) (0.2.0)\n",
      "Requirement already satisfied: jupyter-console in /home/itrushkin/.virtualenvs/openfl_research/lib/python3.8/site-packages (from jupyter->openfl==1.0.1) (6.3.0)\n",
      "Requirement already satisfied: ipywidgets in /home/itrushkin/.virtualenvs/openfl_research/lib/python3.8/site-packages (from jupyter->openfl==1.0.1) (7.6.3)\n",
      "Requirement already satisfied: nbconvert in /home/itrushkin/.virtualenvs/openfl_research/lib/python3.8/site-packages (from jupyter->openfl==1.0.1) (6.0.7)\n",
      "Requirement already satisfied: notebook in /home/itrushkin/.virtualenvs/openfl_research/lib/python3.8/site-packages (from jupyter->openfl==1.0.1) (6.3.0)\n",
      "Requirement already satisfied: qtconsole in /home/itrushkin/.virtualenvs/openfl_research/lib/python3.8/site-packages (from jupyter->openfl==1.0.1) (5.0.3)\n",
      "Requirement already satisfied: jupyterlab-widgets>=1.0.0 in /home/itrushkin/.virtualenvs/openfl_research/lib/python3.8/site-packages (from ipywidgets->jupyter->openfl==1.0.1) (1.0.0)\n",
      "Requirement already satisfied: nbformat>=4.2.0 in /home/itrushkin/.virtualenvs/openfl_research/lib/python3.8/site-packages (from ipywidgets->jupyter->openfl==1.0.1) (5.1.2)\n",
      "Requirement already satisfied: widgetsnbextension~=3.5.0 in /home/itrushkin/.virtualenvs/openfl_research/lib/python3.8/site-packages (from ipywidgets->jupyter->openfl==1.0.1) (3.5.1)\n",
      "Requirement already satisfied: jupyter-core in /home/itrushkin/.virtualenvs/openfl_research/lib/python3.8/site-packages (from nbformat>=4.2.0->ipywidgets->jupyter->openfl==1.0.1) (4.7.1)\n",
      "Requirement already satisfied: jsonschema!=2.5.0,>=2.4 in /home/itrushkin/.virtualenvs/openfl_research/lib/python3.8/site-packages (from nbformat>=4.2.0->ipywidgets->jupyter->openfl==1.0.1) (3.2.0)\n"
     ]
    },
    {
     "name": "stdout",
     "output_type": "stream",
     "text": [
      "Requirement already satisfied: attrs>=17.4.0 in /home/itrushkin/.virtualenvs/openfl_research/lib/python3.8/site-packages (from jsonschema!=2.5.0,>=2.4->nbformat>=4.2.0->ipywidgets->jupyter->openfl==1.0.1) (20.3.0)\n",
      "Requirement already satisfied: pyrsistent>=0.14.0 in /home/itrushkin/.virtualenvs/openfl_research/lib/python3.8/site-packages (from jsonschema!=2.5.0,>=2.4->nbformat>=4.2.0->ipywidgets->jupyter->openfl==1.0.1) (0.17.3)\n",
      "Requirement already satisfied: argon2-cffi in /home/itrushkin/.virtualenvs/openfl_research/lib/python3.8/site-packages (from notebook->jupyter->openfl==1.0.1) (20.1.0)\n",
      "Requirement already satisfied: jinja2 in /home/itrushkin/.virtualenvs/openfl_research/lib/python3.8/site-packages (from notebook->jupyter->openfl==1.0.1) (2.11.3)\n",
      "Requirement already satisfied: prometheus-client in /home/itrushkin/.virtualenvs/openfl_research/lib/python3.8/site-packages (from notebook->jupyter->openfl==1.0.1) (0.9.0)\n",
      "Requirement already satisfied: terminado>=0.8.3 in /home/itrushkin/.virtualenvs/openfl_research/lib/python3.8/site-packages (from notebook->jupyter->openfl==1.0.1) (0.9.3)\n",
      "Requirement already satisfied: Send2Trash>=1.5.0 in /home/itrushkin/.virtualenvs/openfl_research/lib/python3.8/site-packages (from notebook->jupyter->openfl==1.0.1) (1.5.0)\n",
      "Requirement already satisfied: pyzmq>=17 in /home/itrushkin/.virtualenvs/openfl_research/lib/python3.8/site-packages (from notebook->jupyter->openfl==1.0.1) (22.0.3)\n",
      "Requirement already satisfied: python-dateutil>=2.1 in /home/itrushkin/.virtualenvs/openfl_research/lib/python3.8/site-packages (from jupyter-client->ipykernel->openfl==1.0.1) (2.8.1)\n",
      "Requirement already satisfied: MarkupSafe>=0.23 in /home/itrushkin/.virtualenvs/openfl_research/lib/python3.8/site-packages (from jinja2->notebook->jupyter->openfl==1.0.1) (1.1.1)\n",
      "Requirement already satisfied: jupyterlab-pygments in /home/itrushkin/.virtualenvs/openfl_research/lib/python3.8/site-packages (from nbconvert->jupyter->openfl==1.0.1) (0.1.2)\n",
      "Requirement already satisfied: testpath in /home/itrushkin/.virtualenvs/openfl_research/lib/python3.8/site-packages (from nbconvert->jupyter->openfl==1.0.1) (0.4.4)\n",
      "Requirement already satisfied: nbclient<0.6.0,>=0.5.0 in /home/itrushkin/.virtualenvs/openfl_research/lib/python3.8/site-packages (from nbconvert->jupyter->openfl==1.0.1) (0.5.3)\n",
      "Requirement already satisfied: bleach in /home/itrushkin/.virtualenvs/openfl_research/lib/python3.8/site-packages (from nbconvert->jupyter->openfl==1.0.1) (3.3.0)\n",
      "Requirement already satisfied: defusedxml in /home/itrushkin/.virtualenvs/openfl_research/lib/python3.8/site-packages (from nbconvert->jupyter->openfl==1.0.1) (0.7.1)\n",
      "Requirement already satisfied: mistune<2,>=0.8.1 in /home/itrushkin/.virtualenvs/openfl_research/lib/python3.8/site-packages (from nbconvert->jupyter->openfl==1.0.1) (0.8.4)\n",
      "Requirement already satisfied: entrypoints>=0.2.2 in /home/itrushkin/.virtualenvs/openfl_research/lib/python3.8/site-packages (from nbconvert->jupyter->openfl==1.0.1) (0.3)\n",
      "Requirement already satisfied: pandocfilters>=1.4.1 in /home/itrushkin/.virtualenvs/openfl_research/lib/python3.8/site-packages (from nbconvert->jupyter->openfl==1.0.1) (1.4.3)\n",
      "Requirement already satisfied: async-generator in /home/itrushkin/.virtualenvs/openfl_research/lib/python3.8/site-packages (from nbclient<0.6.0,>=0.5.0->nbconvert->jupyter->openfl==1.0.1) (1.10)\n",
      "Requirement already satisfied: nest-asyncio in /home/itrushkin/.virtualenvs/openfl_research/lib/python3.8/site-packages (from nbclient<0.6.0,>=0.5.0->nbconvert->jupyter->openfl==1.0.1) (1.5.1)\n",
      "Requirement already satisfied: packaging in /home/itrushkin/.virtualenvs/openfl_research/lib/python3.8/site-packages (from bleach->nbconvert->jupyter->openfl==1.0.1) (20.9)\n",
      "Requirement already satisfied: webencodings in /home/itrushkin/.virtualenvs/openfl_research/lib/python3.8/site-packages (from bleach->nbconvert->jupyter->openfl==1.0.1) (0.5.1)\n",
      "Requirement already satisfied: pyparsing>=2.0.2 in /home/itrushkin/.virtualenvs/openfl_research/lib/python3.8/site-packages (from packaging->bleach->nbconvert->jupyter->openfl==1.0.1) (2.4.7)\n",
      "Requirement already satisfied: pytz>=2017.3 in /home/itrushkin/.virtualenvs/openfl_research/lib/python3.8/site-packages (from pandas->openfl==1.0.1) (2021.1)\n",
      "Requirement already satisfied: qtpy in /home/itrushkin/.virtualenvs/openfl_research/lib/python3.8/site-packages (from qtconsole->jupyter->openfl==1.0.1) (1.9.0)\n",
      "Requirement already satisfied: scipy>=0.19.1 in /home/itrushkin/.virtualenvs/openfl_research/lib/python3.8/site-packages (from scikit-learn->openfl==1.0.1) (1.6.1)\n",
      "Requirement already satisfied: threadpoolctl>=2.0.0 in /home/itrushkin/.virtualenvs/openfl_research/lib/python3.8/site-packages (from scikit-learn->openfl==1.0.1) (2.1.0)\n",
      "Requirement already satisfied: joblib>=0.11 in /home/itrushkin/.virtualenvs/openfl_research/lib/python3.8/site-packages (from scikit-learn->openfl==1.0.1) (1.0.1)\n",
      "Building wheels for collected packages: openfl\n",
      "  Building wheel for openfl (setup.py) ... \u001b[?25ldone\n",
      "\u001b[?25h  Created wheel for openfl: filename=openfl-1.0.1-py3-none-any.whl size=4347476 sha256=74ad0681e425345b8f25eaaf23b3ec453f0d3765306d2f6ececae2989169dbd2\n",
      "  Stored in directory: /home/itrushkin/.cache/pip/wheels/ed/ad/82/f26baafab4be32d052fb76a6f56c9a76ce6903cc3eed7bb394\n",
      "Successfully built openfl\n",
      "Installing collected packages: openfl\n",
      "  Attempting uninstall: openfl\n",
      "    Found existing installation: openfl 1.0.1\n",
      "    Uninstalling openfl-1.0.1:\n",
      "      Successfully uninstalled openfl-1.0.1\n",
      "Successfully installed openfl-1.0.1\n",
      "\u001b[33mWARNING: You are using pip version 21.0.1; however, version 21.1 is available.\n",
      "You should consider upgrading via the '/home/itrushkin/.virtualenvs/openfl_research/bin/python -m pip install --upgrade pip' command.\u001b[0m\n"
     ]
    }
   ],
   "source": [
    "#Install dependencies if not already installed\n",
    "!pip install torch torchvision .."
   ]
  },
  {
   "cell_type": "code",
   "execution_count": 2,
   "metadata": {},
   "outputs": [],
   "source": [
    "import numpy as np\n",
    "import torch\n",
    "import torch.nn as nn\n",
    "import torch.nn.functional as F\n",
    "import torch.optim as optim\n",
    "\n",
    "import torchvision\n",
    "import torchvision.transforms as transforms\n",
    "import openfl.native as fx\n",
    "from openfl.federated import FederatedModel,FederatedDataSet\n"
   ]
  },
  {
   "cell_type": "markdown",
   "metadata": {},
   "source": [
    "After importing the required packages, the next step is setting up our openfl workspace. To do this, simply run the `fx.init()` command as follows:"
   ]
  },
  {
   "cell_type": "code",
   "execution_count": 3,
   "metadata": {},
   "outputs": [
    {
     "name": "stdout",
     "output_type": "stream",
     "text": [
      "Creating Workspace Directories\n",
      "Creating Workspace Templates\n",
      "Successfully installed packages from /home/itrushkin/.local/workspace/requirements.txt.\n",
      "\n",
      "New workspace directory structure:\n",
      "workspace\n",
      "├── plan\n",
      "│   ├── defaults\n",
      "│   │   ├── data_loader.yaml\n",
      "│   │   ├── network.yaml\n",
      "│   │   ├── tasks_keras.yaml\n",
      "│   │   ├── collaborator.yaml\n",
      "│   │   ├── assigner.yaml\n",
      "│   │   ├── task_runner.yaml\n",
      "│   │   ├── defaults\n",
      "│   │   ├── tasks_tensorflow.yaml\n",
      "│   │   ├── aggregator.yaml\n",
      "│   │   ├── tasks_torch.yaml\n",
      "│   │   └── tasks_fast_estimator.yaml\n",
      "│   ├── plan.yaml\n",
      "│   ├── data.yaml\n",
      "│   └── cols.yaml\n",
      "├── logs\n",
      "├── agg_to_col_two_signed_cert.zip\n",
      "├── data\n",
      "│   └── MNIST\n",
      "│       ├── raw\n",
      "│       └── processed\n",
      "├── cert\n",
      "│   ├── ca\n",
      "│   │   ├── signing-ca.crt\n",
      "│   │   ├── root-ca.crt\n",
      "│   │   ├── signing-ca\n",
      "│   │   ├── signing-ca.csr\n",
      "│   │   └── root-ca\n",
      "│   ├── server\n",
      "│   │   ├── agg_nnlicv611.inn.intel.com.csr\n",
      "│   │   ├── agg_nnlicv611.inn.intel.com.key\n",
      "│   │   └── agg_nnlicv611.inn.intel.com.crt\n",
      "│   ├── client\n",
      "│   │   ├── col_two.crt\n",
      "│   │   ├── col_one.crt\n",
      "│   │   ├── col_one.key\n",
      "│   │   └── col_two.key\n",
      "│   ├── cert_chain.crt\n",
      "│   ├── col_one.csr\n",
      "│   └── col_two.csr\n",
      "├── code\n",
      "│   ├── __init__.py\n",
      "│   ├── mnist_utils.py\n",
      "│   ├── ptmnist_inmemory.py\n",
      "│   └── pt_cnn.py\n",
      "├── final_pytorch_model\n",
      "├── .workspace\n",
      "├── requirements.txt\n",
      "├── agg_to_col_one_signed_cert.zip\n",
      "└── save\n",
      "    ├── torch_cnn_mnist_init.pbuf\n",
      "    ├── torch_cnn_mnist_best.pbuf\n",
      "    └── torch_cnn_mnist_last.pbuf\n",
      "\n",
      "15 directories, 39 files\n",
      "Setting Up Certificate Authority...\n",
      "\n",
      "1.  Create Root CA\n",
      "1.1 Create Directories\n",
      "1.2 Create Database\n",
      "1.3 Create CA Request and Certificate\n",
      "2.  Create Signing Certificate\n",
      "2.1 Create Directories\n",
      "2.2 Create Database\n",
      "2.3 Create Signing Certificate CSR\n",
      "2.4 Sign Signing Certificate CSR\n",
      "3   Create Certificate Chain\n",
      "\n",
      "Done.\n",
      "Creating AGGREGATOR certificate key pair with following settings: CN=\u001b[31mnnlicv611.inn.intel.com\u001b[0m, SAN=\u001b[31mDNS:nnlicv611.inn.intel.com\u001b[0m\n",
      "  Writing AGGREGATOR certificate key pair to: \u001b[32mcert/server\u001b[0m\n",
      "The CSR Hash for file \u001b[32mserver/agg_nnlicv611.inn.intel.com.csr\u001b[0m = \u001b[31m6f25767d4e01523a739670ea72cf9c250469335fe7575a95893047b94dd36767b78f0124a5cbf42a49569312031909cf\u001b[0m\n",
      " Signing AGGREGATOR certificate\n",
      "Creating COLLABORATOR certificate key pair with following settings: CN=\u001b[31mone\u001b[0m, SAN=\u001b[31mDNS:one\u001b[0m\n",
      "  Moving COLLABORATOR certificate to: \u001b[32mcert/col_one\u001b[0m\n",
      "The CSR Hash for file \u001b[32mcol_one.csr\u001b[0m = \u001b[31m645764acc690bea59fdf1161f383a879306afdfe8cd858153c879fc4e98a509c7a1592d654ad97983f818c6ac835a4ff\u001b[0m\n",
      " Signing COLLABORATOR certificate\n",
      "\n",
      "Registering \u001b[32mone\u001b[0m in \u001b[32mplan/cols.yaml\u001b[0m\n",
      "Creating COLLABORATOR certificate key pair with following settings: CN=\u001b[31mtwo\u001b[0m, SAN=\u001b[31mDNS:two\u001b[0m\n",
      "  Moving COLLABORATOR certificate to: \u001b[32mcert/col_two\u001b[0m\n",
      "The CSR Hash for file \u001b[32mcol_two.csr\u001b[0m = \u001b[31me765c961897f56936d19fa6b83ff9395d2a1a81ec7403af550ef8daff11eeb6b8a1dae13dbe91c028c15881fa9dc0311\u001b[0m\n",
      " Signing COLLABORATOR certificate\n",
      "\n",
      "Registering \u001b[32mtwo\u001b[0m in \u001b[32mplan/cols.yaml\u001b[0m\n"
     ]
    }
   ],
   "source": [
    "#Setup default workspace, logging, etc.\n",
    "fx.init('torch_cnn_mnist')"
   ]
  },
  {
   "cell_type": "markdown",
   "metadata": {},
   "source": [
    "Now we are ready to define our dataset and model to perform federated learning on. The dataset should be composed of a numpy arrayWe start with a simple fully connected model that is trained on the MNIST dataset. "
   ]
  },
  {
   "cell_type": "code",
   "execution_count": 4,
   "metadata": {},
   "outputs": [
    {
     "name": "stderr",
     "output_type": "stream",
     "text": [
      "/home/itrushkin/.virtualenvs/openfl_research/lib/python3.8/site-packages/torchvision/datasets/mnist.py:64: UserWarning: train_data has been renamed data\n",
      "  warnings.warn(\"train_data has been renamed data\")\n",
      "/home/itrushkin/.virtualenvs/openfl_research/lib/python3.8/site-packages/torchvision/datasets/mnist.py:54: UserWarning: train_labels has been renamed targets\n",
      "  warnings.warn(\"train_labels has been renamed targets\")\n",
      "/home/itrushkin/.virtualenvs/openfl_research/lib/python3.8/site-packages/torchvision/datasets/mnist.py:69: UserWarning: test_data has been renamed data\n",
      "  warnings.warn(\"test_data has been renamed data\")\n",
      "/home/itrushkin/.virtualenvs/openfl_research/lib/python3.8/site-packages/torchvision/datasets/mnist.py:59: UserWarning: test_labels has been renamed targets\n",
      "  warnings.warn(\"test_labels has been renamed targets\")\n"
     ]
    }
   ],
   "source": [
    "def one_hot(labels, classes):\n",
    "    return np.eye(classes)[labels]\n",
    "\n",
    "transform = transforms.Compose(\n",
    "    [transforms.ToTensor(),\n",
    "     transforms.Normalize((0.5, 0.5, 0.5), (0.5, 0.5, 0.5))])\n",
    "\n",
    "trainset = torchvision.datasets.MNIST(root='./data', train=True,\n",
    "                                        download=True, transform=transform)\n",
    "\n",
    "train_images,train_labels = trainset.train_data, np.array(trainset.train_labels)\n",
    "train_images = torch.from_numpy(np.expand_dims(train_images, axis=1)).float()\n",
    "train_labels = one_hot(train_labels,10)\n",
    "\n",
    "validset = torchvision.datasets.MNIST(root='./data', train=False,\n",
    "                                       download=True, transform=transform)\n",
    "\n",
    "valid_images,valid_labels = validset.test_data, np.array(validset.test_labels)\n",
    "valid_images = torch.from_numpy(np.expand_dims(valid_images, axis=1)).float()\n",
    "valid_labels = one_hot(valid_labels,10)"
   ]
  },
  {
   "cell_type": "code",
   "execution_count": 5,
   "metadata": {},
   "outputs": [],
   "source": [
    "feature_shape = train_images.shape[1]\n",
    "classes       = 10\n",
    "\n",
    "fl_data = FederatedDataSet(train_images,train_labels,valid_images,valid_labels,batch_size=32,num_classes=classes)\n",
    "\n",
    "class Net(nn.Module):\n",
    "    def __init__(self):\n",
    "        super(Net, self).__init__()\n",
    "        self.conv1 = nn.Conv2d(1, 16, 3)\n",
    "        self.pool = nn.MaxPool2d(2, 2)\n",
    "        self.conv2 = nn.Conv2d(16, 32, 3)\n",
    "        self.fc1 = nn.Linear(32 * 5 * 5, 32)\n",
    "        self.fc2 = nn.Linear(32, 84)\n",
    "        self.fc3 = nn.Linear(84, 10)\n",
    "\n",
    "    def forward(self, x):\n",
    "        x = self.pool(F.relu(self.conv1(x)))\n",
    "        x = self.pool(F.relu(self.conv2(x)))\n",
    "        x = x.view(x.size(0),-1)\n",
    "        x = F.relu(self.fc1(x))\n",
    "        x = F.relu(self.fc2(x))\n",
    "        x = self.fc3(x)\n",
    "        return x\n",
    "    \n",
    "optimizer = lambda x: optim.Adam(x, lr=1e-4)\n",
    "\n",
    "def cross_entropy(output, target):\n",
    "    \"\"\"Binary cross-entropy metric\n",
    "    \"\"\"\n",
    "    return F.cross_entropy(input=output,target=torch.argmax(target, dim=1))"
   ]
  },
  {
   "cell_type": "code",
   "execution_count": 6,
   "metadata": {},
   "outputs": [
    {
     "data": {
      "text/html": [
       "<pre style=\"white-space:pre;overflow-x:auto;line-height:normal;font-family:Menlo,'DejaVu Sans Mono',consolas,'Courier New',monospace\"><span style=\"color: #7fbfbf\">[13:07:41] </span><span style=\"color: #800000\">WARNING</span>  tried to remove tensor: __opt_state_needed not present in the tensor dict                                                        <a href=\"file:///home/itrushkin/.virtualenvs/openfl_research/lib/python3.8/site-packages/openfl/utilities/utils.py\"><span style=\"color: #7f7f7f\">utils.py</span></a><span style=\"color: #7f7f7f\">:85</span>\n",
       "</pre>\n"
      ],
      "text/plain": [
       "<rich.jupyter.JupyterRenderable at 0x7fbd141f68b0>"
      ]
     },
     "metadata": {},
     "output_type": "display_data"
    }
   ],
   "source": [
    "\n",
    "#Create a federated model using the pytorch class, lambda optimizer function, and loss function\n",
    "fl_model = FederatedModel(build_model=Net,optimizer=optimizer,loss_fn=cross_entropy,data_loader=fl_data)"
   ]
  },
  {
   "cell_type": "markdown",
   "metadata": {},
   "source": [
    "The `FederatedModel` object is a wrapper around your Keras, Tensorflow or PyTorch model that makes it compatible with openfl. It provides built in federated training and validation functions that we will see used below. Using it's `setup` function, collaborator models and datasets can be automatically defined for the experiment. "
   ]
  },
  {
   "cell_type": "code",
   "execution_count": 7,
   "metadata": {},
   "outputs": [
    {
     "data": {
      "text/html": [
       "<pre style=\"white-space:pre;overflow-x:auto;line-height:normal;font-family:Menlo,'DejaVu Sans Mono',consolas,'Courier New',monospace\"><span style=\"color: #7fbfbf\">           </span><span style=\"color: #800000\">WARNING</span>  tried to remove tensor: __opt_state_needed not present in the tensor dict                                                        <a href=\"file:///home/itrushkin/.virtualenvs/openfl_research/lib/python3.8/site-packages/openfl/utilities/utils.py\"><span style=\"color: #7f7f7f\">utils.py</span></a><span style=\"color: #7f7f7f\">:85</span>\n",
       "</pre>\n"
      ],
      "text/plain": [
       "<rich.jupyter.JupyterRenderable at 0x7fbcfb412f10>"
      ]
     },
     "metadata": {},
     "output_type": "display_data"
    },
    {
     "data": {
      "text/html": [
       "<pre style=\"white-space:pre;overflow-x:auto;line-height:normal;font-family:Menlo,'DejaVu Sans Mono',consolas,'Courier New',monospace\"><span style=\"color: #7fbfbf\">           </span><span style=\"color: #800000\">WARNING</span>  tried to remove tensor: __opt_state_needed not present in the tensor dict                                                        <a href=\"file:///home/itrushkin/.virtualenvs/openfl_research/lib/python3.8/site-packages/openfl/utilities/utils.py\"><span style=\"color: #7f7f7f\">utils.py</span></a><span style=\"color: #7f7f7f\">:85</span>\n",
       "</pre>\n"
      ],
      "text/plain": [
       "<rich.jupyter.JupyterRenderable at 0x7fbcfb412ca0>"
      ]
     },
     "metadata": {},
     "output_type": "display_data"
    }
   ],
   "source": [
    "collaborator_models = fl_model.setup(num_collaborators=2)\n",
    "collaborators = {'one':collaborator_models[0],'two':collaborator_models[1]}#, 'three':collaborator_models[2]}"
   ]
  },
  {
   "cell_type": "code",
   "execution_count": 8,
   "metadata": {},
   "outputs": [
    {
     "name": "stdout",
     "output_type": "stream",
     "text": [
      "Original training data size: 60000\n",
      "Original validation data size: 10000\n",
      "\n",
      "Collaborator one's training data size: 30000\n",
      "Collaborator one's validation data size: 5000\n",
      "\n",
      "Collaborator two's training data size: 30000\n",
      "Collaborator two's validation data size: 5000\n",
      "\n"
     ]
    }
   ],
   "source": [
    "#Original MNIST dataset\n",
    "print(f'Original training data size: {len(train_images)}')\n",
    "print(f'Original validation data size: {len(valid_images)}\\n')\n",
    "\n",
    "#Collaborator one's data\n",
    "print(f'Collaborator one\\'s training data size: {len(collaborator_models[0].data_loader.X_train)}')\n",
    "print(f'Collaborator one\\'s validation data size: {len(collaborator_models[0].data_loader.X_valid)}\\n')\n",
    "\n",
    "#Collaborator two's data\n",
    "print(f'Collaborator two\\'s training data size: {len(collaborator_models[1].data_loader.X_train)}')\n",
    "print(f'Collaborator two\\'s validation data size: {len(collaborator_models[1].data_loader.X_valid)}\\n')\n",
    "\n",
    "#Collaborator three's data\n",
    "#print(f'Collaborator three\\'s training data size: {len(collaborator_models[2].data_loader.X_train)}')\n",
    "#print(f'Collaborator three\\'s validation data size: {len(collaborator_models[2].data_loader.X_valid)}')"
   ]
  },
  {
   "cell_type": "markdown",
   "metadata": {},
   "source": [
    "We can see the current plan values by running the `fx.get_plan()` function"
   ]
  },
  {
   "cell_type": "code",
   "execution_count": 9,
   "metadata": {},
   "outputs": [
    {
     "name": "stdout",
     "output_type": "stream",
     "text": [
      "{\n",
      "    \"aggregator.settings.best_state_path\": \"save/torch_cnn_mnist_best.pbuf\",\n",
      "    \"aggregator.settings.db_store_rounds\": 1,\n",
      "    \"aggregator.settings.init_state_path\": \"save/torch_cnn_mnist_init.pbuf\",\n",
      "    \"aggregator.settings.last_state_path\": \"save/torch_cnn_mnist_last.pbuf\",\n",
      "    \"aggregator.settings.rounds_to_train\": 10,\n",
      "    \"aggregator.template\": \"openfl.component.Aggregator\",\n",
      "    \"assigner.settings.task_groups\": [\n",
      "        {\n",
      "            \"name\": \"train_and_validate\",\n",
      "            \"percentage\": 1.0,\n",
      "            \"tasks\": [\n",
      "                \"aggregated_model_validation\",\n",
      "                \"train\",\n",
      "                \"locally_tuned_model_validation\"\n",
      "            ]\n",
      "        }\n",
      "    ],\n",
      "    \"assigner.template\": \"openfl.component.RandomGroupedAssigner\",\n",
      "    \"collaborator.settings.db_store_rounds\": 1,\n",
      "    \"collaborator.settings.delta_updates\": false,\n",
      "    \"collaborator.settings.opt_treatment\": \"RESET\",\n",
      "    \"collaborator.template\": \"openfl.component.Collaborator\",\n",
      "    \"data_loader.settings.batch_size\": 256,\n",
      "    \"data_loader.settings.collaborator_count\": 2,\n",
      "    \"data_loader.settings.data_group_name\": \"mnist\",\n",
      "    \"data_loader.template\": \"code.ptmnist_inmemory.PyTorchMNISTInMemory\",\n",
      "    \"network.settings.agg_addr\": \"nnlicv611.inn.intel.com\",\n",
      "    \"network.settings.agg_port\": 56041,\n",
      "    \"network.settings.cert_folder\": \"cert\",\n",
      "    \"network.settings.client_reconnect_interval\": 5,\n",
      "    \"network.settings.disable_client_auth\": false,\n",
      "    \"network.settings.disable_tls\": false,\n",
      "    \"network.settings.hash_salt\": \"auto\",\n",
      "    \"network.template\": \"openfl.federation.Network\",\n",
      "    \"task_runner.settings\": {},\n",
      "    \"task_runner.template\": \"code.pt_cnn.PyTorchCNN\",\n",
      "    \"tasks.aggregated_model_validation.function\": \"validate\",\n",
      "    \"tasks.aggregated_model_validation.kwargs\": {\n",
      "        \"apply\": \"global\",\n",
      "        \"metrics\": [\n",
      "            \"acc\"\n",
      "        ]\n",
      "    },\n",
      "    \"tasks.locally_tuned_model_validation.function\": \"validate\",\n",
      "    \"tasks.locally_tuned_model_validation.kwargs\": {\n",
      "        \"apply\": \"local\",\n",
      "        \"metrics\": [\n",
      "            \"acc\"\n",
      "        ]\n",
      "    },\n",
      "    \"tasks.settings\": {},\n",
      "    \"tasks.train.function\": \"train_batches\",\n",
      "    \"tasks.train.kwargs\": {\n",
      "        \"metrics\": [\n",
      "            \"loss\"\n",
      "        ]\n",
      "    }\n",
      "}\n"
     ]
    }
   ],
   "source": [
    " #Get the current values of the plan. Each of these can be overridden\n",
    "import json\n",
    "print(json.dumps(fx.get_plan(), indent=4, sort_keys=True))"
   ]
  },
  {
   "cell_type": "markdown",
   "metadata": {},
   "source": [
    "Now we are ready to run our experiment. If we want to pass in custom plan settings, we can easily do that with the `override_config` parameter"
   ]
  },
  {
   "cell_type": "code",
   "execution_count": 12,
   "metadata": {},
   "outputs": [
    {
     "data": {
      "text/html": [
       "<pre style=\"white-space:pre;overflow-x:auto;line-height:normal;font-family:Menlo,'DejaVu Sans Mono',consolas,'Courier New',monospace\"><span style=\"color: #7fbfbf\">[13:09:33] </span><span style=\"color: #000080\">INFO</span>     Updating aggregator.settings.rounds_to_train to <span style=\"color: #000080; font-weight: bold\">5</span><span style=\"color: #808000\">...</span>                                                                           <a href=\"file:///home/itrushkin/.virtualenvs/openfl_research/lib/python3.8/site-packages/openfl/native/native.py\"><span style=\"color: #7f7f7f\">native.py</span></a><span style=\"color: #7f7f7f\">:105</span>\n",
       "</pre>\n"
      ],
      "text/plain": [
       "<rich.jupyter.JupyterRenderable at 0x7fbc081c22e0>"
      ]
     },
     "metadata": {},
     "output_type": "display_data"
    },
    {
     "data": {
      "text/html": [
       "<pre style=\"white-space:pre;overflow-x:auto;line-height:normal;font-family:Menlo,'DejaVu Sans Mono',consolas,'Courier New',monospace\"><span style=\"color: #7fbfbf\">           </span><span style=\"color: #000080\">INFO</span>     Updating tasks.train.aggregation_type to <span style=\"font-weight: bold\">&lt;</span><span style=\"color: #ff00ff; font-weight: bold\">__main__.ClippedAveraging</span><span style=\"color: #000000\"> object at </span><span style=\"color: #000080; font-weight: bold\">0x7fbcfb412ac0</span><span style=\"font-weight: bold\">&gt;</span><span style=\"color: #808000\">...</span>                               <a href=\"file:///home/itrushkin/.virtualenvs/openfl_research/lib/python3.8/site-packages/openfl/native/native.py\"><span style=\"color: #7f7f7f\">native.py</span></a><span style=\"color: #7f7f7f\">:105</span>\n",
       "</pre>\n"
      ],
      "text/plain": [
       "<rich.jupyter.JupyterRenderable at 0x7fbc0a91bb80>"
      ]
     },
     "metadata": {},
     "output_type": "display_data"
    },
    {
     "data": {
      "text/html": [
       "<pre style=\"white-space:pre;overflow-x:auto;line-height:normal;font-family:Menlo,'DejaVu Sans Mono',consolas,'Courier New',monospace\"><span style=\"color: #7fbfbf\">           </span><span style=\"color: #000080\">INFO</span>     Loading DEFAULTS for section <span style=\"color: #800000\">aggregator</span> from file <span style=\"color: #800000\">plan/defaults/aggregator.yaml</span>.                                                  <a href=\"file:///home/itrushkin/.virtualenvs/openfl_research/lib/python3.8/site-packages/openfl/federated/plan/plan.py\"><span style=\"color: #7f7f7f\">plan.py</span></a><span style=\"color: #7f7f7f\">:92</span>\n",
       "</pre>\n"
      ],
      "text/plain": [
       "<rich.jupyter.JupyterRenderable at 0x7fbcfb3c37c0>"
      ]
     },
     "metadata": {},
     "output_type": "display_data"
    },
    {
     "data": {
      "text/html": [
       "<pre style=\"white-space:pre;overflow-x:auto;line-height:normal;font-family:Menlo,'DejaVu Sans Mono',consolas,'Courier New',monospace\"><span style=\"color: #7fbfbf\">           </span><span style=\"color: #000080\">INFO</span>     Loading DEFAULTS for section <span style=\"color: #800000\">assigner</span> from file <span style=\"color: #800000\">plan/defaults/assigner.yaml</span>.                                                      <a href=\"file:///home/itrushkin/.virtualenvs/openfl_research/lib/python3.8/site-packages/openfl/federated/plan/plan.py\"><span style=\"color: #7f7f7f\">plan.py</span></a><span style=\"color: #7f7f7f\">:92</span>\n",
       "</pre>\n"
      ],
      "text/plain": [
       "<rich.jupyter.JupyterRenderable at 0x7fbd141f6ac0>"
      ]
     },
     "metadata": {},
     "output_type": "display_data"
    },
    {
     "data": {
      "text/html": [
       "<pre style=\"white-space:pre;overflow-x:auto;line-height:normal;font-family:Menlo,'DejaVu Sans Mono',consolas,'Courier New',monospace\"><span style=\"color: #7fbfbf\">           </span><span style=\"color: #000080\">INFO</span>     Loading DEFAULTS for section <span style=\"color: #800000\">collaborator</span> from file <span style=\"color: #800000\">plan/defaults/collaborator.yaml</span>.                                              <a href=\"file:///home/itrushkin/.virtualenvs/openfl_research/lib/python3.8/site-packages/openfl/federated/plan/plan.py\"><span style=\"color: #7f7f7f\">plan.py</span></a><span style=\"color: #7f7f7f\">:92</span>\n",
       "</pre>\n"
      ],
      "text/plain": [
       "<rich.jupyter.JupyterRenderable at 0x7fbc08192d90>"
      ]
     },
     "metadata": {},
     "output_type": "display_data"
    },
    {
     "data": {
      "text/html": [
       "<pre style=\"white-space:pre;overflow-x:auto;line-height:normal;font-family:Menlo,'DejaVu Sans Mono',consolas,'Courier New',monospace\"><span style=\"color: #7fbfbf\">           </span><span style=\"color: #000080\">INFO</span>     Loading DEFAULTS for section <span style=\"color: #800000\">data_loader</span> from file <span style=\"color: #800000\">plan/defaults/data_loader.yaml</span>.                                                <a href=\"file:///home/itrushkin/.virtualenvs/openfl_research/lib/python3.8/site-packages/openfl/federated/plan/plan.py\"><span style=\"color: #7f7f7f\">plan.py</span></a><span style=\"color: #7f7f7f\">:92</span>\n",
       "</pre>\n"
      ],
      "text/plain": [
       "<rich.jupyter.JupyterRenderable at 0x7fbc08162b50>"
      ]
     },
     "metadata": {},
     "output_type": "display_data"
    },
    {
     "data": {
      "text/html": [
       "<pre style=\"white-space:pre;overflow-x:auto;line-height:normal;font-family:Menlo,'DejaVu Sans Mono',consolas,'Courier New',monospace\"><span style=\"color: #7fbfbf\">           </span><span style=\"color: #000080\">INFO</span>     Loading DEFAULTS for section <span style=\"color: #800000\">network</span> from file <span style=\"color: #800000\">plan/defaults/network.yaml</span>.                                                        <a href=\"file:///home/itrushkin/.virtualenvs/openfl_research/lib/python3.8/site-packages/openfl/federated/plan/plan.py\"><span style=\"color: #7f7f7f\">plan.py</span></a><span style=\"color: #7f7f7f\">:92</span>\n",
       "</pre>\n"
      ],
      "text/plain": [
       "<rich.jupyter.JupyterRenderable at 0x7fbc08192490>"
      ]
     },
     "metadata": {},
     "output_type": "display_data"
    },
    {
     "data": {
      "text/html": [
       "<pre style=\"white-space:pre;overflow-x:auto;line-height:normal;font-family:Menlo,'DejaVu Sans Mono',consolas,'Courier New',monospace\"><span style=\"color: #7fbfbf\">           </span><span style=\"color: #000080\">INFO</span>     Loading DEFAULTS for section <span style=\"color: #800000\">task_runner</span> from file <span style=\"color: #800000\">plan/defaults/task_runner.yaml</span>.                                                <a href=\"file:///home/itrushkin/.virtualenvs/openfl_research/lib/python3.8/site-packages/openfl/federated/plan/plan.py\"><span style=\"color: #7f7f7f\">plan.py</span></a><span style=\"color: #7f7f7f\">:92</span>\n",
       "</pre>\n"
      ],
      "text/plain": [
       "<rich.jupyter.JupyterRenderable at 0x7fbc0819fe20>"
      ]
     },
     "metadata": {},
     "output_type": "display_data"
    },
    {
     "data": {
      "text/html": [
       "<pre style=\"white-space:pre;overflow-x:auto;line-height:normal;font-family:Menlo,'DejaVu Sans Mono',consolas,'Courier New',monospace\"><span style=\"color: #7fbfbf\">           </span><span style=\"color: #000080\">INFO</span>     Loading DEFAULTS for section <span style=\"color: #800000\">tasks</span> from file <span style=\"color: #800000\">plan/defaults/tasks_torch.yaml</span>.                                                      <a href=\"file:///home/itrushkin/.virtualenvs/openfl_research/lib/python3.8/site-packages/openfl/federated/plan/plan.py\"><span style=\"color: #7f7f7f\">plan.py</span></a><span style=\"color: #7f7f7f\">:92</span>\n",
       "</pre>\n"
      ],
      "text/plain": [
       "<rich.jupyter.JupyterRenderable at 0x7fbc08162100>"
      ]
     },
     "metadata": {},
     "output_type": "display_data"
    },
    {
     "data": {
      "text/html": [
       "<pre style=\"white-space:pre;overflow-x:auto;line-height:normal;font-family:Menlo,'DejaVu Sans Mono',consolas,'Courier New',monospace\"><span style=\"color: #7fbfbf\">[13:09:34] </span><span style=\"color: #000080\">INFO</span>     FL-Plan hash is <span style=\"color: #000080\">a3648f03752a44c440017cf7e2934e9f3d3e94eb836caf4bdfdf05151cc4236670053db59707a663389c3027a70696c7</span>                 <a href=\"file:///home/itrushkin/.virtualenvs/openfl_research/lib/python3.8/site-packages/openfl/federated/plan/plan.py\"><span style=\"color: #7f7f7f\">plan.py</span></a><span style=\"color: #7f7f7f\">:202</span>\n",
       "</pre>\n"
      ],
      "text/plain": [
       "<rich.jupyter.JupyterRenderable at 0x7fbc0819ed60>"
      ]
     },
     "metadata": {},
     "output_type": "display_data"
    },
    {
     "data": {
      "text/html": [
       "<pre style=\"white-space:pre;overflow-x:auto;line-height:normal;font-family:Menlo,'DejaVu Sans Mono',consolas,'Courier New',monospace\"><span style=\"color: #7fbfbf\">           </span><span style=\"color: #000080\">INFO</span>     Parsing Federated Learning Plan : <span style=\"color: #008000\">SUCCESS</span> : <span style=\"color: #000080\">plan/plan.yaml</span>.                                                                      <a href=\"file:///home/itrushkin/.virtualenvs/openfl_research/lib/python3.8/site-packages/openfl/federated/plan/plan.py\"><span style=\"color: #7f7f7f\">plan.py</span></a><span style=\"color: #7f7f7f\">:128</span>\n",
       "</pre>\n"
      ],
      "text/plain": [
       "<rich.jupyter.JupyterRenderable at 0x7fbc1113dcd0>"
      ]
     },
     "metadata": {},
     "output_type": "display_data"
    },
    {
     "data": {
      "text/html": [
       "<pre style=\"white-space:pre;overflow-x:auto;line-height:normal;font-family:Menlo,'DejaVu Sans Mono',consolas,'Courier New',monospace\"><span style=\"color: #7fbfbf\">           </span><span style=\"color: #000080\">INFO</span>     aggregator:                                                                                                                      <a href=\"file:///home/itrushkin/.virtualenvs/openfl_research/lib/python3.8/site-packages/openfl/federated/plan/plan.py\"><span style=\"color: #7f7f7f\">plan.py</span></a><span style=\"color: #7f7f7f\">:132</span>\n",
       "                      defaults: plan/defaults/aggregator.yaml                                                                                                   \n",
       "                      settings:                                                                                                                                 \n",
       "                        best_state_path: save/torch_cnn_mnist_best.pbuf                                                                                         \n",
       "                        db_store_rounds: <span style=\"color: #000080; font-weight: bold\">1</span>                                                                                                                      \n",
       "                        init_state_path: save/torch_cnn_mnist_init.pbuf                                                                                         \n",
       "                        last_state_path: save/torch_cnn_mnist_last.pbuf                                                                                         \n",
       "                        rounds_to_train: <span style=\"color: #000080; font-weight: bold\">5</span>                                                                                                                      \n",
       "                      template: openfl.component.Aggregator                                                                                                     \n",
       "                    assigner:                                                                                                                                   \n",
       "                      defaults: plan/defaults/assigner.yaml                                                                                                     \n",
       "                      settings:                                                                                                                                 \n",
       "                        task_groups:                                                                                                                            \n",
       "                        - name: train_and_validate                                                                                                              \n",
       "                          percentage: <span style=\"color: #000080; font-weight: bold\">1.0</span>                                                                                                                       \n",
       "                          tasks:                                                                                                                                \n",
       "                          - aggregated_model_validation                                                                                                         \n",
       "                          - train                                                                                                                               \n",
       "                          - locally_tuned_model_validation                                                                                                      \n",
       "                      template: openfl.component.RandomGroupedAssigner                                                                                          \n",
       "                    collaborator:                                                                                                                               \n",
       "                      defaults: plan/defaults/collaborator.yaml                                                                                                 \n",
       "                      settings:                                                                                                                                 \n",
       "                        db_store_rounds: <span style=\"color: #000080; font-weight: bold\">1</span>                                                                                                                      \n",
       "                        delta_updates: false                                                                                                                    \n",
       "                        opt_treatment: RESET                                                                                                                    \n",
       "                      template: openfl.component.Collaborator                                                                                                   \n",
       "                    data_loader:                                                                                                                                \n",
       "                      defaults: plan/defaults/data_loader.yaml                                                                                                  \n",
       "                      settings:                                                                                                                                 \n",
       "                        batch_size: <span style=\"color: #000080; font-weight: bold\">256</span>                                                                                                                         \n",
       "                        collaborator_count: <span style=\"color: #000080; font-weight: bold\">2</span>                                                                                                                   \n",
       "                        data_group_name: mnist                                                                                                                  \n",
       "                      template: code.ptmnist_inmemory.PyTorchMNISTInMemory                                                                                      \n",
       "                    network:                                                                                                                                    \n",
       "                      defaults: plan/defaults/network.yaml                                                                                                      \n",
       "                      settings:                                                                                                                                 \n",
       "                        agg_addr: nnlicv611.inn.intel.com                                                                                                       \n",
       "                        agg_port: <span style=\"color: #000080; font-weight: bold\">56041</span>                                                                                                                         \n",
       "                        cert_folder: cert                                                                                                                       \n",
       "                        client_reconnect_interval: <span style=\"color: #000080; font-weight: bold\">5</span>                                                                                                            \n",
       "                        disable_client_auth: false                                                                                                              \n",
       "                        disable_tls: false                                                                                                                      \n",
       "                        hash_salt: auto                                                                                                                         \n",
       "                      template: openfl.federation.Network                                                                                                       \n",
       "                    task_runner:                                                                                                                                \n",
       "                      defaults: plan/defaults/task_runner.yaml                                                                                                  \n",
       "                      settings: <span style=\"font-weight: bold\">{}</span>                                                                                                                              \n",
       "                      template: code.pt_cnn.PyTorchCNN                                                                                                          \n",
       "                    tasks:                                                                                                                                      \n",
       "                      aggregated_model_validation:                                                                                                              \n",
       "                        function: validate                                                                                                                      \n",
       "                        kwargs:                                                                                                                                 \n",
       "                          apply: global                                                                                                                         \n",
       "                          metrics:                                                                                                                              \n",
       "                          - acc                                                                                                                                 \n",
       "                      defaults: plan/defaults/tasks_torch.yaml                                                                                                  \n",
       "                      locally_tuned_model_validation:                                                                                                           \n",
       "                        function: validate                                                                                                                      \n",
       "                        kwargs:                                                                                                                                 \n",
       "                          apply: local                                                                                                                          \n",
       "                          metrics:                                                                                                                              \n",
       "                          - acc                                                                                                                                 \n",
       "                      settings: <span style=\"font-weight: bold\">{}</span>                                                                                                                              \n",
       "                      train:                                                                                                                                    \n",
       "                        aggregation_type: !!python/object:__main__.ClippedAveraging <span style=\"font-weight: bold\">{}</span>                                                                          \n",
       "                        function: train_batches                                                                                                                 \n",
       "                        kwargs:                                                                                                                                 \n",
       "                          metrics:                                                                                                                              \n",
       "                          - loss                                                                                                                                \n",
       "                                                                                                                                                                \n",
       "</pre>\n"
      ],
      "text/plain": [
       "<rich.jupyter.JupyterRenderable at 0x7fbcfb3c3a00>"
      ]
     },
     "metadata": {},
     "output_type": "display_data"
    },
    {
     "data": {
      "text/html": [
       "<pre style=\"white-space:pre;overflow-x:auto;line-height:normal;font-family:Menlo,'DejaVu Sans Mono',consolas,'Courier New',monospace\"><span style=\"color: #7fbfbf\">           </span><span style=\"color: #000080\">INFO</span>     Building <span style=\"color: #800000\">🡆</span> Object <span style=\"color: #800000\">NoCompressionPipeline</span> from <span style=\"color: #800000\">openfl.pipelines</span> Module.                                                            <a href=\"file:///home/itrushkin/.virtualenvs/openfl_research/lib/python3.8/site-packages/openfl/federated/plan/plan.py\"><span style=\"color: #7f7f7f\">plan.py</span></a><span style=\"color: #7f7f7f\">:162</span>\n",
       "</pre>\n"
      ],
      "text/plain": [
       "<rich.jupyter.JupyterRenderable at 0x7fbd141f6a00>"
      ]
     },
     "metadata": {},
     "output_type": "display_data"
    },
    {
     "data": {
      "text/html": [
       "<pre style=\"white-space:pre;overflow-x:auto;line-height:normal;font-family:Menlo,'DejaVu Sans Mono',consolas,'Courier New',monospace\"><span style=\"color: #7fbfbf\">           </span><span style=\"color: #000080\">INFO</span>     Settings <span style=\"color: #800000\">🡆</span> <span style=\"font-weight: bold\">{}</span>                                                                                                                    <a href=\"file:///home/itrushkin/.virtualenvs/openfl_research/lib/python3.8/site-packages/openfl/federated/plan/plan.py\"><span style=\"color: #7f7f7f\">plan.py</span></a><span style=\"color: #7f7f7f\">:165</span>\n",
       "</pre>\n"
      ],
      "text/plain": [
       "<rich.jupyter.JupyterRenderable at 0x7fbc081622b0>"
      ]
     },
     "metadata": {},
     "output_type": "display_data"
    },
    {
     "data": {
      "text/html": [
       "<pre style=\"white-space:pre;overflow-x:auto;line-height:normal;font-family:Menlo,'DejaVu Sans Mono',consolas,'Courier New',monospace\"><span style=\"color: #7fbfbf\">           </span><span style=\"color: #000080\">INFO</span>     Override <span style=\"color: #800000\">🡆</span> <span style=\"font-weight: bold\">{}</span>                                                                                                                    <a href=\"file:///home/itrushkin/.virtualenvs/openfl_research/lib/python3.8/site-packages/openfl/federated/plan/plan.py\"><span style=\"color: #7f7f7f\">plan.py</span></a><span style=\"color: #7f7f7f\">:167</span>\n",
       "</pre>\n"
      ],
      "text/plain": [
       "<rich.jupyter.JupyterRenderable at 0x7fbcfb3c3a00>"
      ]
     },
     "metadata": {},
     "output_type": "display_data"
    },
    {
     "data": {
      "text/html": [
       "<pre style=\"white-space:pre;overflow-x:auto;line-height:normal;font-family:Menlo,'DejaVu Sans Mono',consolas,'Courier New',monospace\"><span style=\"color: #7fbfbf\">           </span><span style=\"color: #000080\">INFO</span>     Creating Initial Weights File    🠆 save/torch_cnn_mnist_init.pbuf                                                              <a href=\"file:///home/itrushkin/.virtualenvs/openfl_research/lib/python3.8/site-packages/openfl/native/native.py\"><span style=\"color: #7f7f7f\">native.py</span></a><span style=\"color: #7f7f7f\">:274</span>\n",
       "</pre>\n"
      ],
      "text/plain": [
       "<rich.jupyter.JupyterRenderable at 0x7fbc0a8d0be0>"
      ]
     },
     "metadata": {},
     "output_type": "display_data"
    },
    {
     "data": {
      "text/html": [
       "<pre style=\"white-space:pre;overflow-x:auto;line-height:normal;font-family:Menlo,'DejaVu Sans Mono',consolas,'Courier New',monospace\"><span style=\"color: #7fbfbf\">           </span><span style=\"color: #000080\">INFO</span>     Starting Experiment<span style=\"color: #808000\">...</span>                                                                                                         <a href=\"file:///home/itrushkin/.virtualenvs/openfl_research/lib/python3.8/site-packages/openfl/native/native.py\"><span style=\"color: #7f7f7f\">native.py</span></a><span style=\"color: #7f7f7f\">:278</span>\n",
       "</pre>\n"
      ],
      "text/plain": [
       "<rich.jupyter.JupyterRenderable at 0x7fbc1113dd60>"
      ]
     },
     "metadata": {},
     "output_type": "display_data"
    },
    {
     "data": {
      "text/html": [
       "<pre style=\"white-space:pre;overflow-x:auto;line-height:normal;font-family:Menlo,'DejaVu Sans Mono',consolas,'Courier New',monospace\"><span style=\"color: #7fbfbf\">           </span><span style=\"color: #000080\">INFO</span>     Building <span style=\"color: #800000\">🡆</span> Object <span style=\"color: #800000\">RandomGroupedAssigner</span> from <span style=\"color: #800000\">openfl.component</span> Module.                                                            <a href=\"file:///home/itrushkin/.virtualenvs/openfl_research/lib/python3.8/site-packages/openfl/federated/plan/plan.py\"><span style=\"color: #7f7f7f\">plan.py</span></a><span style=\"color: #7f7f7f\">:162</span>\n",
       "</pre>\n"
      ],
      "text/plain": [
       "<rich.jupyter.JupyterRenderable at 0x7fbcfb3c3ac0>"
      ]
     },
     "metadata": {},
     "output_type": "display_data"
    },
    {
     "data": {
      "text/html": [
       "<pre style=\"white-space:pre;overflow-x:auto;line-height:normal;font-family:Menlo,'DejaVu Sans Mono',consolas,'Courier New',monospace\"><span style=\"color: #7fbfbf\">           </span><span style=\"color: #000080\">INFO</span>     Settings <span style=\"color: #800000\">🡆</span> <span style=\"font-weight: bold\">{</span><span style=\"color: #008000\">'task_groups'</span>: <span style=\"font-weight: bold\">[{</span><span style=\"color: #008000\">'name'</span>: <span style=\"color: #008000\">'train_and_validate'</span>, <span style=\"color: #008000\">'percentage'</span>: <span style=\"color: #000080; font-weight: bold\">1.0</span>, <span style=\"color: #008000\">'tasks'</span>: <span style=\"font-weight: bold\">[</span><span style=\"color: #008000\">'aggregated_model_validation'</span>, <span style=\"color: #008000\">'train'</span>,  <a href=\"file:///home/itrushkin/.virtualenvs/openfl_research/lib/python3.8/site-packages/openfl/federated/plan/plan.py\"><span style=\"color: #7f7f7f\">plan.py</span></a><span style=\"color: #7f7f7f\">:165</span>\n",
       "                    <span style=\"color: #008000\">'locally_tuned_model_validation'</span><span style=\"font-weight: bold\">]}]</span>, <span style=\"color: #008000\">'authorized_cols'</span>: <span style=\"font-weight: bold\">[</span><span style=\"color: #008000\">'one'</span>, <span style=\"color: #008000\">'two'</span><span style=\"font-weight: bold\">]</span>, <span style=\"color: #008000\">'rounds_to_train'</span>: <span style=\"color: #000080; font-weight: bold\">5</span>, <span style=\"color: #008000\">'tasks'</span>:                                      \n",
       "                    <span style=\"font-weight: bold\">{</span><span style=\"color: #008000\">'aggregated_model_validation'</span>: <span style=\"font-weight: bold\">{</span><span style=\"color: #008000\">'function'</span>: <span style=\"color: #008000\">'validate'</span>, <span style=\"color: #008000\">'kwargs'</span>: <span style=\"font-weight: bold\">{</span><span style=\"color: #008000\">'apply'</span>: <span style=\"color: #008000\">'global'</span>, <span style=\"color: #008000\">'metrics'</span>: <span style=\"font-weight: bold\">[</span><span style=\"color: #008000\">'acc'</span><span style=\"font-weight: bold\">]}}</span>,                                \n",
       "                    <span style=\"color: #008000\">'locally_tuned_model_validation'</span>: <span style=\"font-weight: bold\">{</span><span style=\"color: #008000\">'function'</span>: <span style=\"color: #008000\">'validate'</span>, <span style=\"color: #008000\">'kwargs'</span>: <span style=\"font-weight: bold\">{</span><span style=\"color: #008000\">'apply'</span>: <span style=\"color: #008000\">'local'</span>, <span style=\"color: #008000\">'metrics'</span>: <span style=\"font-weight: bold\">[</span><span style=\"color: #008000\">'acc'</span><span style=\"font-weight: bold\">]}}</span>, <span style=\"color: #008000\">'train'</span>:                      \n",
       "                    <span style=\"font-weight: bold\">{</span><span style=\"color: #008000\">'aggregation_type'</span>: <span style=\"font-weight: bold\">&lt;</span><span style=\"color: #ff00ff; font-weight: bold\">__main__.ClippedAveraging</span><span style=\"color: #000000\"> object at </span><span style=\"color: #000080; font-weight: bold\">0x7fbc08100940</span><span style=\"font-weight: bold\">&gt;</span>, <span style=\"color: #008000\">'function'</span>: <span style=\"color: #008000\">'train_batches'</span>, <span style=\"color: #008000\">'kwargs'</span>: <span style=\"font-weight: bold\">{</span><span style=\"color: #008000\">'metrics'</span>:               \n",
       "                    <span style=\"font-weight: bold\">[</span><span style=\"color: #008000\">'loss'</span><span style=\"font-weight: bold\">]}}</span>, <span style=\"color: #008000\">'defaults'</span>: <span style=\"color: #008000\">'plan/defaults/tasks_torch.yaml'</span>, <span style=\"color: #008000\">'settings'</span>: <span style=\"font-weight: bold\">{}}}</span>                                                                  \n",
       "</pre>\n"
      ],
      "text/plain": [
       "<rich.jupyter.JupyterRenderable at 0x7fbcfb3c37c0>"
      ]
     },
     "metadata": {},
     "output_type": "display_data"
    },
    {
     "data": {
      "text/html": [
       "<pre style=\"white-space:pre;overflow-x:auto;line-height:normal;font-family:Menlo,'DejaVu Sans Mono',consolas,'Courier New',monospace\"><span style=\"color: #7fbfbf\">           </span><span style=\"color: #000080\">INFO</span>     Override <span style=\"color: #800000\">🡆</span> <span style=\"font-weight: bold\">{</span><span style=\"color: #008000\">'defaults'</span>: <span style=\"color: #008000\">'plan/defaults/assigner.yaml'</span><span style=\"font-weight: bold\">}</span>                                                                           <a href=\"file:///home/itrushkin/.virtualenvs/openfl_research/lib/python3.8/site-packages/openfl/federated/plan/plan.py\"><span style=\"color: #7f7f7f\">plan.py</span></a><span style=\"color: #7f7f7f\">:167</span>\n",
       "</pre>\n"
      ],
      "text/plain": [
       "<rich.jupyter.JupyterRenderable at 0x7fbc1113dbb0>"
      ]
     },
     "metadata": {},
     "output_type": "display_data"
    },
    {
     "data": {
      "text/html": [
       "<pre style=\"white-space:pre;overflow-x:auto;line-height:normal;font-family:Menlo,'DejaVu Sans Mono',consolas,'Courier New',monospace\"><span style=\"color: #7fbfbf\">           </span><span style=\"color: #000080\">INFO</span>     Building <span style=\"color: #800000\">🡆</span> Object <span style=\"color: #800000\">Aggregator</span> from <span style=\"color: #800000\">openfl.component</span> Module.                                                                       <a href=\"file:///home/itrushkin/.virtualenvs/openfl_research/lib/python3.8/site-packages/openfl/federated/plan/plan.py\"><span style=\"color: #7f7f7f\">plan.py</span></a><span style=\"color: #7f7f7f\">:162</span>\n",
       "</pre>\n"
      ],
      "text/plain": [
       "<rich.jupyter.JupyterRenderable at 0x7fbc08192340>"
      ]
     },
     "metadata": {},
     "output_type": "display_data"
    },
    {
     "data": {
      "text/html": [
       "<pre style=\"white-space:pre;overflow-x:auto;line-height:normal;font-family:Menlo,'DejaVu Sans Mono',consolas,'Courier New',monospace\"><span style=\"color: #7fbfbf\">           </span><span style=\"color: #000080\">INFO</span>     Settings <span style=\"color: #800000\">🡆</span> <span style=\"font-weight: bold\">{</span><span style=\"color: #008000\">'db_store_rounds'</span>: <span style=\"color: #000080; font-weight: bold\">1</span>, <span style=\"color: #008000\">'best_state_path'</span>: <span style=\"color: #008000\">'save/torch_cnn_mnist_best.pbuf'</span>, <span style=\"color: #008000\">'init_state_path'</span>:                        <a href=\"file:///home/itrushkin/.virtualenvs/openfl_research/lib/python3.8/site-packages/openfl/federated/plan/plan.py\"><span style=\"color: #7f7f7f\">plan.py</span></a><span style=\"color: #7f7f7f\">:165</span>\n",
       "                    <span style=\"color: #008000\">'save/torch_cnn_mnist_init.pbuf'</span>, <span style=\"color: #008000\">'last_state_path'</span>: <span style=\"color: #008000\">'save/torch_cnn_mnist_last.pbuf'</span>, <span style=\"color: #008000\">'rounds_to_train'</span>: <span style=\"color: #000080; font-weight: bold\">5</span>, <span style=\"color: #008000\">'aggregator_uuid'</span>:             \n",
       "                    <span style=\"color: #008000\">'aggregator_plan.yaml_a3648f03'</span>, <span style=\"color: #008000\">'federation_uuid'</span>: <span style=\"color: #008000\">'plan.yaml_a3648f03'</span>, <span style=\"color: #008000\">'authorized_cols'</span>: <span style=\"font-weight: bold\">[</span><span style=\"color: #008000\">'one'</span>, <span style=\"color: #008000\">'two'</span><span style=\"font-weight: bold\">]</span>, <span style=\"color: #008000\">'assigner'</span>:                    \n",
       "                    <span style=\"font-weight: bold\">&lt;</span><span style=\"color: #ff00ff; font-weight: bold\">openfl.component.assigner.random_grouped_assigner.RandomGroupedAssigner</span><span style=\"color: #000000\"> object at </span><span style=\"color: #000080; font-weight: bold\">0x7fbc0a8d07f0</span><span style=\"font-weight: bold\">&gt;}</span>                                         \n",
       "</pre>\n"
      ],
      "text/plain": [
       "<rich.jupyter.JupyterRenderable at 0x7fbc1113df40>"
      ]
     },
     "metadata": {},
     "output_type": "display_data"
    },
    {
     "data": {
      "text/html": [
       "<pre style=\"white-space:pre;overflow-x:auto;line-height:normal;font-family:Menlo,'DejaVu Sans Mono',consolas,'Courier New',monospace\"><span style=\"color: #7fbfbf\">           </span><span style=\"color: #000080\">INFO</span>     Override <span style=\"color: #800000\">🡆</span> <span style=\"font-weight: bold\">{</span><span style=\"color: #008000\">'defaults'</span>: <span style=\"color: #008000\">'plan/defaults/aggregator.yaml'</span><span style=\"font-weight: bold\">}</span>                                                                         <a href=\"file:///home/itrushkin/.virtualenvs/openfl_research/lib/python3.8/site-packages/openfl/federated/plan/plan.py\"><span style=\"color: #7f7f7f\">plan.py</span></a><span style=\"color: #7f7f7f\">:167</span>\n",
       "</pre>\n"
      ],
      "text/plain": [
       "<rich.jupyter.JupyterRenderable at 0x7fbc08192d90>"
      ]
     },
     "metadata": {},
     "output_type": "display_data"
    },
    {
     "data": {
      "text/html": [
       "<pre style=\"white-space:pre;overflow-x:auto;line-height:normal;font-family:Menlo,'DejaVu Sans Mono',consolas,'Courier New',monospace\"><span style=\"color: #7fbfbf\">           </span><span style=\"color: #000080\">INFO</span>     Building <span style=\"color: #800000\">🡆</span> Object <span style=\"color: #800000\">Collaborator</span> from <span style=\"color: #800000\">openfl.component</span> Module.                                                                     <a href=\"file:///home/itrushkin/.virtualenvs/openfl_research/lib/python3.8/site-packages/openfl/federated/plan/plan.py\"><span style=\"color: #7f7f7f\">plan.py</span></a><span style=\"color: #7f7f7f\">:162</span>\n",
       "</pre>\n"
      ],
      "text/plain": [
       "<rich.jupyter.JupyterRenderable at 0x7fbc081a02e0>"
      ]
     },
     "metadata": {},
     "output_type": "display_data"
    },
    {
     "data": {
      "text/html": [
       "<pre style=\"white-space:pre;overflow-x:auto;line-height:normal;font-family:Menlo,'DejaVu Sans Mono',consolas,'Courier New',monospace\"><span style=\"color: #7fbfbf\">           </span><span style=\"color: #000080\">INFO</span>     Settings <span style=\"color: #800000\">🡆</span> <span style=\"font-weight: bold\">{</span><span style=\"color: #008000\">'opt_treatment'</span>: <span style=\"color: #008000\">'RESET'</span>, <span style=\"color: #008000\">'delta_updates'</span>: <span style=\"color: #ff0000; font-style: italic\">False</span>, <span style=\"color: #008000\">'db_store_rounds'</span>: <span style=\"color: #000080; font-weight: bold\">1</span>, <span style=\"color: #008000\">'collaborator_name'</span>: <span style=\"color: #008000\">'one'</span>,                  <a href=\"file:///home/itrushkin/.virtualenvs/openfl_research/lib/python3.8/site-packages/openfl/federated/plan/plan.py\"><span style=\"color: #7f7f7f\">plan.py</span></a><span style=\"color: #7f7f7f\">:165</span>\n",
       "                    <span style=\"color: #008000\">'aggregator_uuid'</span>: <span style=\"color: #008000\">'aggregator_plan.yaml_a3648f03'</span>, <span style=\"color: #008000\">'federation_uuid'</span>: <span style=\"color: #008000\">'plan.yaml_a3648f03'</span>, <span style=\"color: #008000\">'task_runner'</span>:                                 \n",
       "                    <span style=\"font-weight: bold\">&lt;</span><span style=\"color: #ff00ff; font-weight: bold\">openfl.federated.task.fl_model.FederatedModel</span><span style=\"color: #000000\"> object at </span><span style=\"color: #000080; font-weight: bold\">0x7fbcfb3c3160</span><span style=\"font-weight: bold\">&gt;</span>, <span style=\"color: #008000\">'tensor_pipe'</span>:                                                    \n",
       "                    <span style=\"font-weight: bold\">&lt;</span><span style=\"color: #ff00ff; font-weight: bold\">openfl.pipelines.no_compression_pipeline.NoCompressionPipeline</span><span style=\"color: #000000\"> object at </span><span style=\"color: #000080; font-weight: bold\">0x7fbcf8b9a580</span><span style=\"font-weight: bold\">&gt;</span>, <span style=\"color: #008000\">'task_config'</span>:                                   \n",
       "                    <span style=\"font-weight: bold\">{</span><span style=\"color: #008000\">'aggregated_model_validation'</span>: <span style=\"font-weight: bold\">{</span><span style=\"color: #008000\">'function'</span>: <span style=\"color: #008000\">'validate'</span>, <span style=\"color: #008000\">'kwargs'</span>: <span style=\"font-weight: bold\">{</span><span style=\"color: #008000\">'apply'</span>: <span style=\"color: #008000\">'global'</span>, <span style=\"color: #008000\">'metrics'</span>: <span style=\"font-weight: bold\">[</span><span style=\"color: #008000\">'acc'</span><span style=\"font-weight: bold\">]}}</span>,                                \n",
       "                    <span style=\"color: #008000\">'locally_tuned_model_validation'</span>: <span style=\"font-weight: bold\">{</span><span style=\"color: #008000\">'function'</span>: <span style=\"color: #008000\">'validate'</span>, <span style=\"color: #008000\">'kwargs'</span>: <span style=\"font-weight: bold\">{</span><span style=\"color: #008000\">'apply'</span>: <span style=\"color: #008000\">'local'</span>, <span style=\"color: #008000\">'metrics'</span>: <span style=\"font-weight: bold\">[</span><span style=\"color: #008000\">'acc'</span><span style=\"font-weight: bold\">]}}</span>, <span style=\"color: #008000\">'train'</span>:                      \n",
       "                    <span style=\"font-weight: bold\">{</span><span style=\"color: #008000\">'aggregation_type'</span>: <span style=\"font-weight: bold\">&lt;</span><span style=\"color: #ff00ff; font-weight: bold\">__main__.ClippedAveraging</span><span style=\"color: #000000\"> object at </span><span style=\"color: #000080; font-weight: bold\">0x7fbc08100940</span><span style=\"font-weight: bold\">&gt;</span>, <span style=\"color: #008000\">'function'</span>: <span style=\"color: #008000\">'train_batches'</span>, <span style=\"color: #008000\">'kwargs'</span>: <span style=\"font-weight: bold\">{</span><span style=\"color: #008000\">'metrics'</span>:               \n",
       "                    <span style=\"font-weight: bold\">[</span><span style=\"color: #008000\">'loss'</span><span style=\"font-weight: bold\">]}}</span>, <span style=\"color: #008000\">'defaults'</span>: <span style=\"color: #008000\">'plan/defaults/tasks_torch.yaml'</span>, <span style=\"color: #008000\">'settings'</span>: <span style=\"font-weight: bold\">{}}</span>, <span style=\"color: #008000\">'client'</span>:                                                        \n",
       "                    <span style=\"font-weight: bold\">&lt;</span><span style=\"color: #ff00ff; font-weight: bold\">openfl.component.aggregator.aggregator.Aggregator</span><span style=\"color: #000000\"> object at </span><span style=\"color: #000080; font-weight: bold\">0x7fbc0a8d0be0</span><span style=\"font-weight: bold\">&gt;}</span>                                                               \n",
       "</pre>\n"
      ],
      "text/plain": [
       "<rich.jupyter.JupyterRenderable at 0x7fbcfb422730>"
      ]
     },
     "metadata": {},
     "output_type": "display_data"
    },
    {
     "data": {
      "text/html": [
       "<pre style=\"white-space:pre;overflow-x:auto;line-height:normal;font-family:Menlo,'DejaVu Sans Mono',consolas,'Courier New',monospace\"><span style=\"color: #7fbfbf\">           </span><span style=\"color: #000080\">INFO</span>     Override <span style=\"color: #800000\">🡆</span> <span style=\"font-weight: bold\">{</span><span style=\"color: #008000\">'defaults'</span>: <span style=\"color: #008000\">'plan/defaults/collaborator.yaml'</span><span style=\"font-weight: bold\">}</span>                                                                       <a href=\"file:///home/itrushkin/.virtualenvs/openfl_research/lib/python3.8/site-packages/openfl/federated/plan/plan.py\"><span style=\"color: #7f7f7f\">plan.py</span></a><span style=\"color: #7f7f7f\">:167</span>\n",
       "</pre>\n"
      ],
      "text/plain": [
       "<rich.jupyter.JupyterRenderable at 0x7fbcfb4228b0>"
      ]
     },
     "metadata": {},
     "output_type": "display_data"
    },
    {
     "data": {
      "text/html": [
       "<pre style=\"white-space:pre;overflow-x:auto;line-height:normal;font-family:Menlo,'DejaVu Sans Mono',consolas,'Courier New',monospace\"><span style=\"color: #7fbfbf\">           </span><span style=\"color: #000080\">INFO</span>     Building <span style=\"color: #800000\">🡆</span> Object <span style=\"color: #800000\">Collaborator</span> from <span style=\"color: #800000\">openfl.component</span> Module.                                                                     <a href=\"file:///home/itrushkin/.virtualenvs/openfl_research/lib/python3.8/site-packages/openfl/federated/plan/plan.py\"><span style=\"color: #7f7f7f\">plan.py</span></a><span style=\"color: #7f7f7f\">:162</span>\n",
       "</pre>\n"
      ],
      "text/plain": [
       "<rich.jupyter.JupyterRenderable at 0x7fbc08162610>"
      ]
     },
     "metadata": {},
     "output_type": "display_data"
    },
    {
     "data": {
      "text/html": [
       "<pre style=\"white-space:pre;overflow-x:auto;line-height:normal;font-family:Menlo,'DejaVu Sans Mono',consolas,'Courier New',monospace\"><span style=\"color: #7fbfbf\">           </span><span style=\"color: #000080\">INFO</span>     Settings <span style=\"color: #800000\">🡆</span> <span style=\"font-weight: bold\">{</span><span style=\"color: #008000\">'opt_treatment'</span>: <span style=\"color: #008000\">'RESET'</span>, <span style=\"color: #008000\">'delta_updates'</span>: <span style=\"color: #ff0000; font-style: italic\">False</span>, <span style=\"color: #008000\">'db_store_rounds'</span>: <span style=\"color: #000080; font-weight: bold\">1</span>, <span style=\"color: #008000\">'collaborator_name'</span>: <span style=\"color: #008000\">'two'</span>,                  <a href=\"file:///home/itrushkin/.virtualenvs/openfl_research/lib/python3.8/site-packages/openfl/federated/plan/plan.py\"><span style=\"color: #7f7f7f\">plan.py</span></a><span style=\"color: #7f7f7f\">:165</span>\n",
       "                    <span style=\"color: #008000\">'aggregator_uuid'</span>: <span style=\"color: #008000\">'aggregator_plan.yaml_a3648f03'</span>, <span style=\"color: #008000\">'federation_uuid'</span>: <span style=\"color: #008000\">'plan.yaml_a3648f03'</span>, <span style=\"color: #008000\">'task_runner'</span>:                                 \n",
       "                    <span style=\"font-weight: bold\">&lt;</span><span style=\"color: #ff00ff; font-weight: bold\">openfl.federated.task.fl_model.FederatedModel</span><span style=\"color: #000000\"> object at </span><span style=\"color: #000080; font-weight: bold\">0x7fbcfb3c3070</span><span style=\"font-weight: bold\">&gt;</span>, <span style=\"color: #008000\">'tensor_pipe'</span>:                                                    \n",
       "                    <span style=\"font-weight: bold\">&lt;</span><span style=\"color: #ff00ff; font-weight: bold\">openfl.pipelines.no_compression_pipeline.NoCompressionPipeline</span><span style=\"color: #000000\"> object at </span><span style=\"color: #000080; font-weight: bold\">0x7fbcf8b9a580</span><span style=\"font-weight: bold\">&gt;</span>, <span style=\"color: #008000\">'task_config'</span>:                                   \n",
       "                    <span style=\"font-weight: bold\">{</span><span style=\"color: #008000\">'aggregated_model_validation'</span>: <span style=\"font-weight: bold\">{</span><span style=\"color: #008000\">'function'</span>: <span style=\"color: #008000\">'validate'</span>, <span style=\"color: #008000\">'kwargs'</span>: <span style=\"font-weight: bold\">{</span><span style=\"color: #008000\">'apply'</span>: <span style=\"color: #008000\">'global'</span>, <span style=\"color: #008000\">'metrics'</span>: <span style=\"font-weight: bold\">[</span><span style=\"color: #008000\">'acc'</span><span style=\"font-weight: bold\">]}}</span>,                                \n",
       "                    <span style=\"color: #008000\">'locally_tuned_model_validation'</span>: <span style=\"font-weight: bold\">{</span><span style=\"color: #008000\">'function'</span>: <span style=\"color: #008000\">'validate'</span>, <span style=\"color: #008000\">'kwargs'</span>: <span style=\"font-weight: bold\">{</span><span style=\"color: #008000\">'apply'</span>: <span style=\"color: #008000\">'local'</span>, <span style=\"color: #008000\">'metrics'</span>: <span style=\"font-weight: bold\">[</span><span style=\"color: #008000\">'acc'</span><span style=\"font-weight: bold\">]}}</span>, <span style=\"color: #008000\">'train'</span>:                      \n",
       "                    <span style=\"font-weight: bold\">{</span><span style=\"color: #008000\">'aggregation_type'</span>: <span style=\"font-weight: bold\">&lt;</span><span style=\"color: #ff00ff; font-weight: bold\">__main__.ClippedAveraging</span><span style=\"color: #000000\"> object at </span><span style=\"color: #000080; font-weight: bold\">0x7fbc08100940</span><span style=\"font-weight: bold\">&gt;</span>, <span style=\"color: #008000\">'function'</span>: <span style=\"color: #008000\">'train_batches'</span>, <span style=\"color: #008000\">'kwargs'</span>: <span style=\"font-weight: bold\">{</span><span style=\"color: #008000\">'metrics'</span>:               \n",
       "                    <span style=\"font-weight: bold\">[</span><span style=\"color: #008000\">'loss'</span><span style=\"font-weight: bold\">]}}</span>, <span style=\"color: #008000\">'defaults'</span>: <span style=\"color: #008000\">'plan/defaults/tasks_torch.yaml'</span>, <span style=\"color: #008000\">'settings'</span>: <span style=\"font-weight: bold\">{}}</span>, <span style=\"color: #008000\">'client'</span>:                                                        \n",
       "                    <span style=\"font-weight: bold\">&lt;</span><span style=\"color: #ff00ff; font-weight: bold\">openfl.component.aggregator.aggregator.Aggregator</span><span style=\"color: #000000\"> object at </span><span style=\"color: #000080; font-weight: bold\">0x7fbc0a8d0be0</span><span style=\"font-weight: bold\">&gt;</span>, <span style=\"color: #008000\">'defaults'</span>: <span style=\"color: #008000\">'plan/defaults/collaborator.yaml'</span><span style=\"font-weight: bold\">}</span>                \n",
       "</pre>\n"
      ],
      "text/plain": [
       "<rich.jupyter.JupyterRenderable at 0x7fbc110de9d0>"
      ]
     },
     "metadata": {},
     "output_type": "display_data"
    },
    {
     "data": {
      "text/html": [
       "<pre style=\"white-space:pre;overflow-x:auto;line-height:normal;font-family:Menlo,'DejaVu Sans Mono',consolas,'Courier New',monospace\"><span style=\"color: #7fbfbf\">           </span><span style=\"color: #000080\">INFO</span>     Override <span style=\"color: #800000\">🡆</span> <span style=\"font-weight: bold\">{</span><span style=\"color: #008000\">'defaults'</span>: <span style=\"color: #008000\">'plan/defaults/collaborator.yaml'</span><span style=\"font-weight: bold\">}</span>                                                                       <a href=\"file:///home/itrushkin/.virtualenvs/openfl_research/lib/python3.8/site-packages/openfl/federated/plan/plan.py\"><span style=\"color: #7f7f7f\">plan.py</span></a><span style=\"color: #7f7f7f\">:167</span>\n",
       "</pre>\n"
      ],
      "text/plain": [
       "<rich.jupyter.JupyterRenderable at 0x7fbc110de9d0>"
      ]
     },
     "metadata": {},
     "output_type": "display_data"
    },
    {
     "data": {
      "text/html": [
       "<pre style=\"white-space:pre;overflow-x:auto;line-height:normal;font-family:Menlo,'DejaVu Sans Mono',consolas,'Courier New',monospace\"><span style=\"color: #7fbfbf\">           </span><span style=\"color: #000080\">INFO</span>     Waiting for tasks<span style=\"color: #808000\">...</span>                                                                                                     <a href=\"file:///home/itrushkin/.virtualenvs/openfl_research/lib/python3.8/site-packages/openfl/component/collaborator/collaborator.py\"><span style=\"color: #7f7f7f\">collaborator.py</span></a><span style=\"color: #7f7f7f\">:156</span>\n",
       "</pre>\n"
      ],
      "text/plain": [
       "<rich.jupyter.JupyterRenderable at 0x7fbc08192340>"
      ]
     },
     "metadata": {},
     "output_type": "display_data"
    },
    {
     "data": {
      "text/html": [
       "<pre style=\"white-space:pre;overflow-x:auto;line-height:normal;font-family:Menlo,'DejaVu Sans Mono',consolas,'Courier New',monospace\"><span style=\"color: #7fbfbf\">           </span><span style=\"color: #000080\">INFO</span>     Sending tasks to collaborator one for round <span style=\"color: #000080; font-weight: bold\">0</span>                                                                              <a href=\"file:///home/itrushkin/.virtualenvs/openfl_research/lib/python3.8/site-packages/openfl/component/aggregator/aggregator.py\"><span style=\"color: #7f7f7f\">aggregator.py</span></a><span style=\"color: #7f7f7f\">:276</span>\n",
       "</pre>\n"
      ],
      "text/plain": [
       "<rich.jupyter.JupyterRenderable at 0x7fbc0a91a400>"
      ]
     },
     "metadata": {},
     "output_type": "display_data"
    },
    {
     "data": {
      "text/html": [
       "<pre style=\"white-space:pre;overflow-x:auto;line-height:normal;font-family:Menlo,'DejaVu Sans Mono',consolas,'Courier New',monospace\"><span style=\"color: #7fbfbf\">           </span><span style=\"color: #000080\">INFO</span>     Received the following tasks: <span style=\"font-weight: bold\">[</span><span style=\"color: #008000\">'aggregated_model_validation'</span>, <span style=\"color: #008000\">'train'</span>, <span style=\"color: #008000\">'locally_tuned_model_validation'</span><span style=\"font-weight: bold\">]</span>                 <a href=\"file:///home/itrushkin/.virtualenvs/openfl_research/lib/python3.8/site-packages/openfl/component/collaborator/collaborator.py\"><span style=\"color: #7f7f7f\">collaborator.py</span></a><span style=\"color: #7f7f7f\">:144</span>\n",
       "</pre>\n"
      ],
      "text/plain": [
       "<rich.jupyter.JupyterRenderable at 0x7fbc110deb80>"
      ]
     },
     "metadata": {},
     "output_type": "display_data"
    },
    {
     "name": "stderr",
     "output_type": "stream",
     "text": [
      "/home/itrushkin/.virtualenvs/openfl_research/lib/python3.8/site-packages/openfl/federated/task/runner_pt.py:100: UserWarning: To copy construct from a tensor, it is recommended to use sourceTensor.clone().detach() or sourceTensor.clone().detach().requires_grad_(True), rather than torch.tensor(sourceTensor).\n",
      "  data, target = pt.tensor(data).to(self.device), pt.tensor(\n"
     ]
    },
    {
     "data": {
      "text/html": [
       "<pre style=\"white-space:pre;overflow-x:auto;line-height:normal;font-family:Menlo,'DejaVu Sans Mono',consolas,'Courier New',monospace\"><span style=\"color: #7fbfbf\">           </span><span style=\"color: #000080\">INFO</span>     Sending metric for task aggregated_model_validation, round number <span style=\"color: #000080; font-weight: bold\">0</span>: acc        <span style=\"color: #000080; font-weight: bold\">0.9832</span>                                   <a href=\"file:///home/itrushkin/.virtualenvs/openfl_research/lib/python3.8/site-packages/openfl/component/collaborator/collaborator.py\"><span style=\"color: #7f7f7f\">collaborator.py</span></a><span style=\"color: #7f7f7f\">:365</span>\n",
       "</pre>\n"
      ],
      "text/plain": [
       "<rich.jupyter.JupyterRenderable at 0x7fbc110e62e0>"
      ]
     },
     "metadata": {},
     "output_type": "display_data"
    },
    {
     "data": {
      "text/html": [
       "<pre style=\"white-space:pre;overflow-x:auto;line-height:normal;font-family:Menlo,'DejaVu Sans Mono',consolas,'Courier New',monospace\"><span style=\"color: #7fbfbf\">           </span><span style=\"color: #000080\">INFO</span>     Collaborator one is sending task results for aggregated_model_validation, round <span style=\"color: #000080; font-weight: bold\">0</span>                                          <a href=\"file:///home/itrushkin/.virtualenvs/openfl_research/lib/python3.8/site-packages/openfl/component/aggregator/aggregator.py\"><span style=\"color: #7f7f7f\">aggregator.py</span></a><span style=\"color: #7f7f7f\">:428</span>\n",
       "</pre>\n"
      ],
      "text/plain": [
       "<rich.jupyter.JupyterRenderable at 0x7fbc08192d90>"
      ]
     },
     "metadata": {},
     "output_type": "display_data"
    },
    {
     "name": "stderr",
     "output_type": "stream",
     "text": [
      "/home/itrushkin/.virtualenvs/openfl_research/lib/python3.8/site-packages/openfl/federated/task/runner_pt.py:154: UserWarning: To copy construct from a tensor, it is recommended to use sourceTensor.clone().detach() or sourceTensor.clone().detach().requires_grad_(True), rather than torch.tensor(sourceTensor).\n",
      "  data, target = pt.tensor(data).to(self.device), pt.tensor(\n"
     ]
    },
    {
     "data": {
      "text/html": [
       "<pre style=\"white-space:pre;overflow-x:auto;line-height:normal;font-family:Menlo,'DejaVu Sans Mono',consolas,'Courier New',monospace\"><span style=\"color: #7fbfbf\">[13:09:38] </span><span style=\"color: #000080\">INFO</span>     Sending metric for task train, round number <span style=\"color: #000080; font-weight: bold\">0</span>: cross_entropy    <span style=\"color: #000080; font-weight: bold\">0.04961631819605827</span>                                      <a href=\"file:///home/itrushkin/.virtualenvs/openfl_research/lib/python3.8/site-packages/openfl/component/collaborator/collaborator.py\"><span style=\"color: #7f7f7f\">collaborator.py</span></a><span style=\"color: #7f7f7f\">:365</span>\n",
       "</pre>\n"
      ],
      "text/plain": [
       "<rich.jupyter.JupyterRenderable at 0x7fbc110e6520>"
      ]
     },
     "metadata": {},
     "output_type": "display_data"
    },
    {
     "data": {
      "text/html": [
       "<pre style=\"white-space:pre;overflow-x:auto;line-height:normal;font-family:Menlo,'DejaVu Sans Mono',consolas,'Courier New',monospace\"><span style=\"color: #7fbfbf\">           </span><span style=\"color: #000080\">INFO</span>     Collaborator one is sending task results for train, round <span style=\"color: #000080; font-weight: bold\">0</span>                                                                <a href=\"file:///home/itrushkin/.virtualenvs/openfl_research/lib/python3.8/site-packages/openfl/component/aggregator/aggregator.py\"><span style=\"color: #7f7f7f\">aggregator.py</span></a><span style=\"color: #7f7f7f\">:428</span>\n",
       "</pre>\n"
      ],
      "text/plain": [
       "<rich.jupyter.JupyterRenderable at 0x7fbc110e6580>"
      ]
     },
     "metadata": {},
     "output_type": "display_data"
    },
    {
     "data": {
      "text/html": [
       "<pre style=\"white-space:pre;overflow-x:auto;line-height:normal;font-family:Menlo,'DejaVu Sans Mono',consolas,'Courier New',monospace\"><span style=\"color: #7fbfbf\">           </span><span style=\"color: #000080\">INFO</span>     Sending metric for task locally_tuned_model_validation, round number <span style=\"color: #000080; font-weight: bold\">0</span>: acc     <span style=\"color: #000080; font-weight: bold\">0.9822</span>                                   <a href=\"file:///home/itrushkin/.virtualenvs/openfl_research/lib/python3.8/site-packages/openfl/component/collaborator/collaborator.py\"><span style=\"color: #7f7f7f\">collaborator.py</span></a><span style=\"color: #7f7f7f\">:365</span>\n",
       "</pre>\n"
      ],
      "text/plain": [
       "<rich.jupyter.JupyterRenderable at 0x7fbd141ffc10>"
      ]
     },
     "metadata": {},
     "output_type": "display_data"
    },
    {
     "data": {
      "text/html": [
       "<pre style=\"white-space:pre;overflow-x:auto;line-height:normal;font-family:Menlo,'DejaVu Sans Mono',consolas,'Courier New',monospace\"><span style=\"color: #7fbfbf\">           </span><span style=\"color: #000080\">INFO</span>     Collaborator one is sending task results for locally_tuned_model_validation, round <span style=\"color: #000080; font-weight: bold\">0</span>                                       <a href=\"file:///home/itrushkin/.virtualenvs/openfl_research/lib/python3.8/site-packages/openfl/component/aggregator/aggregator.py\"><span style=\"color: #7f7f7f\">aggregator.py</span></a><span style=\"color: #7f7f7f\">:428</span>\n",
       "</pre>\n"
      ],
      "text/plain": [
       "<rich.jupyter.JupyterRenderable at 0x7fbc110e64c0>"
      ]
     },
     "metadata": {},
     "output_type": "display_data"
    },
    {
     "data": {
      "text/html": [
       "<pre style=\"white-space:pre;overflow-x:auto;line-height:normal;font-family:Menlo,'DejaVu Sans Mono',consolas,'Courier New',monospace\"><span style=\"color: #7fbfbf\">           </span><span style=\"color: #000080\">INFO</span>     All tasks completed on one for round <span style=\"color: #000080; font-weight: bold\">0</span><span style=\"color: #808000\">...</span>                                                                                <a href=\"file:///home/itrushkin/.virtualenvs/openfl_research/lib/python3.8/site-packages/openfl/component/collaborator/collaborator.py\"><span style=\"color: #7f7f7f\">collaborator.py</span></a><span style=\"color: #7f7f7f\">:148</span>\n",
       "</pre>\n"
      ],
      "text/plain": [
       "<rich.jupyter.JupyterRenderable at 0x7fbc081b27c0>"
      ]
     },
     "metadata": {},
     "output_type": "display_data"
    },
    {
     "data": {
      "text/html": [
       "<pre style=\"white-space:pre;overflow-x:auto;line-height:normal;font-family:Menlo,'DejaVu Sans Mono',consolas,'Courier New',monospace\"><span style=\"color: #7fbfbf\">           </span><span style=\"color: #000080\">INFO</span>     Waiting for tasks<span style=\"color: #808000\">...</span>                                                                                                     <a href=\"file:///home/itrushkin/.virtualenvs/openfl_research/lib/python3.8/site-packages/openfl/component/collaborator/collaborator.py\"><span style=\"color: #7f7f7f\">collaborator.py</span></a><span style=\"color: #7f7f7f\">:156</span>\n",
       "</pre>\n"
      ],
      "text/plain": [
       "<rich.jupyter.JupyterRenderable at 0x7fbc081b2b50>"
      ]
     },
     "metadata": {},
     "output_type": "display_data"
    },
    {
     "data": {
      "text/html": [
       "<pre style=\"white-space:pre;overflow-x:auto;line-height:normal;font-family:Menlo,'DejaVu Sans Mono',consolas,'Courier New',monospace\"><span style=\"color: #7fbfbf\">           </span><span style=\"color: #000080\">INFO</span>     Sending tasks to collaborator two for round <span style=\"color: #000080; font-weight: bold\">0</span>                                                                              <a href=\"file:///home/itrushkin/.virtualenvs/openfl_research/lib/python3.8/site-packages/openfl/component/aggregator/aggregator.py\"><span style=\"color: #7f7f7f\">aggregator.py</span></a><span style=\"color: #7f7f7f\">:276</span>\n",
       "</pre>\n"
      ],
      "text/plain": [
       "<rich.jupyter.JupyterRenderable at 0x7fbc110e6580>"
      ]
     },
     "metadata": {},
     "output_type": "display_data"
    },
    {
     "data": {
      "text/html": [
       "<pre style=\"white-space:pre;overflow-x:auto;line-height:normal;font-family:Menlo,'DejaVu Sans Mono',consolas,'Courier New',monospace\"><span style=\"color: #7fbfbf\">           </span><span style=\"color: #000080\">INFO</span>     Received the following tasks: <span style=\"font-weight: bold\">[</span><span style=\"color: #008000\">'aggregated_model_validation'</span>, <span style=\"color: #008000\">'train'</span>, <span style=\"color: #008000\">'locally_tuned_model_validation'</span><span style=\"font-weight: bold\">]</span>                 <a href=\"file:///home/itrushkin/.virtualenvs/openfl_research/lib/python3.8/site-packages/openfl/component/collaborator/collaborator.py\"><span style=\"color: #7f7f7f\">collaborator.py</span></a><span style=\"color: #7f7f7f\">:144</span>\n",
       "</pre>\n"
      ],
      "text/plain": [
       "<rich.jupyter.JupyterRenderable at 0x7fbcfb4129a0>"
      ]
     },
     "metadata": {},
     "output_type": "display_data"
    },
    {
     "data": {
      "text/html": [
       "<pre style=\"white-space:pre;overflow-x:auto;line-height:normal;font-family:Menlo,'DejaVu Sans Mono',consolas,'Courier New',monospace\"><span style=\"color: #7fbfbf\">           </span><span style=\"color: #000080\">INFO</span>     Sending metric for task aggregated_model_validation, round number <span style=\"color: #000080; font-weight: bold\">0</span>: acc        <span style=\"color: #000080; font-weight: bold\">0.9834</span>                                   <a href=\"file:///home/itrushkin/.virtualenvs/openfl_research/lib/python3.8/site-packages/openfl/component/collaborator/collaborator.py\"><span style=\"color: #7f7f7f\">collaborator.py</span></a><span style=\"color: #7f7f7f\">:365</span>\n",
       "</pre>\n"
      ],
      "text/plain": [
       "<rich.jupyter.JupyterRenderable at 0x7fbc0a91bf70>"
      ]
     },
     "metadata": {},
     "output_type": "display_data"
    },
    {
     "data": {
      "text/html": [
       "<pre style=\"white-space:pre;overflow-x:auto;line-height:normal;font-family:Menlo,'DejaVu Sans Mono',consolas,'Courier New',monospace\"><span style=\"color: #7fbfbf\">           </span><span style=\"color: #000080\">INFO</span>     Collaborator two is sending task results for aggregated_model_validation, round <span style=\"color: #000080; font-weight: bold\">0</span>                                          <a href=\"file:///home/itrushkin/.virtualenvs/openfl_research/lib/python3.8/site-packages/openfl/component/aggregator/aggregator.py\"><span style=\"color: #7f7f7f\">aggregator.py</span></a><span style=\"color: #7f7f7f\">:428</span>\n",
       "</pre>\n"
      ],
      "text/plain": [
       "<rich.jupyter.JupyterRenderable at 0x7fbc0a91bb80>"
      ]
     },
     "metadata": {},
     "output_type": "display_data"
    },
    {
     "data": {
      "text/html": [
       "<pre style=\"white-space:pre;overflow-x:auto;line-height:normal;font-family:Menlo,'DejaVu Sans Mono',consolas,'Courier New',monospace\"><span style=\"color: #7fbfbf\">[13:09:42] </span><span style=\"color: #000080\">INFO</span>     Sending metric for task train, round number <span style=\"color: #000080; font-weight: bold\">0</span>: cross_entropy    <span style=\"color: #000080; font-weight: bold\">0.048918578773736954</span>                                     <a href=\"file:///home/itrushkin/.virtualenvs/openfl_research/lib/python3.8/site-packages/openfl/component/collaborator/collaborator.py\"><span style=\"color: #7f7f7f\">collaborator.py</span></a><span style=\"color: #7f7f7f\">:365</span>\n",
       "</pre>\n"
      ],
      "text/plain": [
       "<rich.jupyter.JupyterRenderable at 0x7fbcfb422a60>"
      ]
     },
     "metadata": {},
     "output_type": "display_data"
    },
    {
     "data": {
      "text/html": [
       "<pre style=\"white-space:pre;overflow-x:auto;line-height:normal;font-family:Menlo,'DejaVu Sans Mono',consolas,'Courier New',monospace\"><span style=\"color: #7fbfbf\">           </span><span style=\"color: #000080\">INFO</span>     Collaborator two is sending task results for train, round <span style=\"color: #000080; font-weight: bold\">0</span>                                                                <a href=\"file:///home/itrushkin/.virtualenvs/openfl_research/lib/python3.8/site-packages/openfl/component/aggregator/aggregator.py\"><span style=\"color: #7f7f7f\">aggregator.py</span></a><span style=\"color: #7f7f7f\">:428</span>\n",
       "</pre>\n"
      ],
      "text/plain": [
       "<rich.jupyter.JupyterRenderable at 0x7fbc0819f5e0>"
      ]
     },
     "metadata": {},
     "output_type": "display_data"
    },
    {
     "data": {
      "text/html": [
       "<pre style=\"white-space:pre;overflow-x:auto;line-height:normal;font-family:Menlo,'DejaVu Sans Mono',consolas,'Courier New',monospace\"><span style=\"color: #7fbfbf\">           </span><span style=\"color: #000080\">INFO</span>     Sending metric for task locally_tuned_model_validation, round number <span style=\"color: #000080; font-weight: bold\">0</span>: acc     <span style=\"color: #000080; font-weight: bold\">0.9828</span>                                   <a href=\"file:///home/itrushkin/.virtualenvs/openfl_research/lib/python3.8/site-packages/openfl/component/collaborator/collaborator.py\"><span style=\"color: #7f7f7f\">collaborator.py</span></a><span style=\"color: #7f7f7f\">:365</span>\n",
       "</pre>\n"
      ],
      "text/plain": [
       "<rich.jupyter.JupyterRenderable at 0x7fbc0a91a8e0>"
      ]
     },
     "metadata": {},
     "output_type": "display_data"
    },
    {
     "data": {
      "text/html": [
       "<pre style=\"white-space:pre;overflow-x:auto;line-height:normal;font-family:Menlo,'DejaVu Sans Mono',consolas,'Courier New',monospace\"><span style=\"color: #7fbfbf\">           </span><span style=\"color: #000080\">INFO</span>     Collaborator two is sending task results for locally_tuned_model_validation, round <span style=\"color: #000080; font-weight: bold\">0</span>                                       <a href=\"file:///home/itrushkin/.virtualenvs/openfl_research/lib/python3.8/site-packages/openfl/component/aggregator/aggregator.py\"><span style=\"color: #7f7f7f\">aggregator.py</span></a><span style=\"color: #7f7f7f\">:428</span>\n",
       "</pre>\n"
      ],
      "text/plain": [
       "<rich.jupyter.JupyterRenderable at 0x7fbc0a91a8e0>"
      ]
     },
     "metadata": {},
     "output_type": "display_data"
    },
    {
     "data": {
      "text/html": [
       "<pre style=\"white-space:pre;overflow-x:auto;line-height:normal;font-family:Menlo,'DejaVu Sans Mono',consolas,'Courier New',monospace\"><span style=\"color: #7fbfbf\">           </span><span style=\"color: #000080\">INFO</span>     train task metrics<span style=\"color: #808000\">...</span>                                                                                                      <a href=\"file:///home/itrushkin/.virtualenvs/openfl_research/lib/python3.8/site-packages/openfl/component/aggregator/aggregator.py\"><span style=\"color: #7f7f7f\">aggregator.py</span></a><span style=\"color: #7f7f7f\">:694</span>\n",
       "</pre>\n"
      ],
      "text/plain": [
       "<rich.jupyter.JupyterRenderable at 0x7fbc08100760>"
      ]
     },
     "metadata": {},
     "output_type": "display_data"
    },
    {
     "data": {
      "text/html": [
       "<pre style=\"white-space:pre;overflow-x:auto;line-height:normal;font-family:Menlo,'DejaVu Sans Mono',consolas,'Courier New',monospace\"><span style=\"color: #7fbfbf\">           </span><span style=\"color: #000080\">INFO</span>     <span style=\"font-weight: bold\">&lt;</span><span style=\"color: #ff00ff; font-weight: bold\">__main__.ClippedAveraging</span><span style=\"color: #000000\"> object at </span><span style=\"color: #000080; font-weight: bold\">0x7fbc08100940</span><span style=\"font-weight: bold\">&gt;</span> cross_entropy:     <span style=\"color: #000080; font-weight: bold\">0.0493</span>                                             <a href=\"file:///home/itrushkin/.virtualenvs/openfl_research/lib/python3.8/site-packages/openfl/component/aggregator/aggregator.py\"><span style=\"color: #7f7f7f\">aggregator.py</span></a><span style=\"color: #7f7f7f\">:738</span>\n",
       "</pre>\n"
      ],
      "text/plain": [
       "<rich.jupyter.JupyterRenderable at 0x7fbc081c2d60>"
      ]
     },
     "metadata": {},
     "output_type": "display_data"
    },
    {
     "data": {
      "text/html": [
       "<pre style=\"white-space:pre;overflow-x:auto;line-height:normal;font-family:Menlo,'DejaVu Sans Mono',consolas,'Courier New',monospace\"><span style=\"color: #7fbfbf\">           </span><span style=\"color: #000080\">INFO</span>     aggregated_model_validation task metrics<span style=\"color: #808000\">...</span>                                                                                <a href=\"file:///home/itrushkin/.virtualenvs/openfl_research/lib/python3.8/site-packages/openfl/component/aggregator/aggregator.py\"><span style=\"color: #7f7f7f\">aggregator.py</span></a><span style=\"color: #7f7f7f\">:694</span>\n",
       "</pre>\n"
      ],
      "text/plain": [
       "<rich.jupyter.JupyterRenderable at 0x7fbc08100f40>"
      ]
     },
     "metadata": {},
     "output_type": "display_data"
    },
    {
     "data": {
      "text/html": [
       "<pre style=\"white-space:pre;overflow-x:auto;line-height:normal;font-family:Menlo,'DejaVu Sans Mono',consolas,'Courier New',monospace\"><span style=\"color: #7fbfbf\">           </span><span style=\"color: #000080\">INFO</span>     acc:    <span style=\"color: #000080; font-weight: bold\">0.9833</span>                                                                                                             <a href=\"file:///home/itrushkin/.virtualenvs/openfl_research/lib/python3.8/site-packages/openfl/component/aggregator/aggregator.py\"><span style=\"color: #7f7f7f\">aggregator.py</span></a><span style=\"color: #7f7f7f\">:742</span>\n",
       "</pre>\n"
      ],
      "text/plain": [
       "<rich.jupyter.JupyterRenderable at 0x7fbc08100f70>"
      ]
     },
     "metadata": {},
     "output_type": "display_data"
    },
    {
     "data": {
      "text/html": [
       "<pre style=\"white-space:pre;overflow-x:auto;line-height:normal;font-family:Menlo,'DejaVu Sans Mono',consolas,'Courier New',monospace\"><span style=\"color: #7fbfbf\">           </span><span style=\"color: #000080\">INFO</span>     Saved the best model with score <span style=\"color: #000080; font-weight: bold\">0.983300</span>                                                                                   <a href=\"file:///home/itrushkin/.virtualenvs/openfl_research/lib/python3.8/site-packages/openfl/component/aggregator/aggregator.py\"><span style=\"color: #7f7f7f\">aggregator.py</span></a><span style=\"color: #7f7f7f\">:749</span>\n",
       "</pre>\n"
      ],
      "text/plain": [
       "<rich.jupyter.JupyterRenderable at 0x7fbc081b2280>"
      ]
     },
     "metadata": {},
     "output_type": "display_data"
    },
    {
     "data": {
      "text/html": [
       "<pre style=\"white-space:pre;overflow-x:auto;line-height:normal;font-family:Menlo,'DejaVu Sans Mono',consolas,'Courier New',monospace\"><span style=\"color: #7fbfbf\">[13:09:43] </span><span style=\"color: #000080\">INFO</span>     locally_tuned_model_validation task metrics<span style=\"color: #808000\">...</span>                                                                             <a href=\"file:///home/itrushkin/.virtualenvs/openfl_research/lib/python3.8/site-packages/openfl/component/aggregator/aggregator.py\"><span style=\"color: #7f7f7f\">aggregator.py</span></a><span style=\"color: #7f7f7f\">:694</span>\n",
       "</pre>\n"
      ],
      "text/plain": [
       "<rich.jupyter.JupyterRenderable at 0x7fbc08107190>"
      ]
     },
     "metadata": {},
     "output_type": "display_data"
    },
    {
     "data": {
      "text/html": [
       "<pre style=\"white-space:pre;overflow-x:auto;line-height:normal;font-family:Menlo,'DejaVu Sans Mono',consolas,'Courier New',monospace\"><span style=\"color: #7fbfbf\">           </span><span style=\"color: #000080\">INFO</span>     acc:    <span style=\"color: #000080; font-weight: bold\">0.9825</span>                                                                                                             <a href=\"file:///home/itrushkin/.virtualenvs/openfl_research/lib/python3.8/site-packages/openfl/component/aggregator/aggregator.py\"><span style=\"color: #7f7f7f\">aggregator.py</span></a><span style=\"color: #7f7f7f\">:742</span>\n",
       "</pre>\n"
      ],
      "text/plain": [
       "<rich.jupyter.JupyterRenderable at 0x7fbc08100490>"
      ]
     },
     "metadata": {},
     "output_type": "display_data"
    },
    {
     "data": {
      "text/html": [
       "<pre style=\"white-space:pre;overflow-x:auto;line-height:normal;font-family:Menlo,'DejaVu Sans Mono',consolas,'Courier New',monospace\"><span style=\"color: #7fbfbf\">           </span><span style=\"color: #000080\">INFO</span>     Saving round <span style=\"color: #000080; font-weight: bold\">1</span> model<span style=\"color: #808000\">...</span>                                                                                                    <a href=\"file:///home/itrushkin/.virtualenvs/openfl_research/lib/python3.8/site-packages/openfl/component/aggregator/aggregator.py\"><span style=\"color: #7f7f7f\">aggregator.py</span></a><span style=\"color: #7f7f7f\">:783</span>\n",
       "</pre>\n"
      ],
      "text/plain": [
       "<rich.jupyter.JupyterRenderable at 0x7fbc081b2280>"
      ]
     },
     "metadata": {},
     "output_type": "display_data"
    },
    {
     "data": {
      "text/html": [
       "<pre style=\"white-space:pre;overflow-x:auto;line-height:normal;font-family:Menlo,'DejaVu Sans Mono',consolas,'Courier New',monospace\"><span style=\"color: #7fbfbf\">           </span><span style=\"color: #000080\">INFO</span>     Starting round <span style=\"color: #000080; font-weight: bold\">1</span><span style=\"color: #808000\">...</span>                                                                                                        <a href=\"file:///home/itrushkin/.virtualenvs/openfl_research/lib/python3.8/site-packages/openfl/component/aggregator/aggregator.py\"><span style=\"color: #7f7f7f\">aggregator.py</span></a><span style=\"color: #7f7f7f\">:791</span>\n",
       "</pre>\n"
      ],
      "text/plain": [
       "<rich.jupyter.JupyterRenderable at 0x7fbc08103a00>"
      ]
     },
     "metadata": {},
     "output_type": "display_data"
    },
    {
     "data": {
      "text/html": [
       "<pre style=\"white-space:pre;overflow-x:auto;line-height:normal;font-family:Menlo,'DejaVu Sans Mono',consolas,'Courier New',monospace\"><span style=\"color: #7fbfbf\">           </span><span style=\"color: #000080\">INFO</span>     All tasks completed on two for round <span style=\"color: #000080; font-weight: bold\">0</span><span style=\"color: #808000\">...</span>                                                                                <a href=\"file:///home/itrushkin/.virtualenvs/openfl_research/lib/python3.8/site-packages/openfl/component/collaborator/collaborator.py\"><span style=\"color: #7f7f7f\">collaborator.py</span></a><span style=\"color: #7f7f7f\">:148</span>\n",
       "</pre>\n"
      ],
      "text/plain": [
       "<rich.jupyter.JupyterRenderable at 0x7fbcfb412880>"
      ]
     },
     "metadata": {},
     "output_type": "display_data"
    },
    {
     "data": {
      "text/html": [
       "<pre style=\"white-space:pre;overflow-x:auto;line-height:normal;font-family:Menlo,'DejaVu Sans Mono',consolas,'Courier New',monospace\"><span style=\"color: #7fbfbf\">           </span><span style=\"color: #000080\">INFO</span>     Waiting for tasks<span style=\"color: #808000\">...</span>                                                                                                     <a href=\"file:///home/itrushkin/.virtualenvs/openfl_research/lib/python3.8/site-packages/openfl/component/collaborator/collaborator.py\"><span style=\"color: #7f7f7f\">collaborator.py</span></a><span style=\"color: #7f7f7f\">:156</span>\n",
       "</pre>\n"
      ],
      "text/plain": [
       "<rich.jupyter.JupyterRenderable at 0x7fbc081c2e50>"
      ]
     },
     "metadata": {},
     "output_type": "display_data"
    },
    {
     "data": {
      "text/html": [
       "<pre style=\"white-space:pre;overflow-x:auto;line-height:normal;font-family:Menlo,'DejaVu Sans Mono',consolas,'Courier New',monospace\"><span style=\"color: #7fbfbf\">           </span><span style=\"color: #000080\">INFO</span>     Sending tasks to collaborator one for round <span style=\"color: #000080; font-weight: bold\">1</span>                                                                              <a href=\"file:///home/itrushkin/.virtualenvs/openfl_research/lib/python3.8/site-packages/openfl/component/aggregator/aggregator.py\"><span style=\"color: #7f7f7f\">aggregator.py</span></a><span style=\"color: #7f7f7f\">:276</span>\n",
       "</pre>\n"
      ],
      "text/plain": [
       "<rich.jupyter.JupyterRenderable at 0x7fbc110e6be0>"
      ]
     },
     "metadata": {},
     "output_type": "display_data"
    },
    {
     "data": {
      "text/html": [
       "<pre style=\"white-space:pre;overflow-x:auto;line-height:normal;font-family:Menlo,'DejaVu Sans Mono',consolas,'Courier New',monospace\"><span style=\"color: #7fbfbf\">           </span><span style=\"color: #000080\">INFO</span>     Received the following tasks: <span style=\"font-weight: bold\">[</span><span style=\"color: #008000\">'aggregated_model_validation'</span>, <span style=\"color: #008000\">'train'</span>, <span style=\"color: #008000\">'locally_tuned_model_validation'</span><span style=\"font-weight: bold\">]</span>                 <a href=\"file:///home/itrushkin/.virtualenvs/openfl_research/lib/python3.8/site-packages/openfl/component/collaborator/collaborator.py\"><span style=\"color: #7f7f7f\">collaborator.py</span></a><span style=\"color: #7f7f7f\">:144</span>\n",
       "</pre>\n"
      ],
      "text/plain": [
       "<rich.jupyter.JupyterRenderable at 0x7fbc081aee80>"
      ]
     },
     "metadata": {},
     "output_type": "display_data"
    },
    {
     "data": {
      "text/html": [
       "<pre style=\"white-space:pre;overflow-x:auto;line-height:normal;font-family:Menlo,'DejaVu Sans Mono',consolas,'Courier New',monospace\"><span style=\"color: #7fbfbf\">           </span><span style=\"color: #000080\">INFO</span>     Sending metric for task aggregated_model_validation, round number <span style=\"color: #000080; font-weight: bold\">1</span>: acc        <span style=\"color: #000080; font-weight: bold\">0.9854</span>                                   <a href=\"file:///home/itrushkin/.virtualenvs/openfl_research/lib/python3.8/site-packages/openfl/component/collaborator/collaborator.py\"><span style=\"color: #7f7f7f\">collaborator.py</span></a><span style=\"color: #7f7f7f\">:365</span>\n",
       "</pre>\n"
      ],
      "text/plain": [
       "<rich.jupyter.JupyterRenderable at 0x7fbc081b2250>"
      ]
     },
     "metadata": {},
     "output_type": "display_data"
    },
    {
     "data": {
      "text/html": [
       "<pre style=\"white-space:pre;overflow-x:auto;line-height:normal;font-family:Menlo,'DejaVu Sans Mono',consolas,'Courier New',monospace\"><span style=\"color: #7fbfbf\">           </span><span style=\"color: #000080\">INFO</span>     Collaborator one is sending task results for aggregated_model_validation, round <span style=\"color: #000080; font-weight: bold\">1</span>                                          <a href=\"file:///home/itrushkin/.virtualenvs/openfl_research/lib/python3.8/site-packages/openfl/component/aggregator/aggregator.py\"><span style=\"color: #7f7f7f\">aggregator.py</span></a><span style=\"color: #7f7f7f\">:428</span>\n",
       "</pre>\n"
      ],
      "text/plain": [
       "<rich.jupyter.JupyterRenderable at 0x7fbc081b2a90>"
      ]
     },
     "metadata": {},
     "output_type": "display_data"
    },
    {
     "data": {
      "text/html": [
       "<pre style=\"white-space:pre;overflow-x:auto;line-height:normal;font-family:Menlo,'DejaVu Sans Mono',consolas,'Courier New',monospace\"><span style=\"color: #7fbfbf\">[13:09:47] </span><span style=\"color: #000080\">INFO</span>     Sending metric for task train, round number <span style=\"color: #000080; font-weight: bold\">1</span>: cross_entropy    <span style=\"color: #000080; font-weight: bold\">0.04429193586111069</span>                                      <a href=\"file:///home/itrushkin/.virtualenvs/openfl_research/lib/python3.8/site-packages/openfl/component/collaborator/collaborator.py\"><span style=\"color: #7f7f7f\">collaborator.py</span></a><span style=\"color: #7f7f7f\">:365</span>\n",
       "</pre>\n"
      ],
      "text/plain": [
       "<rich.jupyter.JupyterRenderable at 0x7fbc0a91bb80>"
      ]
     },
     "metadata": {},
     "output_type": "display_data"
    },
    {
     "data": {
      "text/html": [
       "<pre style=\"white-space:pre;overflow-x:auto;line-height:normal;font-family:Menlo,'DejaVu Sans Mono',consolas,'Courier New',monospace\"><span style=\"color: #7fbfbf\">           </span><span style=\"color: #000080\">INFO</span>     Collaborator one is sending task results for train, round <span style=\"color: #000080; font-weight: bold\">1</span>                                                                <a href=\"file:///home/itrushkin/.virtualenvs/openfl_research/lib/python3.8/site-packages/openfl/component/aggregator/aggregator.py\"><span style=\"color: #7f7f7f\">aggregator.py</span></a><span style=\"color: #7f7f7f\">:428</span>\n",
       "</pre>\n"
      ],
      "text/plain": [
       "<rich.jupyter.JupyterRenderable at 0x7fbc0819eb80>"
      ]
     },
     "metadata": {},
     "output_type": "display_data"
    },
    {
     "data": {
      "text/html": [
       "<pre style=\"white-space:pre;overflow-x:auto;line-height:normal;font-family:Menlo,'DejaVu Sans Mono',consolas,'Courier New',monospace\"><span style=\"color: #7fbfbf\">           </span><span style=\"color: #000080\">INFO</span>     Sending metric for task locally_tuned_model_validation, round number <span style=\"color: #000080; font-weight: bold\">1</span>: acc     <span style=\"color: #000080; font-weight: bold\">0.9788</span>                                   <a href=\"file:///home/itrushkin/.virtualenvs/openfl_research/lib/python3.8/site-packages/openfl/component/collaborator/collaborator.py\"><span style=\"color: #7f7f7f\">collaborator.py</span></a><span style=\"color: #7f7f7f\">:365</span>\n",
       "</pre>\n"
      ],
      "text/plain": [
       "<rich.jupyter.JupyterRenderable at 0x7fbc08103df0>"
      ]
     },
     "metadata": {},
     "output_type": "display_data"
    },
    {
     "data": {
      "text/html": [
       "<pre style=\"white-space:pre;overflow-x:auto;line-height:normal;font-family:Menlo,'DejaVu Sans Mono',consolas,'Courier New',monospace\"><span style=\"color: #7fbfbf\">           </span><span style=\"color: #000080\">INFO</span>     Collaborator one is sending task results for locally_tuned_model_validation, round <span style=\"color: #000080; font-weight: bold\">1</span>                                       <a href=\"file:///home/itrushkin/.virtualenvs/openfl_research/lib/python3.8/site-packages/openfl/component/aggregator/aggregator.py\"><span style=\"color: #7f7f7f\">aggregator.py</span></a><span style=\"color: #7f7f7f\">:428</span>\n",
       "</pre>\n"
      ],
      "text/plain": [
       "<rich.jupyter.JupyterRenderable at 0x7fbc08107d30>"
      ]
     },
     "metadata": {},
     "output_type": "display_data"
    },
    {
     "data": {
      "text/html": [
       "<pre style=\"white-space:pre;overflow-x:auto;line-height:normal;font-family:Menlo,'DejaVu Sans Mono',consolas,'Courier New',monospace\"><span style=\"color: #7fbfbf\">           </span><span style=\"color: #000080\">INFO</span>     All tasks completed on one for round <span style=\"color: #000080; font-weight: bold\">1</span><span style=\"color: #808000\">...</span>                                                                                <a href=\"file:///home/itrushkin/.virtualenvs/openfl_research/lib/python3.8/site-packages/openfl/component/collaborator/collaborator.py\"><span style=\"color: #7f7f7f\">collaborator.py</span></a><span style=\"color: #7f7f7f\">:148</span>\n",
       "</pre>\n"
      ],
      "text/plain": [
       "<rich.jupyter.JupyterRenderable at 0x7fbc08107b50>"
      ]
     },
     "metadata": {},
     "output_type": "display_data"
    },
    {
     "data": {
      "text/html": [
       "<pre style=\"white-space:pre;overflow-x:auto;line-height:normal;font-family:Menlo,'DejaVu Sans Mono',consolas,'Courier New',monospace\"><span style=\"color: #7fbfbf\">           </span><span style=\"color: #000080\">INFO</span>     Waiting for tasks<span style=\"color: #808000\">...</span>                                                                                                     <a href=\"file:///home/itrushkin/.virtualenvs/openfl_research/lib/python3.8/site-packages/openfl/component/collaborator/collaborator.py\"><span style=\"color: #7f7f7f\">collaborator.py</span></a><span style=\"color: #7f7f7f\">:156</span>\n",
       "</pre>\n"
      ],
      "text/plain": [
       "<rich.jupyter.JupyterRenderable at 0x7fbc08107af0>"
      ]
     },
     "metadata": {},
     "output_type": "display_data"
    },
    {
     "data": {
      "text/html": [
       "<pre style=\"white-space:pre;overflow-x:auto;line-height:normal;font-family:Menlo,'DejaVu Sans Mono',consolas,'Courier New',monospace\"><span style=\"color: #7fbfbf\">           </span><span style=\"color: #000080\">INFO</span>     Sending tasks to collaborator two for round <span style=\"color: #000080; font-weight: bold\">1</span>                                                                              <a href=\"file:///home/itrushkin/.virtualenvs/openfl_research/lib/python3.8/site-packages/openfl/component/aggregator/aggregator.py\"><span style=\"color: #7f7f7f\">aggregator.py</span></a><span style=\"color: #7f7f7f\">:276</span>\n",
       "</pre>\n"
      ],
      "text/plain": [
       "<rich.jupyter.JupyterRenderable at 0x7fbc08107b80>"
      ]
     },
     "metadata": {},
     "output_type": "display_data"
    },
    {
     "data": {
      "text/html": [
       "<pre style=\"white-space:pre;overflow-x:auto;line-height:normal;font-family:Menlo,'DejaVu Sans Mono',consolas,'Courier New',monospace\"><span style=\"color: #7fbfbf\">           </span><span style=\"color: #000080\">INFO</span>     Received the following tasks: <span style=\"font-weight: bold\">[</span><span style=\"color: #008000\">'aggregated_model_validation'</span>, <span style=\"color: #008000\">'train'</span>, <span style=\"color: #008000\">'locally_tuned_model_validation'</span><span style=\"font-weight: bold\">]</span>                 <a href=\"file:///home/itrushkin/.virtualenvs/openfl_research/lib/python3.8/site-packages/openfl/component/collaborator/collaborator.py\"><span style=\"color: #7f7f7f\">collaborator.py</span></a><span style=\"color: #7f7f7f\">:144</span>\n",
       "</pre>\n"
      ],
      "text/plain": [
       "<rich.jupyter.JupyterRenderable at 0x7fbc08107b80>"
      ]
     },
     "metadata": {},
     "output_type": "display_data"
    },
    {
     "data": {
      "text/html": [
       "<pre style=\"white-space:pre;overflow-x:auto;line-height:normal;font-family:Menlo,'DejaVu Sans Mono',consolas,'Courier New',monospace\"><span style=\"color: #7fbfbf\">           </span><span style=\"color: #000080\">INFO</span>     Sending metric for task aggregated_model_validation, round number <span style=\"color: #000080; font-weight: bold\">1</span>: acc        <span style=\"color: #000080; font-weight: bold\">0.9862</span>                                   <a href=\"file:///home/itrushkin/.virtualenvs/openfl_research/lib/python3.8/site-packages/openfl/component/collaborator/collaborator.py\"><span style=\"color: #7f7f7f\">collaborator.py</span></a><span style=\"color: #7f7f7f\">:365</span>\n",
       "</pre>\n"
      ],
      "text/plain": [
       "<rich.jupyter.JupyterRenderable at 0x7fbc0819ed60>"
      ]
     },
     "metadata": {},
     "output_type": "display_data"
    },
    {
     "data": {
      "text/html": [
       "<pre style=\"white-space:pre;overflow-x:auto;line-height:normal;font-family:Menlo,'DejaVu Sans Mono',consolas,'Courier New',monospace\"><span style=\"color: #7fbfbf\">           </span><span style=\"color: #000080\">INFO</span>     Collaborator two is sending task results for aggregated_model_validation, round <span style=\"color: #000080; font-weight: bold\">1</span>                                          <a href=\"file:///home/itrushkin/.virtualenvs/openfl_research/lib/python3.8/site-packages/openfl/component/aggregator/aggregator.py\"><span style=\"color: #7f7f7f\">aggregator.py</span></a><span style=\"color: #7f7f7f\">:428</span>\n",
       "</pre>\n"
      ],
      "text/plain": [
       "<rich.jupyter.JupyterRenderable at 0x7fbc081b2b80>"
      ]
     },
     "metadata": {},
     "output_type": "display_data"
    },
    {
     "data": {
      "text/html": [
       "<pre style=\"white-space:pre;overflow-x:auto;line-height:normal;font-family:Menlo,'DejaVu Sans Mono',consolas,'Courier New',monospace\"><span style=\"color: #7fbfbf\">[13:09:51] </span><span style=\"color: #000080\">INFO</span>     Sending metric for task train, round number <span style=\"color: #000080; font-weight: bold\">1</span>: cross_entropy    <span style=\"color: #000080; font-weight: bold\">0.042177554219961166</span>                                     <a href=\"file:///home/itrushkin/.virtualenvs/openfl_research/lib/python3.8/site-packages/openfl/component/collaborator/collaborator.py\"><span style=\"color: #7f7f7f\">collaborator.py</span></a><span style=\"color: #7f7f7f\">:365</span>\n",
       "</pre>\n"
      ],
      "text/plain": [
       "<rich.jupyter.JupyterRenderable at 0x7fbc0819fb20>"
      ]
     },
     "metadata": {},
     "output_type": "display_data"
    },
    {
     "data": {
      "text/html": [
       "<pre style=\"white-space:pre;overflow-x:auto;line-height:normal;font-family:Menlo,'DejaVu Sans Mono',consolas,'Courier New',monospace\"><span style=\"color: #7fbfbf\">           </span><span style=\"color: #000080\">INFO</span>     Collaborator two is sending task results for train, round <span style=\"color: #000080; font-weight: bold\">1</span>                                                                <a href=\"file:///home/itrushkin/.virtualenvs/openfl_research/lib/python3.8/site-packages/openfl/component/aggregator/aggregator.py\"><span style=\"color: #7f7f7f\">aggregator.py</span></a><span style=\"color: #7f7f7f\">:428</span>\n",
       "</pre>\n"
      ],
      "text/plain": [
       "<rich.jupyter.JupyterRenderable at 0x7fbc0819f880>"
      ]
     },
     "metadata": {},
     "output_type": "display_data"
    },
    {
     "data": {
      "text/html": [
       "<pre style=\"white-space:pre;overflow-x:auto;line-height:normal;font-family:Menlo,'DejaVu Sans Mono',consolas,'Courier New',monospace\"><span style=\"color: #7fbfbf\">           </span><span style=\"color: #000080\">INFO</span>     Sending metric for task locally_tuned_model_validation, round number <span style=\"color: #000080; font-weight: bold\">1</span>: acc     <span style=\"color: #000080; font-weight: bold\">0.9854</span>                                   <a href=\"file:///home/itrushkin/.virtualenvs/openfl_research/lib/python3.8/site-packages/openfl/component/collaborator/collaborator.py\"><span style=\"color: #7f7f7f\">collaborator.py</span></a><span style=\"color: #7f7f7f\">:365</span>\n",
       "</pre>\n"
      ],
      "text/plain": [
       "<rich.jupyter.JupyterRenderable at 0x7fbc080a1850>"
      ]
     },
     "metadata": {},
     "output_type": "display_data"
    },
    {
     "data": {
      "text/html": [
       "<pre style=\"white-space:pre;overflow-x:auto;line-height:normal;font-family:Menlo,'DejaVu Sans Mono',consolas,'Courier New',monospace\"><span style=\"color: #7fbfbf\">           </span><span style=\"color: #000080\">INFO</span>     Collaborator two is sending task results for locally_tuned_model_validation, round <span style=\"color: #000080; font-weight: bold\">1</span>                                       <a href=\"file:///home/itrushkin/.virtualenvs/openfl_research/lib/python3.8/site-packages/openfl/component/aggregator/aggregator.py\"><span style=\"color: #7f7f7f\">aggregator.py</span></a><span style=\"color: #7f7f7f\">:428</span>\n",
       "</pre>\n"
      ],
      "text/plain": [
       "<rich.jupyter.JupyterRenderable at 0x7fbc080a1910>"
      ]
     },
     "metadata": {},
     "output_type": "display_data"
    },
    {
     "data": {
      "text/html": [
       "<pre style=\"white-space:pre;overflow-x:auto;line-height:normal;font-family:Menlo,'DejaVu Sans Mono',consolas,'Courier New',monospace\"><span style=\"color: #7fbfbf\">           </span><span style=\"color: #000080\">INFO</span>     train task metrics<span style=\"color: #808000\">...</span>                                                                                                      <a href=\"file:///home/itrushkin/.virtualenvs/openfl_research/lib/python3.8/site-packages/openfl/component/aggregator/aggregator.py\"><span style=\"color: #7f7f7f\">aggregator.py</span></a><span style=\"color: #7f7f7f\">:694</span>\n",
       "</pre>\n"
      ],
      "text/plain": [
       "<rich.jupyter.JupyterRenderable at 0x7fbc080a1e80>"
      ]
     },
     "metadata": {},
     "output_type": "display_data"
    },
    {
     "data": {
      "text/html": [
       "<pre style=\"white-space:pre;overflow-x:auto;line-height:normal;font-family:Menlo,'DejaVu Sans Mono',consolas,'Courier New',monospace\"><span style=\"color: #7fbfbf\">           </span><span style=\"color: #000080\">INFO</span>     <span style=\"font-weight: bold\">&lt;</span><span style=\"color: #ff00ff; font-weight: bold\">__main__.ClippedAveraging</span><span style=\"color: #000000\"> object at </span><span style=\"color: #000080; font-weight: bold\">0x7fbc08100940</span><span style=\"font-weight: bold\">&gt;</span> cross_entropy:     <span style=\"color: #000080; font-weight: bold\">0.0432</span>                                             <a href=\"file:///home/itrushkin/.virtualenvs/openfl_research/lib/python3.8/site-packages/openfl/component/aggregator/aggregator.py\"><span style=\"color: #7f7f7f\">aggregator.py</span></a><span style=\"color: #7f7f7f\">:738</span>\n",
       "</pre>\n"
      ],
      "text/plain": [
       "<rich.jupyter.JupyterRenderable at 0x7fbc0a91ab50>"
      ]
     },
     "metadata": {},
     "output_type": "display_data"
    },
    {
     "data": {
      "text/html": [
       "<pre style=\"white-space:pre;overflow-x:auto;line-height:normal;font-family:Menlo,'DejaVu Sans Mono',consolas,'Courier New',monospace\"><span style=\"color: #7fbfbf\">           </span><span style=\"color: #000080\">INFO</span>     aggregated_model_validation task metrics<span style=\"color: #808000\">...</span>                                                                                <a href=\"file:///home/itrushkin/.virtualenvs/openfl_research/lib/python3.8/site-packages/openfl/component/aggregator/aggregator.py\"><span style=\"color: #7f7f7f\">aggregator.py</span></a><span style=\"color: #7f7f7f\">:694</span>\n",
       "</pre>\n"
      ],
      "text/plain": [
       "<rich.jupyter.JupyterRenderable at 0x7fbc08107af0>"
      ]
     },
     "metadata": {},
     "output_type": "display_data"
    },
    {
     "data": {
      "text/html": [
       "<pre style=\"white-space:pre;overflow-x:auto;line-height:normal;font-family:Menlo,'DejaVu Sans Mono',consolas,'Courier New',monospace\"><span style=\"color: #7fbfbf\">           </span><span style=\"color: #000080\">INFO</span>     acc:    <span style=\"color: #000080; font-weight: bold\">0.9858</span>                                                                                                             <a href=\"file:///home/itrushkin/.virtualenvs/openfl_research/lib/python3.8/site-packages/openfl/component/aggregator/aggregator.py\"><span style=\"color: #7f7f7f\">aggregator.py</span></a><span style=\"color: #7f7f7f\">:742</span>\n",
       "</pre>\n"
      ],
      "text/plain": [
       "<rich.jupyter.JupyterRenderable at 0x7fbc0810b790>"
      ]
     },
     "metadata": {},
     "output_type": "display_data"
    },
    {
     "data": {
      "text/html": [
       "<pre style=\"white-space:pre;overflow-x:auto;line-height:normal;font-family:Menlo,'DejaVu Sans Mono',consolas,'Courier New',monospace\"><span style=\"color: #7fbfbf\">           </span><span style=\"color: #000080\">INFO</span>     Saved the best model with score <span style=\"color: #000080; font-weight: bold\">0.985800</span>                                                                                   <a href=\"file:///home/itrushkin/.virtualenvs/openfl_research/lib/python3.8/site-packages/openfl/component/aggregator/aggregator.py\"><span style=\"color: #7f7f7f\">aggregator.py</span></a><span style=\"color: #7f7f7f\">:749</span>\n",
       "</pre>\n"
      ],
      "text/plain": [
       "<rich.jupyter.JupyterRenderable at 0x7fbc0810b9d0>"
      ]
     },
     "metadata": {},
     "output_type": "display_data"
    },
    {
     "data": {
      "text/html": [
       "<pre style=\"white-space:pre;overflow-x:auto;line-height:normal;font-family:Menlo,'DejaVu Sans Mono',consolas,'Courier New',monospace\"><span style=\"color: #7fbfbf\">           </span><span style=\"color: #000080\">INFO</span>     locally_tuned_model_validation task metrics<span style=\"color: #808000\">...</span>                                                                             <a href=\"file:///home/itrushkin/.virtualenvs/openfl_research/lib/python3.8/site-packages/openfl/component/aggregator/aggregator.py\"><span style=\"color: #7f7f7f\">aggregator.py</span></a><span style=\"color: #7f7f7f\">:694</span>\n",
       "</pre>\n"
      ],
      "text/plain": [
       "<rich.jupyter.JupyterRenderable at 0x7fbc080a13d0>"
      ]
     },
     "metadata": {},
     "output_type": "display_data"
    },
    {
     "data": {
      "text/html": [
       "<pre style=\"white-space:pre;overflow-x:auto;line-height:normal;font-family:Menlo,'DejaVu Sans Mono',consolas,'Courier New',monospace\"><span style=\"color: #7fbfbf\">           </span><span style=\"color: #000080\">INFO</span>     acc:    <span style=\"color: #000080; font-weight: bold\">0.9821</span>                                                                                                             <a href=\"file:///home/itrushkin/.virtualenvs/openfl_research/lib/python3.8/site-packages/openfl/component/aggregator/aggregator.py\"><span style=\"color: #7f7f7f\">aggregator.py</span></a><span style=\"color: #7f7f7f\">:742</span>\n",
       "</pre>\n"
      ],
      "text/plain": [
       "<rich.jupyter.JupyterRenderable at 0x7fbc0810bac0>"
      ]
     },
     "metadata": {},
     "output_type": "display_data"
    },
    {
     "data": {
      "text/html": [
       "<pre style=\"white-space:pre;overflow-x:auto;line-height:normal;font-family:Menlo,'DejaVu Sans Mono',consolas,'Courier New',monospace\"><span style=\"color: #7fbfbf\">           </span><span style=\"color: #000080\">INFO</span>     Saving round <span style=\"color: #000080; font-weight: bold\">2</span> model<span style=\"color: #808000\">...</span>                                                                                                    <a href=\"file:///home/itrushkin/.virtualenvs/openfl_research/lib/python3.8/site-packages/openfl/component/aggregator/aggregator.py\"><span style=\"color: #7f7f7f\">aggregator.py</span></a><span style=\"color: #7f7f7f\">:783</span>\n",
       "</pre>\n"
      ],
      "text/plain": [
       "<rich.jupyter.JupyterRenderable at 0x7fbcfb422d60>"
      ]
     },
     "metadata": {},
     "output_type": "display_data"
    },
    {
     "data": {
      "text/html": [
       "<pre style=\"white-space:pre;overflow-x:auto;line-height:normal;font-family:Menlo,'DejaVu Sans Mono',consolas,'Courier New',monospace\"><span style=\"color: #7fbfbf\">           </span><span style=\"color: #000080\">INFO</span>     Starting round <span style=\"color: #000080; font-weight: bold\">2</span><span style=\"color: #808000\">...</span>                                                                                                        <a href=\"file:///home/itrushkin/.virtualenvs/openfl_research/lib/python3.8/site-packages/openfl/component/aggregator/aggregator.py\"><span style=\"color: #7f7f7f\">aggregator.py</span></a><span style=\"color: #7f7f7f\">:791</span>\n",
       "</pre>\n"
      ],
      "text/plain": [
       "<rich.jupyter.JupyterRenderable at 0x7fbc080a1ca0>"
      ]
     },
     "metadata": {},
     "output_type": "display_data"
    },
    {
     "data": {
      "text/html": [
       "<pre style=\"white-space:pre;overflow-x:auto;line-height:normal;font-family:Menlo,'DejaVu Sans Mono',consolas,'Courier New',monospace\"><span style=\"color: #7fbfbf\">           </span><span style=\"color: #000080\">INFO</span>     All tasks completed on two for round <span style=\"color: #000080; font-weight: bold\">1</span><span style=\"color: #808000\">...</span>                                                                                <a href=\"file:///home/itrushkin/.virtualenvs/openfl_research/lib/python3.8/site-packages/openfl/component/collaborator/collaborator.py\"><span style=\"color: #7f7f7f\">collaborator.py</span></a><span style=\"color: #7f7f7f\">:148</span>\n",
       "</pre>\n"
      ],
      "text/plain": [
       "<rich.jupyter.JupyterRenderable at 0x7fbc081989d0>"
      ]
     },
     "metadata": {},
     "output_type": "display_data"
    },
    {
     "data": {
      "text/html": [
       "<pre style=\"white-space:pre;overflow-x:auto;line-height:normal;font-family:Menlo,'DejaVu Sans Mono',consolas,'Courier New',monospace\"><span style=\"color: #7fbfbf\">           </span><span style=\"color: #000080\">INFO</span>     Waiting for tasks<span style=\"color: #808000\">...</span>                                                                                                     <a href=\"file:///home/itrushkin/.virtualenvs/openfl_research/lib/python3.8/site-packages/openfl/component/collaborator/collaborator.py\"><span style=\"color: #7f7f7f\">collaborator.py</span></a><span style=\"color: #7f7f7f\">:156</span>\n",
       "</pre>\n"
      ],
      "text/plain": [
       "<rich.jupyter.JupyterRenderable at 0x7fbc0a91a8e0>"
      ]
     },
     "metadata": {},
     "output_type": "display_data"
    },
    {
     "data": {
      "text/html": [
       "<pre style=\"white-space:pre;overflow-x:auto;line-height:normal;font-family:Menlo,'DejaVu Sans Mono',consolas,'Courier New',monospace\"><span style=\"color: #7fbfbf\">           </span><span style=\"color: #000080\">INFO</span>     Sending tasks to collaborator one for round <span style=\"color: #000080; font-weight: bold\">2</span>                                                                              <a href=\"file:///home/itrushkin/.virtualenvs/openfl_research/lib/python3.8/site-packages/openfl/component/aggregator/aggregator.py\"><span style=\"color: #7f7f7f\">aggregator.py</span></a><span style=\"color: #7f7f7f\">:276</span>\n",
       "</pre>\n"
      ],
      "text/plain": [
       "<rich.jupyter.JupyterRenderable at 0x7fbc081b2b20>"
      ]
     },
     "metadata": {},
     "output_type": "display_data"
    },
    {
     "data": {
      "text/html": [
       "<pre style=\"white-space:pre;overflow-x:auto;line-height:normal;font-family:Menlo,'DejaVu Sans Mono',consolas,'Courier New',monospace\"><span style=\"color: #7fbfbf\">           </span><span style=\"color: #000080\">INFO</span>     Received the following tasks: <span style=\"font-weight: bold\">[</span><span style=\"color: #008000\">'aggregated_model_validation'</span>, <span style=\"color: #008000\">'train'</span>, <span style=\"color: #008000\">'locally_tuned_model_validation'</span><span style=\"font-weight: bold\">]</span>                 <a href=\"file:///home/itrushkin/.virtualenvs/openfl_research/lib/python3.8/site-packages/openfl/component/collaborator/collaborator.py\"><span style=\"color: #7f7f7f\">collaborator.py</span></a><span style=\"color: #7f7f7f\">:144</span>\n",
       "</pre>\n"
      ],
      "text/plain": [
       "<rich.jupyter.JupyterRenderable at 0x7fbc0a91bb80>"
      ]
     },
     "metadata": {},
     "output_type": "display_data"
    },
    {
     "data": {
      "text/html": [
       "<pre style=\"white-space:pre;overflow-x:auto;line-height:normal;font-family:Menlo,'DejaVu Sans Mono',consolas,'Courier New',monospace\"><span style=\"color: #7fbfbf\">[13:09:52] </span><span style=\"color: #000080\">INFO</span>     Sending metric for task aggregated_model_validation, round number <span style=\"color: #000080; font-weight: bold\">2</span>: acc        <span style=\"color: #000080; font-weight: bold\">0.985</span>                                    <a href=\"file:///home/itrushkin/.virtualenvs/openfl_research/lib/python3.8/site-packages/openfl/component/collaborator/collaborator.py\"><span style=\"color: #7f7f7f\">collaborator.py</span></a><span style=\"color: #7f7f7f\">:365</span>\n",
       "</pre>\n"
      ],
      "text/plain": [
       "<rich.jupyter.JupyterRenderable at 0x7fbc08103b50>"
      ]
     },
     "metadata": {},
     "output_type": "display_data"
    },
    {
     "data": {
      "text/html": [
       "<pre style=\"white-space:pre;overflow-x:auto;line-height:normal;font-family:Menlo,'DejaVu Sans Mono',consolas,'Courier New',monospace\"><span style=\"color: #7fbfbf\">           </span><span style=\"color: #000080\">INFO</span>     Collaborator one is sending task results for aggregated_model_validation, round <span style=\"color: #000080; font-weight: bold\">2</span>                                          <a href=\"file:///home/itrushkin/.virtualenvs/openfl_research/lib/python3.8/site-packages/openfl/component/aggregator/aggregator.py\"><span style=\"color: #7f7f7f\">aggregator.py</span></a><span style=\"color: #7f7f7f\">:428</span>\n",
       "</pre>\n"
      ],
      "text/plain": [
       "<rich.jupyter.JupyterRenderable at 0x7fbc081b2610>"
      ]
     },
     "metadata": {},
     "output_type": "display_data"
    },
    {
     "data": {
      "text/html": [
       "<pre style=\"white-space:pre;overflow-x:auto;line-height:normal;font-family:Menlo,'DejaVu Sans Mono',consolas,'Courier New',monospace\"><span style=\"color: #7fbfbf\">[13:09:56] </span><span style=\"color: #000080\">INFO</span>     Sending metric for task train, round number <span style=\"color: #000080; font-weight: bold\">2</span>: cross_entropy    <span style=\"color: #000080; font-weight: bold\">0.038940154016017914</span>                                     <a href=\"file:///home/itrushkin/.virtualenvs/openfl_research/lib/python3.8/site-packages/openfl/component/collaborator/collaborator.py\"><span style=\"color: #7f7f7f\">collaborator.py</span></a><span style=\"color: #7f7f7f\">:365</span>\n",
       "</pre>\n"
      ],
      "text/plain": [
       "<rich.jupyter.JupyterRenderable at 0x7fbc0a8d0f40>"
      ]
     },
     "metadata": {},
     "output_type": "display_data"
    },
    {
     "data": {
      "text/html": [
       "<pre style=\"white-space:pre;overflow-x:auto;line-height:normal;font-family:Menlo,'DejaVu Sans Mono',consolas,'Courier New',monospace\"><span style=\"color: #7fbfbf\">           </span><span style=\"color: #000080\">INFO</span>     Collaborator one is sending task results for train, round <span style=\"color: #000080; font-weight: bold\">2</span>                                                                <a href=\"file:///home/itrushkin/.virtualenvs/openfl_research/lib/python3.8/site-packages/openfl/component/aggregator/aggregator.py\"><span style=\"color: #7f7f7f\">aggregator.py</span></a><span style=\"color: #7f7f7f\">:428</span>\n",
       "</pre>\n"
      ],
      "text/plain": [
       "<rich.jupyter.JupyterRenderable at 0x7fbc0a8d05e0>"
      ]
     },
     "metadata": {},
     "output_type": "display_data"
    },
    {
     "data": {
      "text/html": [
       "<pre style=\"white-space:pre;overflow-x:auto;line-height:normal;font-family:Menlo,'DejaVu Sans Mono',consolas,'Courier New',monospace\"><span style=\"color: #7fbfbf\">           </span><span style=\"color: #000080\">INFO</span>     Sending metric for task locally_tuned_model_validation, round number <span style=\"color: #000080; font-weight: bold\">2</span>: acc     <span style=\"color: #000080; font-weight: bold\">0.9832</span>                                   <a href=\"file:///home/itrushkin/.virtualenvs/openfl_research/lib/python3.8/site-packages/openfl/component/collaborator/collaborator.py\"><span style=\"color: #7f7f7f\">collaborator.py</span></a><span style=\"color: #7f7f7f\">:365</span>\n",
       "</pre>\n"
      ],
      "text/plain": [
       "<rich.jupyter.JupyterRenderable at 0x7fbc0a8d01f0>"
      ]
     },
     "metadata": {},
     "output_type": "display_data"
    },
    {
     "data": {
      "text/html": [
       "<pre style=\"white-space:pre;overflow-x:auto;line-height:normal;font-family:Menlo,'DejaVu Sans Mono',consolas,'Courier New',monospace\"><span style=\"color: #7fbfbf\">           </span><span style=\"color: #000080\">INFO</span>     Collaborator one is sending task results for locally_tuned_model_validation, round <span style=\"color: #000080; font-weight: bold\">2</span>                                       <a href=\"file:///home/itrushkin/.virtualenvs/openfl_research/lib/python3.8/site-packages/openfl/component/aggregator/aggregator.py\"><span style=\"color: #7f7f7f\">aggregator.py</span></a><span style=\"color: #7f7f7f\">:428</span>\n",
       "</pre>\n"
      ],
      "text/plain": [
       "<rich.jupyter.JupyterRenderable at 0x7fbc0a8d0400>"
      ]
     },
     "metadata": {},
     "output_type": "display_data"
    },
    {
     "data": {
      "text/html": [
       "<pre style=\"white-space:pre;overflow-x:auto;line-height:normal;font-family:Menlo,'DejaVu Sans Mono',consolas,'Courier New',monospace\"><span style=\"color: #7fbfbf\">           </span><span style=\"color: #000080\">INFO</span>     All tasks completed on one for round <span style=\"color: #000080; font-weight: bold\">2</span><span style=\"color: #808000\">...</span>                                                                                <a href=\"file:///home/itrushkin/.virtualenvs/openfl_research/lib/python3.8/site-packages/openfl/component/collaborator/collaborator.py\"><span style=\"color: #7f7f7f\">collaborator.py</span></a><span style=\"color: #7f7f7f\">:148</span>\n",
       "</pre>\n"
      ],
      "text/plain": [
       "<rich.jupyter.JupyterRenderable at 0x7fbc0a8d0f40>"
      ]
     },
     "metadata": {},
     "output_type": "display_data"
    },
    {
     "data": {
      "text/html": [
       "<pre style=\"white-space:pre;overflow-x:auto;line-height:normal;font-family:Menlo,'DejaVu Sans Mono',consolas,'Courier New',monospace\"><span style=\"color: #7fbfbf\">           </span><span style=\"color: #000080\">INFO</span>     Waiting for tasks<span style=\"color: #808000\">...</span>                                                                                                     <a href=\"file:///home/itrushkin/.virtualenvs/openfl_research/lib/python3.8/site-packages/openfl/component/collaborator/collaborator.py\"><span style=\"color: #7f7f7f\">collaborator.py</span></a><span style=\"color: #7f7f7f\">:156</span>\n",
       "</pre>\n"
      ],
      "text/plain": [
       "<rich.jupyter.JupyterRenderable at 0x7fbc0a8d0160>"
      ]
     },
     "metadata": {},
     "output_type": "display_data"
    },
    {
     "data": {
      "text/html": [
       "<pre style=\"white-space:pre;overflow-x:auto;line-height:normal;font-family:Menlo,'DejaVu Sans Mono',consolas,'Courier New',monospace\"><span style=\"color: #7fbfbf\">           </span><span style=\"color: #000080\">INFO</span>     Sending tasks to collaborator two for round <span style=\"color: #000080; font-weight: bold\">2</span>                                                                              <a href=\"file:///home/itrushkin/.virtualenvs/openfl_research/lib/python3.8/site-packages/openfl/component/aggregator/aggregator.py\"><span style=\"color: #7f7f7f\">aggregator.py</span></a><span style=\"color: #7f7f7f\">:276</span>\n",
       "</pre>\n"
      ],
      "text/plain": [
       "<rich.jupyter.JupyterRenderable at 0x7fbc0a8d0970>"
      ]
     },
     "metadata": {},
     "output_type": "display_data"
    },
    {
     "data": {
      "text/html": [
       "<pre style=\"white-space:pre;overflow-x:auto;line-height:normal;font-family:Menlo,'DejaVu Sans Mono',consolas,'Courier New',monospace\"><span style=\"color: #7fbfbf\">           </span><span style=\"color: #000080\">INFO</span>     Received the following tasks: <span style=\"font-weight: bold\">[</span><span style=\"color: #008000\">'aggregated_model_validation'</span>, <span style=\"color: #008000\">'train'</span>, <span style=\"color: #008000\">'locally_tuned_model_validation'</span><span style=\"font-weight: bold\">]</span>                 <a href=\"file:///home/itrushkin/.virtualenvs/openfl_research/lib/python3.8/site-packages/openfl/component/collaborator/collaborator.py\"><span style=\"color: #7f7f7f\">collaborator.py</span></a><span style=\"color: #7f7f7f\">:144</span>\n",
       "</pre>\n"
      ],
      "text/plain": [
       "<rich.jupyter.JupyterRenderable at 0x7fbc0a8d0400>"
      ]
     },
     "metadata": {},
     "output_type": "display_data"
    },
    {
     "data": {
      "text/html": [
       "<pre style=\"white-space:pre;overflow-x:auto;line-height:normal;font-family:Menlo,'DejaVu Sans Mono',consolas,'Courier New',monospace\"><span style=\"color: #7fbfbf\">           </span><span style=\"color: #000080\">INFO</span>     Sending metric for task aggregated_model_validation, round number <span style=\"color: #000080; font-weight: bold\">2</span>: acc        <span style=\"color: #000080; font-weight: bold\">0.9872</span>                                   <a href=\"file:///home/itrushkin/.virtualenvs/openfl_research/lib/python3.8/site-packages/openfl/component/collaborator/collaborator.py\"><span style=\"color: #7f7f7f\">collaborator.py</span></a><span style=\"color: #7f7f7f\">:365</span>\n",
       "</pre>\n"
      ],
      "text/plain": [
       "<rich.jupyter.JupyterRenderable at 0x7fbc081be730>"
      ]
     },
     "metadata": {},
     "output_type": "display_data"
    },
    {
     "data": {
      "text/html": [
       "<pre style=\"white-space:pre;overflow-x:auto;line-height:normal;font-family:Menlo,'DejaVu Sans Mono',consolas,'Courier New',monospace\"><span style=\"color: #7fbfbf\">           </span><span style=\"color: #000080\">INFO</span>     Collaborator two is sending task results for aggregated_model_validation, round <span style=\"color: #000080; font-weight: bold\">2</span>                                          <a href=\"file:///home/itrushkin/.virtualenvs/openfl_research/lib/python3.8/site-packages/openfl/component/aggregator/aggregator.py\"><span style=\"color: #7f7f7f\">aggregator.py</span></a><span style=\"color: #7f7f7f\">:428</span>\n",
       "</pre>\n"
      ],
      "text/plain": [
       "<rich.jupyter.JupyterRenderable at 0x7fbc081be190>"
      ]
     },
     "metadata": {},
     "output_type": "display_data"
    },
    {
     "data": {
      "text/html": [
       "<pre style=\"white-space:pre;overflow-x:auto;line-height:normal;font-family:Menlo,'DejaVu Sans Mono',consolas,'Courier New',monospace\"><span style=\"color: #7fbfbf\">[13:10:00] </span><span style=\"color: #000080\">INFO</span>     Sending metric for task train, round number <span style=\"color: #000080; font-weight: bold\">2</span>: cross_entropy    <span style=\"color: #000080; font-weight: bold\">0.039802126586437225</span>                                     <a href=\"file:///home/itrushkin/.virtualenvs/openfl_research/lib/python3.8/site-packages/openfl/component/collaborator/collaborator.py\"><span style=\"color: #7f7f7f\">collaborator.py</span></a><span style=\"color: #7f7f7f\">:365</span>\n",
       "</pre>\n"
      ],
      "text/plain": [
       "<rich.jupyter.JupyterRenderable at 0x7fbc08162250>"
      ]
     },
     "metadata": {},
     "output_type": "display_data"
    },
    {
     "data": {
      "text/html": [
       "<pre style=\"white-space:pre;overflow-x:auto;line-height:normal;font-family:Menlo,'DejaVu Sans Mono',consolas,'Courier New',monospace\"><span style=\"color: #7fbfbf\">           </span><span style=\"color: #000080\">INFO</span>     Collaborator two is sending task results for train, round <span style=\"color: #000080; font-weight: bold\">2</span>                                                                <a href=\"file:///home/itrushkin/.virtualenvs/openfl_research/lib/python3.8/site-packages/openfl/component/aggregator/aggregator.py\"><span style=\"color: #7f7f7f\">aggregator.py</span></a><span style=\"color: #7f7f7f\">:428</span>\n",
       "</pre>\n"
      ],
      "text/plain": [
       "<rich.jupyter.JupyterRenderable at 0x7fbc08162fd0>"
      ]
     },
     "metadata": {},
     "output_type": "display_data"
    },
    {
     "data": {
      "text/html": [
       "<pre style=\"white-space:pre;overflow-x:auto;line-height:normal;font-family:Menlo,'DejaVu Sans Mono',consolas,'Courier New',monospace\"><span style=\"color: #7fbfbf\">           </span><span style=\"color: #000080\">INFO</span>     Sending metric for task locally_tuned_model_validation, round number <span style=\"color: #000080; font-weight: bold\">2</span>: acc     <span style=\"color: #000080; font-weight: bold\">0.9856</span>                                   <a href=\"file:///home/itrushkin/.virtualenvs/openfl_research/lib/python3.8/site-packages/openfl/component/collaborator/collaborator.py\"><span style=\"color: #7f7f7f\">collaborator.py</span></a><span style=\"color: #7f7f7f\">:365</span>\n",
       "</pre>\n"
      ],
      "text/plain": [
       "<rich.jupyter.JupyterRenderable at 0x7fbcfb469d30>"
      ]
     },
     "metadata": {},
     "output_type": "display_data"
    },
    {
     "data": {
      "text/html": [
       "<pre style=\"white-space:pre;overflow-x:auto;line-height:normal;font-family:Menlo,'DejaVu Sans Mono',consolas,'Courier New',monospace\"><span style=\"color: #7fbfbf\">           </span><span style=\"color: #000080\">INFO</span>     Collaborator two is sending task results for locally_tuned_model_validation, round <span style=\"color: #000080; font-weight: bold\">2</span>                                       <a href=\"file:///home/itrushkin/.virtualenvs/openfl_research/lib/python3.8/site-packages/openfl/component/aggregator/aggregator.py\"><span style=\"color: #7f7f7f\">aggregator.py</span></a><span style=\"color: #7f7f7f\">:428</span>\n",
       "</pre>\n"
      ],
      "text/plain": [
       "<rich.jupyter.JupyterRenderable at 0x7fbc081629a0>"
      ]
     },
     "metadata": {},
     "output_type": "display_data"
    },
    {
     "data": {
      "text/html": [
       "<pre style=\"white-space:pre;overflow-x:auto;line-height:normal;font-family:Menlo,'DejaVu Sans Mono',consolas,'Courier New',monospace\"><span style=\"color: #7fbfbf\">           </span><span style=\"color: #000080\">INFO</span>     train task metrics<span style=\"color: #808000\">...</span>                                                                                                      <a href=\"file:///home/itrushkin/.virtualenvs/openfl_research/lib/python3.8/site-packages/openfl/component/aggregator/aggregator.py\"><span style=\"color: #7f7f7f\">aggregator.py</span></a><span style=\"color: #7f7f7f\">:694</span>\n",
       "</pre>\n"
      ],
      "text/plain": [
       "<rich.jupyter.JupyterRenderable at 0x7fbc08162070>"
      ]
     },
     "metadata": {},
     "output_type": "display_data"
    },
    {
     "data": {
      "text/html": [
       "<pre style=\"white-space:pre;overflow-x:auto;line-height:normal;font-family:Menlo,'DejaVu Sans Mono',consolas,'Courier New',monospace\"><span style=\"color: #7fbfbf\">           </span><span style=\"color: #000080\">INFO</span>     <span style=\"font-weight: bold\">&lt;</span><span style=\"color: #ff00ff; font-weight: bold\">__main__.ClippedAveraging</span><span style=\"color: #000000\"> object at </span><span style=\"color: #000080; font-weight: bold\">0x7fbc08100940</span><span style=\"font-weight: bold\">&gt;</span> cross_entropy:     <span style=\"color: #000080; font-weight: bold\">0.0394</span>                                             <a href=\"file:///home/itrushkin/.virtualenvs/openfl_research/lib/python3.8/site-packages/openfl/component/aggregator/aggregator.py\"><span style=\"color: #7f7f7f\">aggregator.py</span></a><span style=\"color: #7f7f7f\">:738</span>\n",
       "</pre>\n"
      ],
      "text/plain": [
       "<rich.jupyter.JupyterRenderable at 0x7fbc08162bb0>"
      ]
     },
     "metadata": {},
     "output_type": "display_data"
    },
    {
     "data": {
      "text/html": [
       "<pre style=\"white-space:pre;overflow-x:auto;line-height:normal;font-family:Menlo,'DejaVu Sans Mono',consolas,'Courier New',monospace\"><span style=\"color: #7fbfbf\">[13:10:01] </span><span style=\"color: #000080\">INFO</span>     aggregated_model_validation task metrics<span style=\"color: #808000\">...</span>                                                                                <a href=\"file:///home/itrushkin/.virtualenvs/openfl_research/lib/python3.8/site-packages/openfl/component/aggregator/aggregator.py\"><span style=\"color: #7f7f7f\">aggregator.py</span></a><span style=\"color: #7f7f7f\">:694</span>\n",
       "</pre>\n"
      ],
      "text/plain": [
       "<rich.jupyter.JupyterRenderable at 0x7fbc0a8e4760>"
      ]
     },
     "metadata": {},
     "output_type": "display_data"
    },
    {
     "data": {
      "text/html": [
       "<pre style=\"white-space:pre;overflow-x:auto;line-height:normal;font-family:Menlo,'DejaVu Sans Mono',consolas,'Courier New',monospace\"><span style=\"color: #7fbfbf\">           </span><span style=\"color: #000080\">INFO</span>     acc:    <span style=\"color: #000080; font-weight: bold\">0.9861</span>                                                                                                             <a href=\"file:///home/itrushkin/.virtualenvs/openfl_research/lib/python3.8/site-packages/openfl/component/aggregator/aggregator.py\"><span style=\"color: #7f7f7f\">aggregator.py</span></a><span style=\"color: #7f7f7f\">:742</span>\n",
       "</pre>\n"
      ],
      "text/plain": [
       "<rich.jupyter.JupyterRenderable at 0x7fbc081627f0>"
      ]
     },
     "metadata": {},
     "output_type": "display_data"
    },
    {
     "data": {
      "text/html": [
       "<pre style=\"white-space:pre;overflow-x:auto;line-height:normal;font-family:Menlo,'DejaVu Sans Mono',consolas,'Courier New',monospace\"><span style=\"color: #7fbfbf\">           </span><span style=\"color: #000080\">INFO</span>     Saved the best model with score <span style=\"color: #000080; font-weight: bold\">0.986100</span>                                                                                   <a href=\"file:///home/itrushkin/.virtualenvs/openfl_research/lib/python3.8/site-packages/openfl/component/aggregator/aggregator.py\"><span style=\"color: #7f7f7f\">aggregator.py</span></a><span style=\"color: #7f7f7f\">:749</span>\n",
       "</pre>\n"
      ],
      "text/plain": [
       "<rich.jupyter.JupyterRenderable at 0x7fbc081629a0>"
      ]
     },
     "metadata": {},
     "output_type": "display_data"
    },
    {
     "data": {
      "text/html": [
       "<pre style=\"white-space:pre;overflow-x:auto;line-height:normal;font-family:Menlo,'DejaVu Sans Mono',consolas,'Courier New',monospace\"><span style=\"color: #7fbfbf\">           </span><span style=\"color: #000080\">INFO</span>     locally_tuned_model_validation task metrics<span style=\"color: #808000\">...</span>                                                                             <a href=\"file:///home/itrushkin/.virtualenvs/openfl_research/lib/python3.8/site-packages/openfl/component/aggregator/aggregator.py\"><span style=\"color: #7f7f7f\">aggregator.py</span></a><span style=\"color: #7f7f7f\">:694</span>\n",
       "</pre>\n"
      ],
      "text/plain": [
       "<rich.jupyter.JupyterRenderable at 0x7fbc081be940>"
      ]
     },
     "metadata": {},
     "output_type": "display_data"
    },
    {
     "data": {
      "text/html": [
       "<pre style=\"white-space:pre;overflow-x:auto;line-height:normal;font-family:Menlo,'DejaVu Sans Mono',consolas,'Courier New',monospace\"><span style=\"color: #7fbfbf\">           </span><span style=\"color: #000080\">INFO</span>     acc:    <span style=\"color: #000080; font-weight: bold\">0.9844</span>                                                                                                             <a href=\"file:///home/itrushkin/.virtualenvs/openfl_research/lib/python3.8/site-packages/openfl/component/aggregator/aggregator.py\"><span style=\"color: #7f7f7f\">aggregator.py</span></a><span style=\"color: #7f7f7f\">:742</span>\n",
       "</pre>\n"
      ],
      "text/plain": [
       "<rich.jupyter.JupyterRenderable at 0x7fbc08162d90>"
      ]
     },
     "metadata": {},
     "output_type": "display_data"
    },
    {
     "data": {
      "text/html": [
       "<pre style=\"white-space:pre;overflow-x:auto;line-height:normal;font-family:Menlo,'DejaVu Sans Mono',consolas,'Courier New',monospace\"><span style=\"color: #7fbfbf\">           </span><span style=\"color: #000080\">INFO</span>     Saving round <span style=\"color: #000080; font-weight: bold\">3</span> model<span style=\"color: #808000\">...</span>                                                                                                    <a href=\"file:///home/itrushkin/.virtualenvs/openfl_research/lib/python3.8/site-packages/openfl/component/aggregator/aggregator.py\"><span style=\"color: #7f7f7f\">aggregator.py</span></a><span style=\"color: #7f7f7f\">:783</span>\n",
       "</pre>\n"
      ],
      "text/plain": [
       "<rich.jupyter.JupyterRenderable at 0x7fbc08162070>"
      ]
     },
     "metadata": {},
     "output_type": "display_data"
    },
    {
     "data": {
      "text/html": [
       "<pre style=\"white-space:pre;overflow-x:auto;line-height:normal;font-family:Menlo,'DejaVu Sans Mono',consolas,'Courier New',monospace\"><span style=\"color: #7fbfbf\">           </span><span style=\"color: #000080\">INFO</span>     Starting round <span style=\"color: #000080; font-weight: bold\">3</span><span style=\"color: #808000\">...</span>                                                                                                        <a href=\"file:///home/itrushkin/.virtualenvs/openfl_research/lib/python3.8/site-packages/openfl/component/aggregator/aggregator.py\"><span style=\"color: #7f7f7f\">aggregator.py</span></a><span style=\"color: #7f7f7f\">:791</span>\n",
       "</pre>\n"
      ],
      "text/plain": [
       "<rich.jupyter.JupyterRenderable at 0x7fbc081c1250>"
      ]
     },
     "metadata": {},
     "output_type": "display_data"
    },
    {
     "data": {
      "text/html": [
       "<pre style=\"white-space:pre;overflow-x:auto;line-height:normal;font-family:Menlo,'DejaVu Sans Mono',consolas,'Courier New',monospace\"><span style=\"color: #7fbfbf\">           </span><span style=\"color: #000080\">INFO</span>     All tasks completed on two for round <span style=\"color: #000080; font-weight: bold\">2</span><span style=\"color: #808000\">...</span>                                                                                <a href=\"file:///home/itrushkin/.virtualenvs/openfl_research/lib/python3.8/site-packages/openfl/component/collaborator/collaborator.py\"><span style=\"color: #7f7f7f\">collaborator.py</span></a><span style=\"color: #7f7f7f\">:148</span>\n",
       "</pre>\n"
      ],
      "text/plain": [
       "<rich.jupyter.JupyterRenderable at 0x7fbc0a8e4700>"
      ]
     },
     "metadata": {},
     "output_type": "display_data"
    },
    {
     "data": {
      "text/html": [
       "<pre style=\"white-space:pre;overflow-x:auto;line-height:normal;font-family:Menlo,'DejaVu Sans Mono',consolas,'Courier New',monospace\"><span style=\"color: #7fbfbf\">           </span><span style=\"color: #000080\">INFO</span>     Waiting for tasks<span style=\"color: #808000\">...</span>                                                                                                     <a href=\"file:///home/itrushkin/.virtualenvs/openfl_research/lib/python3.8/site-packages/openfl/component/collaborator/collaborator.py\"><span style=\"color: #7f7f7f\">collaborator.py</span></a><span style=\"color: #7f7f7f\">:156</span>\n",
       "</pre>\n"
      ],
      "text/plain": [
       "<rich.jupyter.JupyterRenderable at 0x7fbc1113df40>"
      ]
     },
     "metadata": {},
     "output_type": "display_data"
    },
    {
     "data": {
      "text/html": [
       "<pre style=\"white-space:pre;overflow-x:auto;line-height:normal;font-family:Menlo,'DejaVu Sans Mono',consolas,'Courier New',monospace\"><span style=\"color: #7fbfbf\">           </span><span style=\"color: #000080\">INFO</span>     Sending tasks to collaborator one for round <span style=\"color: #000080; font-weight: bold\">3</span>                                                                              <a href=\"file:///home/itrushkin/.virtualenvs/openfl_research/lib/python3.8/site-packages/openfl/component/aggregator/aggregator.py\"><span style=\"color: #7f7f7f\">aggregator.py</span></a><span style=\"color: #7f7f7f\">:276</span>\n",
       "</pre>\n"
      ],
      "text/plain": [
       "<rich.jupyter.JupyterRenderable at 0x7fbc081c1730>"
      ]
     },
     "metadata": {},
     "output_type": "display_data"
    },
    {
     "data": {
      "text/html": [
       "<pre style=\"white-space:pre;overflow-x:auto;line-height:normal;font-family:Menlo,'DejaVu Sans Mono',consolas,'Courier New',monospace\"><span style=\"color: #7fbfbf\">           </span><span style=\"color: #000080\">INFO</span>     Received the following tasks: <span style=\"font-weight: bold\">[</span><span style=\"color: #008000\">'aggregated_model_validation'</span>, <span style=\"color: #008000\">'train'</span>, <span style=\"color: #008000\">'locally_tuned_model_validation'</span><span style=\"font-weight: bold\">]</span>                 <a href=\"file:///home/itrushkin/.virtualenvs/openfl_research/lib/python3.8/site-packages/openfl/component/collaborator/collaborator.py\"><span style=\"color: #7f7f7f\">collaborator.py</span></a><span style=\"color: #7f7f7f\">:144</span>\n",
       "</pre>\n"
      ],
      "text/plain": [
       "<rich.jupyter.JupyterRenderable at 0x7fbc1113d7f0>"
      ]
     },
     "metadata": {},
     "output_type": "display_data"
    },
    {
     "data": {
      "text/html": [
       "<pre style=\"white-space:pre;overflow-x:auto;line-height:normal;font-family:Menlo,'DejaVu Sans Mono',consolas,'Courier New',monospace\"><span style=\"color: #7fbfbf\">           </span><span style=\"color: #000080\">INFO</span>     Sending metric for task aggregated_model_validation, round number <span style=\"color: #000080; font-weight: bold\">3</span>: acc        <span style=\"color: #000080; font-weight: bold\">0.987</span>                                    <a href=\"file:///home/itrushkin/.virtualenvs/openfl_research/lib/python3.8/site-packages/openfl/component/collaborator/collaborator.py\"><span style=\"color: #7f7f7f\">collaborator.py</span></a><span style=\"color: #7f7f7f\">:365</span>\n",
       "</pre>\n"
      ],
      "text/plain": [
       "<rich.jupyter.JupyterRenderable at 0x7fbc081be6a0>"
      ]
     },
     "metadata": {},
     "output_type": "display_data"
    },
    {
     "data": {
      "text/html": [
       "<pre style=\"white-space:pre;overflow-x:auto;line-height:normal;font-family:Menlo,'DejaVu Sans Mono',consolas,'Courier New',monospace\"><span style=\"color: #7fbfbf\">           </span><span style=\"color: #000080\">INFO</span>     Collaborator one is sending task results for aggregated_model_validation, round <span style=\"color: #000080; font-weight: bold\">3</span>                                          <a href=\"file:///home/itrushkin/.virtualenvs/openfl_research/lib/python3.8/site-packages/openfl/component/aggregator/aggregator.py\"><span style=\"color: #7f7f7f\">aggregator.py</span></a><span style=\"color: #7f7f7f\">:428</span>\n",
       "</pre>\n"
      ],
      "text/plain": [
       "<rich.jupyter.JupyterRenderable at 0x7fbc081bebe0>"
      ]
     },
     "metadata": {},
     "output_type": "display_data"
    },
    {
     "data": {
      "text/html": [
       "<pre style=\"white-space:pre;overflow-x:auto;line-height:normal;font-family:Menlo,'DejaVu Sans Mono',consolas,'Courier New',monospace\"><span style=\"color: #7fbfbf\">[13:10:05] </span><span style=\"color: #000080\">INFO</span>     Sending metric for task train, round number <span style=\"color: #000080; font-weight: bold\">3</span>: cross_entropy    <span style=\"color: #000080; font-weight: bold\">0.03453611209988594</span>                                      <a href=\"file:///home/itrushkin/.virtualenvs/openfl_research/lib/python3.8/site-packages/openfl/component/collaborator/collaborator.py\"><span style=\"color: #7f7f7f\">collaborator.py</span></a><span style=\"color: #7f7f7f\">:365</span>\n",
       "</pre>\n"
      ],
      "text/plain": [
       "<rich.jupyter.JupyterRenderable at 0x7fbc081bad30>"
      ]
     },
     "metadata": {},
     "output_type": "display_data"
    },
    {
     "data": {
      "text/html": [
       "<pre style=\"white-space:pre;overflow-x:auto;line-height:normal;font-family:Menlo,'DejaVu Sans Mono',consolas,'Courier New',monospace\"><span style=\"color: #7fbfbf\">           </span><span style=\"color: #000080\">INFO</span>     Collaborator one is sending task results for train, round <span style=\"color: #000080; font-weight: bold\">3</span>                                                                <a href=\"file:///home/itrushkin/.virtualenvs/openfl_research/lib/python3.8/site-packages/openfl/component/aggregator/aggregator.py\"><span style=\"color: #7f7f7f\">aggregator.py</span></a><span style=\"color: #7f7f7f\">:428</span>\n",
       "</pre>\n"
      ],
      "text/plain": [
       "<rich.jupyter.JupyterRenderable at 0x7fbc081ba8b0>"
      ]
     },
     "metadata": {},
     "output_type": "display_data"
    },
    {
     "data": {
      "text/html": [
       "<pre style=\"white-space:pre;overflow-x:auto;line-height:normal;font-family:Menlo,'DejaVu Sans Mono',consolas,'Courier New',monospace\"><span style=\"color: #7fbfbf\">           </span><span style=\"color: #000080\">INFO</span>     Sending metric for task locally_tuned_model_validation, round number <span style=\"color: #000080; font-weight: bold\">3</span>: acc     <span style=\"color: #000080; font-weight: bold\">0.9852</span>                                   <a href=\"file:///home/itrushkin/.virtualenvs/openfl_research/lib/python3.8/site-packages/openfl/component/collaborator/collaborator.py\"><span style=\"color: #7f7f7f\">collaborator.py</span></a><span style=\"color: #7f7f7f\">:365</span>\n",
       "</pre>\n"
      ],
      "text/plain": [
       "<rich.jupyter.JupyterRenderable at 0x7fbc081a95e0>"
      ]
     },
     "metadata": {},
     "output_type": "display_data"
    },
    {
     "data": {
      "text/html": [
       "<pre style=\"white-space:pre;overflow-x:auto;line-height:normal;font-family:Menlo,'DejaVu Sans Mono',consolas,'Courier New',monospace\"><span style=\"color: #7fbfbf\">           </span><span style=\"color: #000080\">INFO</span>     Collaborator one is sending task results for locally_tuned_model_validation, round <span style=\"color: #000080; font-weight: bold\">3</span>                                       <a href=\"file:///home/itrushkin/.virtualenvs/openfl_research/lib/python3.8/site-packages/openfl/component/aggregator/aggregator.py\"><span style=\"color: #7f7f7f\">aggregator.py</span></a><span style=\"color: #7f7f7f\">:428</span>\n",
       "</pre>\n"
      ],
      "text/plain": [
       "<rich.jupyter.JupyterRenderable at 0x7fbc081a91c0>"
      ]
     },
     "metadata": {},
     "output_type": "display_data"
    },
    {
     "data": {
      "text/html": [
       "<pre style=\"white-space:pre;overflow-x:auto;line-height:normal;font-family:Menlo,'DejaVu Sans Mono',consolas,'Courier New',monospace\"><span style=\"color: #7fbfbf\">           </span><span style=\"color: #000080\">INFO</span>     All tasks completed on one for round <span style=\"color: #000080; font-weight: bold\">3</span><span style=\"color: #808000\">...</span>                                                                                <a href=\"file:///home/itrushkin/.virtualenvs/openfl_research/lib/python3.8/site-packages/openfl/component/collaborator/collaborator.py\"><span style=\"color: #7f7f7f\">collaborator.py</span></a><span style=\"color: #7f7f7f\">:148</span>\n",
       "</pre>\n"
      ],
      "text/plain": [
       "<rich.jupyter.JupyterRenderable at 0x7fbc081a9dc0>"
      ]
     },
     "metadata": {},
     "output_type": "display_data"
    },
    {
     "data": {
      "text/html": [
       "<pre style=\"white-space:pre;overflow-x:auto;line-height:normal;font-family:Menlo,'DejaVu Sans Mono',consolas,'Courier New',monospace\"><span style=\"color: #7fbfbf\">           </span><span style=\"color: #000080\">INFO</span>     Waiting for tasks<span style=\"color: #808000\">...</span>                                                                                                     <a href=\"file:///home/itrushkin/.virtualenvs/openfl_research/lib/python3.8/site-packages/openfl/component/collaborator/collaborator.py\"><span style=\"color: #7f7f7f\">collaborator.py</span></a><span style=\"color: #7f7f7f\">:156</span>\n",
       "</pre>\n"
      ],
      "text/plain": [
       "<rich.jupyter.JupyterRenderable at 0x7fbc081a9eb0>"
      ]
     },
     "metadata": {},
     "output_type": "display_data"
    },
    {
     "data": {
      "text/html": [
       "<pre style=\"white-space:pre;overflow-x:auto;line-height:normal;font-family:Menlo,'DejaVu Sans Mono',consolas,'Courier New',monospace\"><span style=\"color: #7fbfbf\">           </span><span style=\"color: #000080\">INFO</span>     Sending tasks to collaborator two for round <span style=\"color: #000080; font-weight: bold\">3</span>                                                                              <a href=\"file:///home/itrushkin/.virtualenvs/openfl_research/lib/python3.8/site-packages/openfl/component/aggregator/aggregator.py\"><span style=\"color: #7f7f7f\">aggregator.py</span></a><span style=\"color: #7f7f7f\">:276</span>\n",
       "</pre>\n"
      ],
      "text/plain": [
       "<rich.jupyter.JupyterRenderable at 0x7fbc081a90d0>"
      ]
     },
     "metadata": {},
     "output_type": "display_data"
    },
    {
     "data": {
      "text/html": [
       "<pre style=\"white-space:pre;overflow-x:auto;line-height:normal;font-family:Menlo,'DejaVu Sans Mono',consolas,'Courier New',monospace\"><span style=\"color: #7fbfbf\">           </span><span style=\"color: #000080\">INFO</span>     Received the following tasks: <span style=\"font-weight: bold\">[</span><span style=\"color: #008000\">'aggregated_model_validation'</span>, <span style=\"color: #008000\">'train'</span>, <span style=\"color: #008000\">'locally_tuned_model_validation'</span><span style=\"font-weight: bold\">]</span>                 <a href=\"file:///home/itrushkin/.virtualenvs/openfl_research/lib/python3.8/site-packages/openfl/component/collaborator/collaborator.py\"><span style=\"color: #7f7f7f\">collaborator.py</span></a><span style=\"color: #7f7f7f\">:144</span>\n",
       "</pre>\n"
      ],
      "text/plain": [
       "<rich.jupyter.JupyterRenderable at 0x7fbc081a9520>"
      ]
     },
     "metadata": {},
     "output_type": "display_data"
    },
    {
     "data": {
      "text/html": [
       "<pre style=\"white-space:pre;overflow-x:auto;line-height:normal;font-family:Menlo,'DejaVu Sans Mono',consolas,'Courier New',monospace\"><span style=\"color: #7fbfbf\">           </span><span style=\"color: #000080\">INFO</span>     Sending metric for task aggregated_model_validation, round number <span style=\"color: #000080; font-weight: bold\">3</span>: acc        <span style=\"color: #000080; font-weight: bold\">0.9876</span>                                   <a href=\"file:///home/itrushkin/.virtualenvs/openfl_research/lib/python3.8/site-packages/openfl/component/collaborator/collaborator.py\"><span style=\"color: #7f7f7f\">collaborator.py</span></a><span style=\"color: #7f7f7f\">:365</span>\n",
       "</pre>\n"
      ],
      "text/plain": [
       "<rich.jupyter.JupyterRenderable at 0x7fbc0819d8b0>"
      ]
     },
     "metadata": {},
     "output_type": "display_data"
    },
    {
     "data": {
      "text/html": [
       "<pre style=\"white-space:pre;overflow-x:auto;line-height:normal;font-family:Menlo,'DejaVu Sans Mono',consolas,'Courier New',monospace\"><span style=\"color: #7fbfbf\">           </span><span style=\"color: #000080\">INFO</span>     Collaborator two is sending task results for aggregated_model_validation, round <span style=\"color: #000080; font-weight: bold\">3</span>                                          <a href=\"file:///home/itrushkin/.virtualenvs/openfl_research/lib/python3.8/site-packages/openfl/component/aggregator/aggregator.py\"><span style=\"color: #7f7f7f\">aggregator.py</span></a><span style=\"color: #7f7f7f\">:428</span>\n",
       "</pre>\n"
      ],
      "text/plain": [
       "<rich.jupyter.JupyterRenderable at 0x7fbc0819d3d0>"
      ]
     },
     "metadata": {},
     "output_type": "display_data"
    },
    {
     "data": {
      "text/html": [
       "<pre style=\"white-space:pre;overflow-x:auto;line-height:normal;font-family:Menlo,'DejaVu Sans Mono',consolas,'Courier New',monospace\"><span style=\"color: #7fbfbf\">[13:10:09] </span><span style=\"color: #000080\">INFO</span>     Sending metric for task train, round number <span style=\"color: #000080; font-weight: bold\">3</span>: cross_entropy    <span style=\"color: #000080; font-weight: bold\">0.034220196306705475</span>                                     <a href=\"file:///home/itrushkin/.virtualenvs/openfl_research/lib/python3.8/site-packages/openfl/component/collaborator/collaborator.py\"><span style=\"color: #7f7f7f\">collaborator.py</span></a><span style=\"color: #7f7f7f\">:365</span>\n",
       "</pre>\n"
      ],
      "text/plain": [
       "<rich.jupyter.JupyterRenderable at 0x7fbd141ff6a0>"
      ]
     },
     "metadata": {},
     "output_type": "display_data"
    },
    {
     "data": {
      "text/html": [
       "<pre style=\"white-space:pre;overflow-x:auto;line-height:normal;font-family:Menlo,'DejaVu Sans Mono',consolas,'Courier New',monospace\"><span style=\"color: #7fbfbf\">           </span><span style=\"color: #000080\">INFO</span>     Collaborator two is sending task results for train, round <span style=\"color: #000080; font-weight: bold\">3</span>                                                                <a href=\"file:///home/itrushkin/.virtualenvs/openfl_research/lib/python3.8/site-packages/openfl/component/aggregator/aggregator.py\"><span style=\"color: #7f7f7f\">aggregator.py</span></a><span style=\"color: #7f7f7f\">:428</span>\n",
       "</pre>\n"
      ],
      "text/plain": [
       "<rich.jupyter.JupyterRenderable at 0x7fbc0819d940>"
      ]
     },
     "metadata": {},
     "output_type": "display_data"
    },
    {
     "data": {
      "text/html": [
       "<pre style=\"white-space:pre;overflow-x:auto;line-height:normal;font-family:Menlo,'DejaVu Sans Mono',consolas,'Courier New',monospace\"><span style=\"color: #7fbfbf\">[13:10:10] </span><span style=\"color: #000080\">INFO</span>     Sending metric for task locally_tuned_model_validation, round number <span style=\"color: #000080; font-weight: bold\">3</span>: acc     <span style=\"color: #000080; font-weight: bold\">0.9874</span>                                   <a href=\"file:///home/itrushkin/.virtualenvs/openfl_research/lib/python3.8/site-packages/openfl/component/collaborator/collaborator.py\"><span style=\"color: #7f7f7f\">collaborator.py</span></a><span style=\"color: #7f7f7f\">:365</span>\n",
       "</pre>\n"
      ],
      "text/plain": [
       "<rich.jupyter.JupyterRenderable at 0x7fbcfb3fb370>"
      ]
     },
     "metadata": {},
     "output_type": "display_data"
    },
    {
     "data": {
      "text/html": [
       "<pre style=\"white-space:pre;overflow-x:auto;line-height:normal;font-family:Menlo,'DejaVu Sans Mono',consolas,'Courier New',monospace\"><span style=\"color: #7fbfbf\">           </span><span style=\"color: #000080\">INFO</span>     Collaborator two is sending task results for locally_tuned_model_validation, round <span style=\"color: #000080; font-weight: bold\">3</span>                                       <a href=\"file:///home/itrushkin/.virtualenvs/openfl_research/lib/python3.8/site-packages/openfl/component/aggregator/aggregator.py\"><span style=\"color: #7f7f7f\">aggregator.py</span></a><span style=\"color: #7f7f7f\">:428</span>\n",
       "</pre>\n"
      ],
      "text/plain": [
       "<rich.jupyter.JupyterRenderable at 0x7fbc0819d670>"
      ]
     },
     "metadata": {},
     "output_type": "display_data"
    },
    {
     "data": {
      "text/html": [
       "<pre style=\"white-space:pre;overflow-x:auto;line-height:normal;font-family:Menlo,'DejaVu Sans Mono',consolas,'Courier New',monospace\"><span style=\"color: #7fbfbf\">           </span><span style=\"color: #000080\">INFO</span>     train task metrics<span style=\"color: #808000\">...</span>                                                                                                      <a href=\"file:///home/itrushkin/.virtualenvs/openfl_research/lib/python3.8/site-packages/openfl/component/aggregator/aggregator.py\"><span style=\"color: #7f7f7f\">aggregator.py</span></a><span style=\"color: #7f7f7f\">:694</span>\n",
       "</pre>\n"
      ],
      "text/plain": [
       "<rich.jupyter.JupyterRenderable at 0x7fbc0819dca0>"
      ]
     },
     "metadata": {},
     "output_type": "display_data"
    },
    {
     "data": {
      "text/html": [
       "<pre style=\"white-space:pre;overflow-x:auto;line-height:normal;font-family:Menlo,'DejaVu Sans Mono',consolas,'Courier New',monospace\"><span style=\"color: #7fbfbf\">           </span><span style=\"color: #000080\">INFO</span>     <span style=\"font-weight: bold\">&lt;</span><span style=\"color: #ff00ff; font-weight: bold\">__main__.ClippedAveraging</span><span style=\"color: #000000\"> object at </span><span style=\"color: #000080; font-weight: bold\">0x7fbc08100940</span><span style=\"font-weight: bold\">&gt;</span> cross_entropy:     <span style=\"color: #000080; font-weight: bold\">0.0344</span>                                             <a href=\"file:///home/itrushkin/.virtualenvs/openfl_research/lib/python3.8/site-packages/openfl/component/aggregator/aggregator.py\"><span style=\"color: #7f7f7f\">aggregator.py</span></a><span style=\"color: #7f7f7f\">:738</span>\n",
       "</pre>\n"
      ],
      "text/plain": [
       "<rich.jupyter.JupyterRenderable at 0x7fbc0819d580>"
      ]
     },
     "metadata": {},
     "output_type": "display_data"
    },
    {
     "data": {
      "text/html": [
       "<pre style=\"white-space:pre;overflow-x:auto;line-height:normal;font-family:Menlo,'DejaVu Sans Mono',consolas,'Courier New',monospace\"><span style=\"color: #7fbfbf\">           </span><span style=\"color: #000080\">INFO</span>     aggregated_model_validation task metrics<span style=\"color: #808000\">...</span>                                                                                <a href=\"file:///home/itrushkin/.virtualenvs/openfl_research/lib/python3.8/site-packages/openfl/component/aggregator/aggregator.py\"><span style=\"color: #7f7f7f\">aggregator.py</span></a><span style=\"color: #7f7f7f\">:694</span>\n",
       "</pre>\n"
      ],
      "text/plain": [
       "<rich.jupyter.JupyterRenderable at 0x7fbc08162220>"
      ]
     },
     "metadata": {},
     "output_type": "display_data"
    },
    {
     "data": {
      "text/html": [
       "<pre style=\"white-space:pre;overflow-x:auto;line-height:normal;font-family:Menlo,'DejaVu Sans Mono',consolas,'Courier New',monospace\"><span style=\"color: #7fbfbf\">           </span><span style=\"color: #000080\">INFO</span>     acc:    <span style=\"color: #000080; font-weight: bold\">0.9873</span>                                                                                                             <a href=\"file:///home/itrushkin/.virtualenvs/openfl_research/lib/python3.8/site-packages/openfl/component/aggregator/aggregator.py\"><span style=\"color: #7f7f7f\">aggregator.py</span></a><span style=\"color: #7f7f7f\">:742</span>\n",
       "</pre>\n"
      ],
      "text/plain": [
       "<rich.jupyter.JupyterRenderable at 0x7fbc110eafa0>"
      ]
     },
     "metadata": {},
     "output_type": "display_data"
    },
    {
     "data": {
      "text/html": [
       "<pre style=\"white-space:pre;overflow-x:auto;line-height:normal;font-family:Menlo,'DejaVu Sans Mono',consolas,'Courier New',monospace\"><span style=\"color: #7fbfbf\">           </span><span style=\"color: #000080\">INFO</span>     Saved the best model with score <span style=\"color: #000080; font-weight: bold\">0.987300</span>                                                                                   <a href=\"file:///home/itrushkin/.virtualenvs/openfl_research/lib/python3.8/site-packages/openfl/component/aggregator/aggregator.py\"><span style=\"color: #7f7f7f\">aggregator.py</span></a><span style=\"color: #7f7f7f\">:749</span>\n",
       "</pre>\n"
      ],
      "text/plain": [
       "<rich.jupyter.JupyterRenderable at 0x7fbc08162c10>"
      ]
     },
     "metadata": {},
     "output_type": "display_data"
    },
    {
     "data": {
      "text/html": [
       "<pre style=\"white-space:pre;overflow-x:auto;line-height:normal;font-family:Menlo,'DejaVu Sans Mono',consolas,'Courier New',monospace\"><span style=\"color: #7fbfbf\">           </span><span style=\"color: #000080\">INFO</span>     locally_tuned_model_validation task metrics<span style=\"color: #808000\">...</span>                                                                             <a href=\"file:///home/itrushkin/.virtualenvs/openfl_research/lib/python3.8/site-packages/openfl/component/aggregator/aggregator.py\"><span style=\"color: #7f7f7f\">aggregator.py</span></a><span style=\"color: #7f7f7f\">:694</span>\n",
       "</pre>\n"
      ],
      "text/plain": [
       "<rich.jupyter.JupyterRenderable at 0x7fbc110ea430>"
      ]
     },
     "metadata": {},
     "output_type": "display_data"
    },
    {
     "data": {
      "text/html": [
       "<pre style=\"white-space:pre;overflow-x:auto;line-height:normal;font-family:Menlo,'DejaVu Sans Mono',consolas,'Courier New',monospace\"><span style=\"color: #7fbfbf\">           </span><span style=\"color: #000080\">INFO</span>     acc:    <span style=\"color: #000080; font-weight: bold\">0.9863</span>                                                                                                             <a href=\"file:///home/itrushkin/.virtualenvs/openfl_research/lib/python3.8/site-packages/openfl/component/aggregator/aggregator.py\"><span style=\"color: #7f7f7f\">aggregator.py</span></a><span style=\"color: #7f7f7f\">:742</span>\n",
       "</pre>\n"
      ],
      "text/plain": [
       "<rich.jupyter.JupyterRenderable at 0x7fbc081ca9a0>"
      ]
     },
     "metadata": {},
     "output_type": "display_data"
    },
    {
     "data": {
      "text/html": [
       "<pre style=\"white-space:pre;overflow-x:auto;line-height:normal;font-family:Menlo,'DejaVu Sans Mono',consolas,'Courier New',monospace\"><span style=\"color: #7fbfbf\">           </span><span style=\"color: #000080\">INFO</span>     Saving round <span style=\"color: #000080; font-weight: bold\">4</span> model<span style=\"color: #808000\">...</span>                                                                                                    <a href=\"file:///home/itrushkin/.virtualenvs/openfl_research/lib/python3.8/site-packages/openfl/component/aggregator/aggregator.py\"><span style=\"color: #7f7f7f\">aggregator.py</span></a><span style=\"color: #7f7f7f\">:783</span>\n",
       "</pre>\n"
      ],
      "text/plain": [
       "<rich.jupyter.JupyterRenderable at 0x7fbc081ca2b0>"
      ]
     },
     "metadata": {},
     "output_type": "display_data"
    },
    {
     "data": {
      "text/html": [
       "<pre style=\"white-space:pre;overflow-x:auto;line-height:normal;font-family:Menlo,'DejaVu Sans Mono',consolas,'Courier New',monospace\"><span style=\"color: #7fbfbf\">           </span><span style=\"color: #000080\">INFO</span>     Starting round <span style=\"color: #000080; font-weight: bold\">4</span><span style=\"color: #808000\">...</span>                                                                                                        <a href=\"file:///home/itrushkin/.virtualenvs/openfl_research/lib/python3.8/site-packages/openfl/component/aggregator/aggregator.py\"><span style=\"color: #7f7f7f\">aggregator.py</span></a><span style=\"color: #7f7f7f\">:791</span>\n",
       "</pre>\n"
      ],
      "text/plain": [
       "<rich.jupyter.JupyterRenderable at 0x7fbc110ea940>"
      ]
     },
     "metadata": {},
     "output_type": "display_data"
    },
    {
     "data": {
      "text/html": [
       "<pre style=\"white-space:pre;overflow-x:auto;line-height:normal;font-family:Menlo,'DejaVu Sans Mono',consolas,'Courier New',monospace\"><span style=\"color: #7fbfbf\">           </span><span style=\"color: #000080\">INFO</span>     All tasks completed on two for round <span style=\"color: #000080; font-weight: bold\">3</span><span style=\"color: #808000\">...</span>                                                                                <a href=\"file:///home/itrushkin/.virtualenvs/openfl_research/lib/python3.8/site-packages/openfl/component/collaborator/collaborator.py\"><span style=\"color: #7f7f7f\">collaborator.py</span></a><span style=\"color: #7f7f7f\">:148</span>\n",
       "</pre>\n"
      ],
      "text/plain": [
       "<rich.jupyter.JupyterRenderable at 0x7fbc08162c10>"
      ]
     },
     "metadata": {},
     "output_type": "display_data"
    },
    {
     "data": {
      "text/html": [
       "<pre style=\"white-space:pre;overflow-x:auto;line-height:normal;font-family:Menlo,'DejaVu Sans Mono',consolas,'Courier New',monospace\"><span style=\"color: #7fbfbf\">           </span><span style=\"color: #000080\">INFO</span>     Waiting for tasks<span style=\"color: #808000\">...</span>                                                                                                     <a href=\"file:///home/itrushkin/.virtualenvs/openfl_research/lib/python3.8/site-packages/openfl/component/collaborator/collaborator.py\"><span style=\"color: #7f7f7f\">collaborator.py</span></a><span style=\"color: #7f7f7f\">:156</span>\n",
       "</pre>\n"
      ],
      "text/plain": [
       "<rich.jupyter.JupyterRenderable at 0x7fbc081c1e80>"
      ]
     },
     "metadata": {},
     "output_type": "display_data"
    },
    {
     "data": {
      "text/html": [
       "<pre style=\"white-space:pre;overflow-x:auto;line-height:normal;font-family:Menlo,'DejaVu Sans Mono',consolas,'Courier New',monospace\"><span style=\"color: #7fbfbf\">           </span><span style=\"color: #000080\">INFO</span>     Sending tasks to collaborator one for round <span style=\"color: #000080; font-weight: bold\">4</span>                                                                              <a href=\"file:///home/itrushkin/.virtualenvs/openfl_research/lib/python3.8/site-packages/openfl/component/aggregator/aggregator.py\"><span style=\"color: #7f7f7f\">aggregator.py</span></a><span style=\"color: #7f7f7f\">:276</span>\n",
       "</pre>\n"
      ],
      "text/plain": [
       "<rich.jupyter.JupyterRenderable at 0x7fbc081ca670>"
      ]
     },
     "metadata": {},
     "output_type": "display_data"
    },
    {
     "data": {
      "text/html": [
       "<pre style=\"white-space:pre;overflow-x:auto;line-height:normal;font-family:Menlo,'DejaVu Sans Mono',consolas,'Courier New',monospace\"><span style=\"color: #7fbfbf\">           </span><span style=\"color: #000080\">INFO</span>     Received the following tasks: <span style=\"font-weight: bold\">[</span><span style=\"color: #008000\">'aggregated_model_validation'</span>, <span style=\"color: #008000\">'train'</span>, <span style=\"color: #008000\">'locally_tuned_model_validation'</span><span style=\"font-weight: bold\">]</span>                 <a href=\"file:///home/itrushkin/.virtualenvs/openfl_research/lib/python3.8/site-packages/openfl/component/collaborator/collaborator.py\"><span style=\"color: #7f7f7f\">collaborator.py</span></a><span style=\"color: #7f7f7f\">:144</span>\n",
       "</pre>\n"
      ],
      "text/plain": [
       "<rich.jupyter.JupyterRenderable at 0x7fbc08162d00>"
      ]
     },
     "metadata": {},
     "output_type": "display_data"
    },
    {
     "data": {
      "text/html": [
       "<pre style=\"white-space:pre;overflow-x:auto;line-height:normal;font-family:Menlo,'DejaVu Sans Mono',consolas,'Courier New',monospace\"><span style=\"color: #7fbfbf\">           </span><span style=\"color: #000080\">INFO</span>     Sending metric for task aggregated_model_validation, round number <span style=\"color: #000080; font-weight: bold\">4</span>: acc        <span style=\"color: #000080; font-weight: bold\">0.9884</span>                                   <a href=\"file:///home/itrushkin/.virtualenvs/openfl_research/lib/python3.8/site-packages/openfl/component/collaborator/collaborator.py\"><span style=\"color: #7f7f7f\">collaborator.py</span></a><span style=\"color: #7f7f7f\">:365</span>\n",
       "</pre>\n"
      ],
      "text/plain": [
       "<rich.jupyter.JupyterRenderable at 0x7fbc110eaf40>"
      ]
     },
     "metadata": {},
     "output_type": "display_data"
    },
    {
     "data": {
      "text/html": [
       "<pre style=\"white-space:pre;overflow-x:auto;line-height:normal;font-family:Menlo,'DejaVu Sans Mono',consolas,'Courier New',monospace\"><span style=\"color: #7fbfbf\">           </span><span style=\"color: #000080\">INFO</span>     Collaborator one is sending task results for aggregated_model_validation, round <span style=\"color: #000080; font-weight: bold\">4</span>                                          <a href=\"file:///home/itrushkin/.virtualenvs/openfl_research/lib/python3.8/site-packages/openfl/component/aggregator/aggregator.py\"><span style=\"color: #7f7f7f\">aggregator.py</span></a><span style=\"color: #7f7f7f\">:428</span>\n",
       "</pre>\n"
      ],
      "text/plain": [
       "<rich.jupyter.JupyterRenderable at 0x7fbd141ff220>"
      ]
     },
     "metadata": {},
     "output_type": "display_data"
    },
    {
     "data": {
      "text/html": [
       "<pre style=\"white-space:pre;overflow-x:auto;line-height:normal;font-family:Menlo,'DejaVu Sans Mono',consolas,'Courier New',monospace\"><span style=\"color: #7fbfbf\">[13:10:14] </span><span style=\"color: #000080\">INFO</span>     Sending metric for task train, round number <span style=\"color: #000080; font-weight: bold\">4</span>: cross_entropy    <span style=\"color: #000080; font-weight: bold\">0.030666908249258995</span>                                     <a href=\"file:///home/itrushkin/.virtualenvs/openfl_research/lib/python3.8/site-packages/openfl/component/collaborator/collaborator.py\"><span style=\"color: #7f7f7f\">collaborator.py</span></a><span style=\"color: #7f7f7f\">:365</span>\n",
       "</pre>\n"
      ],
      "text/plain": [
       "<rich.jupyter.JupyterRenderable at 0x7fbc0a91a9a0>"
      ]
     },
     "metadata": {},
     "output_type": "display_data"
    },
    {
     "data": {
      "text/html": [
       "<pre style=\"white-space:pre;overflow-x:auto;line-height:normal;font-family:Menlo,'DejaVu Sans Mono',consolas,'Courier New',monospace\"><span style=\"color: #7fbfbf\">           </span><span style=\"color: #000080\">INFO</span>     Collaborator one is sending task results for train, round <span style=\"color: #000080; font-weight: bold\">4</span>                                                                <a href=\"file:///home/itrushkin/.virtualenvs/openfl_research/lib/python3.8/site-packages/openfl/component/aggregator/aggregator.py\"><span style=\"color: #7f7f7f\">aggregator.py</span></a><span style=\"color: #7f7f7f\">:428</span>\n",
       "</pre>\n"
      ],
      "text/plain": [
       "<rich.jupyter.JupyterRenderable at 0x7fbc0a91a160>"
      ]
     },
     "metadata": {},
     "output_type": "display_data"
    },
    {
     "data": {
      "text/html": [
       "<pre style=\"white-space:pre;overflow-x:auto;line-height:normal;font-family:Menlo,'DejaVu Sans Mono',consolas,'Courier New',monospace\"><span style=\"color: #7fbfbf\">           </span><span style=\"color: #000080\">INFO</span>     Sending metric for task locally_tuned_model_validation, round number <span style=\"color: #000080; font-weight: bold\">4</span>: acc     <span style=\"color: #000080; font-weight: bold\">0.987</span>                                    <a href=\"file:///home/itrushkin/.virtualenvs/openfl_research/lib/python3.8/site-packages/openfl/component/collaborator/collaborator.py\"><span style=\"color: #7f7f7f\">collaborator.py</span></a><span style=\"color: #7f7f7f\">:365</span>\n",
       "</pre>\n"
      ],
      "text/plain": [
       "<rich.jupyter.JupyterRenderable at 0x7fbc110eafa0>"
      ]
     },
     "metadata": {},
     "output_type": "display_data"
    },
    {
     "data": {
      "text/html": [
       "<pre style=\"white-space:pre;overflow-x:auto;line-height:normal;font-family:Menlo,'DejaVu Sans Mono',consolas,'Courier New',monospace\"><span style=\"color: #7fbfbf\">           </span><span style=\"color: #000080\">INFO</span>     Collaborator one is sending task results for locally_tuned_model_validation, round <span style=\"color: #000080; font-weight: bold\">4</span>                                       <a href=\"file:///home/itrushkin/.virtualenvs/openfl_research/lib/python3.8/site-packages/openfl/component/aggregator/aggregator.py\"><span style=\"color: #7f7f7f\">aggregator.py</span></a><span style=\"color: #7f7f7f\">:428</span>\n",
       "</pre>\n"
      ],
      "text/plain": [
       "<rich.jupyter.JupyterRenderable at 0x7fbc081a95e0>"
      ]
     },
     "metadata": {},
     "output_type": "display_data"
    },
    {
     "data": {
      "text/html": [
       "<pre style=\"white-space:pre;overflow-x:auto;line-height:normal;font-family:Menlo,'DejaVu Sans Mono',consolas,'Courier New',monospace\"><span style=\"color: #7fbfbf\">           </span><span style=\"color: #000080\">INFO</span>     All tasks completed on one for round <span style=\"color: #000080; font-weight: bold\">4</span><span style=\"color: #808000\">...</span>                                                                                <a href=\"file:///home/itrushkin/.virtualenvs/openfl_research/lib/python3.8/site-packages/openfl/component/collaborator/collaborator.py\"><span style=\"color: #7f7f7f\">collaborator.py</span></a><span style=\"color: #7f7f7f\">:148</span>\n",
       "</pre>\n"
      ],
      "text/plain": [
       "<rich.jupyter.JupyterRenderable at 0x7fbc0a91a280>"
      ]
     },
     "metadata": {},
     "output_type": "display_data"
    },
    {
     "data": {
      "text/html": [
       "<pre style=\"white-space:pre;overflow-x:auto;line-height:normal;font-family:Menlo,'DejaVu Sans Mono',consolas,'Courier New',monospace\"><span style=\"color: #7fbfbf\">           </span><span style=\"color: #000080\">INFO</span>     Waiting for tasks<span style=\"color: #808000\">...</span>                                                                                                     <a href=\"file:///home/itrushkin/.virtualenvs/openfl_research/lib/python3.8/site-packages/openfl/component/collaborator/collaborator.py\"><span style=\"color: #7f7f7f\">collaborator.py</span></a><span style=\"color: #7f7f7f\">:156</span>\n",
       "</pre>\n"
      ],
      "text/plain": [
       "<rich.jupyter.JupyterRenderable at 0x7fbc0a91a820>"
      ]
     },
     "metadata": {},
     "output_type": "display_data"
    },
    {
     "data": {
      "text/html": [
       "<pre style=\"white-space:pre;overflow-x:auto;line-height:normal;font-family:Menlo,'DejaVu Sans Mono',consolas,'Courier New',monospace\"><span style=\"color: #7fbfbf\">           </span><span style=\"color: #000080\">INFO</span>     Sending tasks to collaborator two for round <span style=\"color: #000080; font-weight: bold\">4</span>                                                                              <a href=\"file:///home/itrushkin/.virtualenvs/openfl_research/lib/python3.8/site-packages/openfl/component/aggregator/aggregator.py\"><span style=\"color: #7f7f7f\">aggregator.py</span></a><span style=\"color: #7f7f7f\">:276</span>\n",
       "</pre>\n"
      ],
      "text/plain": [
       "<rich.jupyter.JupyterRenderable at 0x7fbc0a91a490>"
      ]
     },
     "metadata": {},
     "output_type": "display_data"
    },
    {
     "data": {
      "text/html": [
       "<pre style=\"white-space:pre;overflow-x:auto;line-height:normal;font-family:Menlo,'DejaVu Sans Mono',consolas,'Courier New',monospace\"><span style=\"color: #7fbfbf\">           </span><span style=\"color: #000080\">INFO</span>     Received the following tasks: <span style=\"font-weight: bold\">[</span><span style=\"color: #008000\">'aggregated_model_validation'</span>, <span style=\"color: #008000\">'train'</span>, <span style=\"color: #008000\">'locally_tuned_model_validation'</span><span style=\"font-weight: bold\">]</span>                 <a href=\"file:///home/itrushkin/.virtualenvs/openfl_research/lib/python3.8/site-packages/openfl/component/collaborator/collaborator.py\"><span style=\"color: #7f7f7f\">collaborator.py</span></a><span style=\"color: #7f7f7f\">:144</span>\n",
       "</pre>\n"
      ],
      "text/plain": [
       "<rich.jupyter.JupyterRenderable at 0x7fbc081a91c0>"
      ]
     },
     "metadata": {},
     "output_type": "display_data"
    },
    {
     "data": {
      "text/html": [
       "<pre style=\"white-space:pre;overflow-x:auto;line-height:normal;font-family:Menlo,'DejaVu Sans Mono',consolas,'Courier New',monospace\"><span style=\"color: #7fbfbf\">           </span><span style=\"color: #000080\">INFO</span>     Sending metric for task aggregated_model_validation, round number <span style=\"color: #000080; font-weight: bold\">4</span>: acc        <span style=\"color: #000080; font-weight: bold\">0.9876</span>                                   <a href=\"file:///home/itrushkin/.virtualenvs/openfl_research/lib/python3.8/site-packages/openfl/component/collaborator/collaborator.py\"><span style=\"color: #7f7f7f\">collaborator.py</span></a><span style=\"color: #7f7f7f\">:365</span>\n",
       "</pre>\n"
      ],
      "text/plain": [
       "<rich.jupyter.JupyterRenderable at 0x7fbc0a91a1c0>"
      ]
     },
     "metadata": {},
     "output_type": "display_data"
    },
    {
     "data": {
      "text/html": [
       "<pre style=\"white-space:pre;overflow-x:auto;line-height:normal;font-family:Menlo,'DejaVu Sans Mono',consolas,'Courier New',monospace\"><span style=\"color: #7fbfbf\">           </span><span style=\"color: #000080\">INFO</span>     Collaborator two is sending task results for aggregated_model_validation, round <span style=\"color: #000080; font-weight: bold\">4</span>                                          <a href=\"file:///home/itrushkin/.virtualenvs/openfl_research/lib/python3.8/site-packages/openfl/component/aggregator/aggregator.py\"><span style=\"color: #7f7f7f\">aggregator.py</span></a><span style=\"color: #7f7f7f\">:428</span>\n",
       "</pre>\n"
      ],
      "text/plain": [
       "<rich.jupyter.JupyterRenderable at 0x7fbc081a90d0>"
      ]
     },
     "metadata": {},
     "output_type": "display_data"
    },
    {
     "data": {
      "text/html": [
       "<pre style=\"white-space:pre;overflow-x:auto;line-height:normal;font-family:Menlo,'DejaVu Sans Mono',consolas,'Courier New',monospace\"><span style=\"color: #7fbfbf\">[13:10:19] </span><span style=\"color: #000080\">INFO</span>     Sending metric for task train, round number <span style=\"color: #000080; font-weight: bold\">4</span>: cross_entropy    <span style=\"color: #000080; font-weight: bold\">0.03044542856514454</span>                                      <a href=\"file:///home/itrushkin/.virtualenvs/openfl_research/lib/python3.8/site-packages/openfl/component/collaborator/collaborator.py\"><span style=\"color: #7f7f7f\">collaborator.py</span></a><span style=\"color: #7f7f7f\">:365</span>\n",
       "</pre>\n"
      ],
      "text/plain": [
       "<rich.jupyter.JupyterRenderable at 0x7fbc081a9fd0>"
      ]
     },
     "metadata": {},
     "output_type": "display_data"
    },
    {
     "data": {
      "text/html": [
       "<pre style=\"white-space:pre;overflow-x:auto;line-height:normal;font-family:Menlo,'DejaVu Sans Mono',consolas,'Courier New',monospace\"><span style=\"color: #7fbfbf\">           </span><span style=\"color: #000080\">INFO</span>     Collaborator two is sending task results for train, round <span style=\"color: #000080; font-weight: bold\">4</span>                                                                <a href=\"file:///home/itrushkin/.virtualenvs/openfl_research/lib/python3.8/site-packages/openfl/component/aggregator/aggregator.py\"><span style=\"color: #7f7f7f\">aggregator.py</span></a><span style=\"color: #7f7f7f\">:428</span>\n",
       "</pre>\n"
      ],
      "text/plain": [
       "<rich.jupyter.JupyterRenderable at 0x7fbc081a9f70>"
      ]
     },
     "metadata": {},
     "output_type": "display_data"
    },
    {
     "data": {
      "text/html": [
       "<pre style=\"white-space:pre;overflow-x:auto;line-height:normal;font-family:Menlo,'DejaVu Sans Mono',consolas,'Courier New',monospace\"><span style=\"color: #7fbfbf\">           </span><span style=\"color: #000080\">INFO</span>     Sending metric for task locally_tuned_model_validation, round number <span style=\"color: #000080; font-weight: bold\">4</span>: acc     <span style=\"color: #000080; font-weight: bold\">0.9866</span>                                   <a href=\"file:///home/itrushkin/.virtualenvs/openfl_research/lib/python3.8/site-packages/openfl/component/collaborator/collaborator.py\"><span style=\"color: #7f7f7f\">collaborator.py</span></a><span style=\"color: #7f7f7f\">:365</span>\n",
       "</pre>\n"
      ],
      "text/plain": [
       "<rich.jupyter.JupyterRenderable at 0x7fbc110ded30>"
      ]
     },
     "metadata": {},
     "output_type": "display_data"
    },
    {
     "data": {
      "text/html": [
       "<pre style=\"white-space:pre;overflow-x:auto;line-height:normal;font-family:Menlo,'DejaVu Sans Mono',consolas,'Courier New',monospace\"><span style=\"color: #7fbfbf\">           </span><span style=\"color: #000080\">INFO</span>     Collaborator two is sending task results for locally_tuned_model_validation, round <span style=\"color: #000080; font-weight: bold\">4</span>                                       <a href=\"file:///home/itrushkin/.virtualenvs/openfl_research/lib/python3.8/site-packages/openfl/component/aggregator/aggregator.py\"><span style=\"color: #7f7f7f\">aggregator.py</span></a><span style=\"color: #7f7f7f\">:428</span>\n",
       "</pre>\n"
      ],
      "text/plain": [
       "<rich.jupyter.JupyterRenderable at 0x7fbc081a96d0>"
      ]
     },
     "metadata": {},
     "output_type": "display_data"
    },
    {
     "data": {
      "text/html": [
       "<pre style=\"white-space:pre;overflow-x:auto;line-height:normal;font-family:Menlo,'DejaVu Sans Mono',consolas,'Courier New',monospace\"><span style=\"color: #7fbfbf\">           </span><span style=\"color: #000080\">INFO</span>     train task metrics<span style=\"color: #808000\">...</span>                                                                                                      <a href=\"file:///home/itrushkin/.virtualenvs/openfl_research/lib/python3.8/site-packages/openfl/component/aggregator/aggregator.py\"><span style=\"color: #7f7f7f\">aggregator.py</span></a><span style=\"color: #7f7f7f\">:694</span>\n",
       "</pre>\n"
      ],
      "text/plain": [
       "<rich.jupyter.JupyterRenderable at 0x7fbc110de460>"
      ]
     },
     "metadata": {},
     "output_type": "display_data"
    },
    {
     "data": {
      "text/html": [
       "<pre style=\"white-space:pre;overflow-x:auto;line-height:normal;font-family:Menlo,'DejaVu Sans Mono',consolas,'Courier New',monospace\"><span style=\"color: #7fbfbf\">           </span><span style=\"color: #000080\">INFO</span>     <span style=\"font-weight: bold\">&lt;</span><span style=\"color: #ff00ff; font-weight: bold\">__main__.ClippedAveraging</span><span style=\"color: #000000\"> object at </span><span style=\"color: #000080; font-weight: bold\">0x7fbc08100940</span><span style=\"font-weight: bold\">&gt;</span> cross_entropy:     <span style=\"color: #000080; font-weight: bold\">0.0306</span>                                             <a href=\"file:///home/itrushkin/.virtualenvs/openfl_research/lib/python3.8/site-packages/openfl/component/aggregator/aggregator.py\"><span style=\"color: #7f7f7f\">aggregator.py</span></a><span style=\"color: #7f7f7f\">:738</span>\n",
       "</pre>\n"
      ],
      "text/plain": [
       "<rich.jupyter.JupyterRenderable at 0x7fbcfb3fb370>"
      ]
     },
     "metadata": {},
     "output_type": "display_data"
    },
    {
     "data": {
      "text/html": [
       "<pre style=\"white-space:pre;overflow-x:auto;line-height:normal;font-family:Menlo,'DejaVu Sans Mono',consolas,'Courier New',monospace\"><span style=\"color: #7fbfbf\">           </span><span style=\"color: #000080\">INFO</span>     aggregated_model_validation task metrics<span style=\"color: #808000\">...</span>                                                                                <a href=\"file:///home/itrushkin/.virtualenvs/openfl_research/lib/python3.8/site-packages/openfl/component/aggregator/aggregator.py\"><span style=\"color: #7f7f7f\">aggregator.py</span></a><span style=\"color: #7f7f7f\">:694</span>\n",
       "</pre>\n"
      ],
      "text/plain": [
       "<rich.jupyter.JupyterRenderable at 0x7fbc08192190>"
      ]
     },
     "metadata": {},
     "output_type": "display_data"
    },
    {
     "data": {
      "text/html": [
       "<pre style=\"white-space:pre;overflow-x:auto;line-height:normal;font-family:Menlo,'DejaVu Sans Mono',consolas,'Courier New',monospace\"><span style=\"color: #7fbfbf\">           </span><span style=\"color: #000080\">INFO</span>     acc:    <span style=\"color: #000080; font-weight: bold\">0.9880</span>                                                                                                             <a href=\"file:///home/itrushkin/.virtualenvs/openfl_research/lib/python3.8/site-packages/openfl/component/aggregator/aggregator.py\"><span style=\"color: #7f7f7f\">aggregator.py</span></a><span style=\"color: #7f7f7f\">:742</span>\n",
       "</pre>\n"
      ],
      "text/plain": [
       "<rich.jupyter.JupyterRenderable at 0x7fbc110deb50>"
      ]
     },
     "metadata": {},
     "output_type": "display_data"
    },
    {
     "data": {
      "text/html": [
       "<pre style=\"white-space:pre;overflow-x:auto;line-height:normal;font-family:Menlo,'DejaVu Sans Mono',consolas,'Courier New',monospace\"><span style=\"color: #7fbfbf\">           </span><span style=\"color: #000080\">INFO</span>     Saved the best model with score <span style=\"color: #000080; font-weight: bold\">0.988000</span>                                                                                   <a href=\"file:///home/itrushkin/.virtualenvs/openfl_research/lib/python3.8/site-packages/openfl/component/aggregator/aggregator.py\"><span style=\"color: #7f7f7f\">aggregator.py</span></a><span style=\"color: #7f7f7f\">:749</span>\n",
       "</pre>\n"
      ],
      "text/plain": [
       "<rich.jupyter.JupyterRenderable at 0x7fbc08192190>"
      ]
     },
     "metadata": {},
     "output_type": "display_data"
    },
    {
     "data": {
      "text/html": [
       "<pre style=\"white-space:pre;overflow-x:auto;line-height:normal;font-family:Menlo,'DejaVu Sans Mono',consolas,'Courier New',monospace\"><span style=\"color: #7fbfbf\">           </span><span style=\"color: #000080\">INFO</span>     locally_tuned_model_validation task metrics<span style=\"color: #808000\">...</span>                                                                             <a href=\"file:///home/itrushkin/.virtualenvs/openfl_research/lib/python3.8/site-packages/openfl/component/aggregator/aggregator.py\"><span style=\"color: #7f7f7f\">aggregator.py</span></a><span style=\"color: #7f7f7f\">:694</span>\n",
       "</pre>\n"
      ],
      "text/plain": [
       "<rich.jupyter.JupyterRenderable at 0x7fbc081bed90>"
      ]
     },
     "metadata": {},
     "output_type": "display_data"
    },
    {
     "data": {
      "text/html": [
       "<pre style=\"white-space:pre;overflow-x:auto;line-height:normal;font-family:Menlo,'DejaVu Sans Mono',consolas,'Courier New',monospace\"><span style=\"color: #7fbfbf\">           </span><span style=\"color: #000080\">INFO</span>     acc:    <span style=\"color: #000080; font-weight: bold\">0.9868</span>                                                                                                             <a href=\"file:///home/itrushkin/.virtualenvs/openfl_research/lib/python3.8/site-packages/openfl/component/aggregator/aggregator.py\"><span style=\"color: #7f7f7f\">aggregator.py</span></a><span style=\"color: #7f7f7f\">:742</span>\n",
       "</pre>\n"
      ],
      "text/plain": [
       "<rich.jupyter.JupyterRenderable at 0x7fbc0819d5e0>"
      ]
     },
     "metadata": {},
     "output_type": "display_data"
    },
    {
     "data": {
      "text/html": [
       "<pre style=\"white-space:pre;overflow-x:auto;line-height:normal;font-family:Menlo,'DejaVu Sans Mono',consolas,'Courier New',monospace\"><span style=\"color: #7fbfbf\">           </span><span style=\"color: #000080\">INFO</span>     Saving round <span style=\"color: #000080; font-weight: bold\">5</span> model<span style=\"color: #808000\">...</span>                                                                                                    <a href=\"file:///home/itrushkin/.virtualenvs/openfl_research/lib/python3.8/site-packages/openfl/component/aggregator/aggregator.py\"><span style=\"color: #7f7f7f\">aggregator.py</span></a><span style=\"color: #7f7f7f\">:783</span>\n",
       "</pre>\n"
      ],
      "text/plain": [
       "<rich.jupyter.JupyterRenderable at 0x7fbc0819d970>"
      ]
     },
     "metadata": {},
     "output_type": "display_data"
    },
    {
     "data": {
      "text/html": [
       "<pre style=\"white-space:pre;overflow-x:auto;line-height:normal;font-family:Menlo,'DejaVu Sans Mono',consolas,'Courier New',monospace\"><span style=\"color: #7fbfbf\">           </span><span style=\"color: #000080\">INFO</span>     Experiment Completed. Cleaning up<span style=\"color: #808000\">...</span>                                                                                       <a href=\"file:///home/itrushkin/.virtualenvs/openfl_research/lib/python3.8/site-packages/openfl/component/aggregator/aggregator.py\"><span style=\"color: #7f7f7f\">aggregator.py</span></a><span style=\"color: #7f7f7f\">:789</span>\n",
       "</pre>\n"
      ],
      "text/plain": [
       "<rich.jupyter.JupyterRenderable at 0x7fbc0a91a3a0>"
      ]
     },
     "metadata": {},
     "output_type": "display_data"
    },
    {
     "data": {
      "text/html": [
       "<pre style=\"white-space:pre;overflow-x:auto;line-height:normal;font-family:Menlo,'DejaVu Sans Mono',consolas,'Courier New',monospace\"><span style=\"color: #7fbfbf\">           </span><span style=\"color: #000080\">INFO</span>     All tasks completed on two for round <span style=\"color: #000080; font-weight: bold\">4</span><span style=\"color: #808000\">...</span>                                                                                <a href=\"file:///home/itrushkin/.virtualenvs/openfl_research/lib/python3.8/site-packages/openfl/component/collaborator/collaborator.py\"><span style=\"color: #7f7f7f\">collaborator.py</span></a><span style=\"color: #7f7f7f\">:148</span>\n",
       "</pre>\n"
      ],
      "text/plain": [
       "<rich.jupyter.JupyterRenderable at 0x7fbc08192be0>"
      ]
     },
     "metadata": {},
     "output_type": "display_data"
    }
   ],
   "source": [
    "#Run experiment, return trained FederatedModel\n",
    "from openfl.component.aggregation_functions import AggregationFunctionInterface\n",
    "\n",
    "class ClippedAveraging(AggregationFunctionInterface):\n",
    "    def clip(self, tensor):\n",
    "        # clip could be any number of clipping functions\n",
    "        return tensor * .3\n",
    "    def __call__(self, tensors: np.ndarray, **kwargs) -> np.ndarray:\n",
    "        clipped_tensors = []\n",
    "        for tensor in tensors:\n",
    "            previous_tensor_value = kwargs['previous_tensor_value'] or tensor\n",
    "            # contents of \"history\" would be well documented\n",
    "            delta = tensor - previous_tensor_value\n",
    "            clipped_tensor = previous_tensor_value + self.clip(delta) \n",
    "            clipped_tensors.append(clipped_tensor)\n",
    "\n",
    "        return np.average(clipped_tensors, weights=kwargs['weights'], axis=0)\n",
    "    \n",
    "final_fl_model = fx.run_experiment(collaborators,\n",
    "                                   {\n",
    "                                       'aggregator.settings.rounds_to_train':5,\n",
    "                                       'tasks.train.aggregation_type': ClippedAveraging()\n",
    "                                   })"
   ]
  },
  {
   "cell_type": "code",
   "execution_count": 11,
   "metadata": {},
   "outputs": [
    {
     "ename": "AttributeError",
     "evalue": "type object 'TensorDB' has no attribute '__attrs__'",
     "output_type": "error",
     "traceback": [
      "\u001b[0;31m---------------------------------------------------------------------------\u001b[0m",
      "\u001b[0;31mAttributeError\u001b[0m                            Traceback (most recent call last)",
      "\u001b[0;32m<ipython-input-11-4e7c7c0f5a84>\u001b[0m in \u001b[0;36m<module>\u001b[0;34m\u001b[0m\n\u001b[1;32m      1\u001b[0m \u001b[0;32mfrom\u001b[0m \u001b[0mopenfl\u001b[0m\u001b[0;34m.\u001b[0m\u001b[0mdatabases\u001b[0m \u001b[0;32mimport\u001b[0m \u001b[0mTensorDB\u001b[0m\u001b[0;34m\u001b[0m\u001b[0;34m\u001b[0m\u001b[0m\n\u001b[1;32m      2\u001b[0m \u001b[0;34m\u001b[0m\u001b[0m\n\u001b[0;32m----> 3\u001b[0;31m \u001b[0mTensorDB\u001b[0m\u001b[0;34m.\u001b[0m\u001b[0m__attrs__\u001b[0m\u001b[0;34m\u001b[0m\u001b[0;34m\u001b[0m\u001b[0m\n\u001b[0m",
      "\u001b[0;31mAttributeError\u001b[0m: type object 'TensorDB' has no attribute '__attrs__'"
     ]
    }
   ],
   "source": [
    "from openfl.databases import TensorDB\n",
    "\n",
    "TensorDB.__attrs__"
   ]
  },
  {
   "cell_type": "code",
   "execution_count": null,
   "metadata": {},
   "outputs": [],
   "source": [
    "#Save final model\n",
    "final_fl_model.save_native('final_pytorch_model')"
   ]
  }
 ],
 "metadata": {
  "kernelspec": {
   "display_name": "Python 3",
   "language": "python",
   "name": "python3"
  },
  "language_info": {
   "codemirror_mode": {
    "name": "ipython",
    "version": 3
   },
   "file_extension": ".py",
   "mimetype": "text/x-python",
   "name": "python",
   "nbconvert_exporter": "python",
   "pygments_lexer": "ipython3",
   "version": "3.8.8"
  }
 },
 "nbformat": 4,
 "nbformat_minor": 4
}
